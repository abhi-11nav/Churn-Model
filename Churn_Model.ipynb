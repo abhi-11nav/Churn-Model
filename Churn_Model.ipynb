{
  "cells": [
    {
      "cell_type": "markdown",
      "metadata": {
        "id": "view-in-github",
        "colab_type": "text"
      },
      "source": [
        "<a href=\"https://colab.research.google.com/github/abhi-11nav/Churn-Model/blob/main/Churn_Model.ipynb\" target=\"_parent\"><img src=\"https://colab.research.google.com/assets/colab-badge.svg\" alt=\"Open In Colab\"/></a>"
      ]
    },
    {
      "cell_type": "code",
      "execution_count": 47,
      "metadata": {
        "id": "xLD1SrEb_TYO"
      },
      "outputs": [],
      "source": [
        "# Importing libraries for data visualization and manipulation\n",
        "\n",
        "import pandas as pd\n",
        "import numpy as np \n"
      ]
    },
    {
      "cell_type": "markdown",
      "metadata": {
        "id": "XxSG-bfyX_Uv"
      },
      "source": [
        "#### Source of the data \n",
        "https://www.kaggle.com/datasets/shubh0799/churn-modelling"
      ]
    },
    {
      "cell_type": "code",
      "execution_count": 48,
      "metadata": {
        "id": "Csm1MZc1_h0H"
      },
      "outputs": [],
      "source": [
        "# Mentioning the path of the dataset \n",
        "\n",
        "raw_dataset_link = \"https://raw.githubusercontent.com/abhi-11nav/Churn-Model/main/Churn_Modelling.csv.xls\""
      ]
    },
    {
      "cell_type": "code",
      "execution_count": 49,
      "metadata": {
        "id": "p8rxTBM-UpmG"
      },
      "outputs": [],
      "source": [
        "# Importing the dataset and assigning it to a variable. \n",
        "\n",
        "dataset = pd.read_csv(raw_dataset_link)"
      ]
    },
    {
      "cell_type": "code",
      "execution_count": 50,
      "metadata": {
        "colab": {
          "base_uri": "https://localhost:8080/",
          "height": 268
        },
        "id": "XCfXdVrVUtl7",
        "outputId": "b6595aa3-d364-4a64-f344-fc5094b08450"
      },
      "outputs": [
        {
          "output_type": "execute_result",
          "data": {
            "text/plain": [
              "   RowNumber  CustomerId   Surname  CreditScore Geography  Gender  Age  \\\n",
              "0          1    15634602  Hargrave          619    France  Female   42   \n",
              "1          2    15647311      Hill          608     Spain  Female   41   \n",
              "2          3    15619304      Onio          502    France  Female   42   \n",
              "3          4    15701354      Boni          699    France  Female   39   \n",
              "4          5    15737888  Mitchell          850     Spain  Female   43   \n",
              "\n",
              "   Tenure    Balance  NumOfProducts  HasCrCard  IsActiveMember  \\\n",
              "0       2       0.00              1          1               1   \n",
              "1       1   83807.86              1          0               1   \n",
              "2       8  159660.80              3          1               0   \n",
              "3       1       0.00              2          0               0   \n",
              "4       2  125510.82              1          1               1   \n",
              "\n",
              "   EstimatedSalary  Exited  \n",
              "0        101348.88       1  \n",
              "1        112542.58       0  \n",
              "2        113931.57       1  \n",
              "3         93826.63       0  \n",
              "4         79084.10       0  "
            ],
            "text/html": [
              "\n",
              "  <div id=\"df-07f85ce5-48f1-4bfc-8da3-1cc7024d6554\">\n",
              "    <div class=\"colab-df-container\">\n",
              "      <div>\n",
              "<style scoped>\n",
              "    .dataframe tbody tr th:only-of-type {\n",
              "        vertical-align: middle;\n",
              "    }\n",
              "\n",
              "    .dataframe tbody tr th {\n",
              "        vertical-align: top;\n",
              "    }\n",
              "\n",
              "    .dataframe thead th {\n",
              "        text-align: right;\n",
              "    }\n",
              "</style>\n",
              "<table border=\"1\" class=\"dataframe\">\n",
              "  <thead>\n",
              "    <tr style=\"text-align: right;\">\n",
              "      <th></th>\n",
              "      <th>RowNumber</th>\n",
              "      <th>CustomerId</th>\n",
              "      <th>Surname</th>\n",
              "      <th>CreditScore</th>\n",
              "      <th>Geography</th>\n",
              "      <th>Gender</th>\n",
              "      <th>Age</th>\n",
              "      <th>Tenure</th>\n",
              "      <th>Balance</th>\n",
              "      <th>NumOfProducts</th>\n",
              "      <th>HasCrCard</th>\n",
              "      <th>IsActiveMember</th>\n",
              "      <th>EstimatedSalary</th>\n",
              "      <th>Exited</th>\n",
              "    </tr>\n",
              "  </thead>\n",
              "  <tbody>\n",
              "    <tr>\n",
              "      <th>0</th>\n",
              "      <td>1</td>\n",
              "      <td>15634602</td>\n",
              "      <td>Hargrave</td>\n",
              "      <td>619</td>\n",
              "      <td>France</td>\n",
              "      <td>Female</td>\n",
              "      <td>42</td>\n",
              "      <td>2</td>\n",
              "      <td>0.00</td>\n",
              "      <td>1</td>\n",
              "      <td>1</td>\n",
              "      <td>1</td>\n",
              "      <td>101348.88</td>\n",
              "      <td>1</td>\n",
              "    </tr>\n",
              "    <tr>\n",
              "      <th>1</th>\n",
              "      <td>2</td>\n",
              "      <td>15647311</td>\n",
              "      <td>Hill</td>\n",
              "      <td>608</td>\n",
              "      <td>Spain</td>\n",
              "      <td>Female</td>\n",
              "      <td>41</td>\n",
              "      <td>1</td>\n",
              "      <td>83807.86</td>\n",
              "      <td>1</td>\n",
              "      <td>0</td>\n",
              "      <td>1</td>\n",
              "      <td>112542.58</td>\n",
              "      <td>0</td>\n",
              "    </tr>\n",
              "    <tr>\n",
              "      <th>2</th>\n",
              "      <td>3</td>\n",
              "      <td>15619304</td>\n",
              "      <td>Onio</td>\n",
              "      <td>502</td>\n",
              "      <td>France</td>\n",
              "      <td>Female</td>\n",
              "      <td>42</td>\n",
              "      <td>8</td>\n",
              "      <td>159660.80</td>\n",
              "      <td>3</td>\n",
              "      <td>1</td>\n",
              "      <td>0</td>\n",
              "      <td>113931.57</td>\n",
              "      <td>1</td>\n",
              "    </tr>\n",
              "    <tr>\n",
              "      <th>3</th>\n",
              "      <td>4</td>\n",
              "      <td>15701354</td>\n",
              "      <td>Boni</td>\n",
              "      <td>699</td>\n",
              "      <td>France</td>\n",
              "      <td>Female</td>\n",
              "      <td>39</td>\n",
              "      <td>1</td>\n",
              "      <td>0.00</td>\n",
              "      <td>2</td>\n",
              "      <td>0</td>\n",
              "      <td>0</td>\n",
              "      <td>93826.63</td>\n",
              "      <td>0</td>\n",
              "    </tr>\n",
              "    <tr>\n",
              "      <th>4</th>\n",
              "      <td>5</td>\n",
              "      <td>15737888</td>\n",
              "      <td>Mitchell</td>\n",
              "      <td>850</td>\n",
              "      <td>Spain</td>\n",
              "      <td>Female</td>\n",
              "      <td>43</td>\n",
              "      <td>2</td>\n",
              "      <td>125510.82</td>\n",
              "      <td>1</td>\n",
              "      <td>1</td>\n",
              "      <td>1</td>\n",
              "      <td>79084.10</td>\n",
              "      <td>0</td>\n",
              "    </tr>\n",
              "  </tbody>\n",
              "</table>\n",
              "</div>\n",
              "      <button class=\"colab-df-convert\" onclick=\"convertToInteractive('df-07f85ce5-48f1-4bfc-8da3-1cc7024d6554')\"\n",
              "              title=\"Convert this dataframe to an interactive table.\"\n",
              "              style=\"display:none;\">\n",
              "        \n",
              "  <svg xmlns=\"http://www.w3.org/2000/svg\" height=\"24px\"viewBox=\"0 0 24 24\"\n",
              "       width=\"24px\">\n",
              "    <path d=\"M0 0h24v24H0V0z\" fill=\"none\"/>\n",
              "    <path d=\"M18.56 5.44l.94 2.06.94-2.06 2.06-.94-2.06-.94-.94-2.06-.94 2.06-2.06.94zm-11 1L8.5 8.5l.94-2.06 2.06-.94-2.06-.94L8.5 2.5l-.94 2.06-2.06.94zm10 10l.94 2.06.94-2.06 2.06-.94-2.06-.94-.94-2.06-.94 2.06-2.06.94z\"/><path d=\"M17.41 7.96l-1.37-1.37c-.4-.4-.92-.59-1.43-.59-.52 0-1.04.2-1.43.59L10.3 9.45l-7.72 7.72c-.78.78-.78 2.05 0 2.83L4 21.41c.39.39.9.59 1.41.59.51 0 1.02-.2 1.41-.59l7.78-7.78 2.81-2.81c.8-.78.8-2.07 0-2.86zM5.41 20L4 18.59l7.72-7.72 1.47 1.35L5.41 20z\"/>\n",
              "  </svg>\n",
              "      </button>\n",
              "      \n",
              "  <style>\n",
              "    .colab-df-container {\n",
              "      display:flex;\n",
              "      flex-wrap:wrap;\n",
              "      gap: 12px;\n",
              "    }\n",
              "\n",
              "    .colab-df-convert {\n",
              "      background-color: #E8F0FE;\n",
              "      border: none;\n",
              "      border-radius: 50%;\n",
              "      cursor: pointer;\n",
              "      display: none;\n",
              "      fill: #1967D2;\n",
              "      height: 32px;\n",
              "      padding: 0 0 0 0;\n",
              "      width: 32px;\n",
              "    }\n",
              "\n",
              "    .colab-df-convert:hover {\n",
              "      background-color: #E2EBFA;\n",
              "      box-shadow: 0px 1px 2px rgba(60, 64, 67, 0.3), 0px 1px 3px 1px rgba(60, 64, 67, 0.15);\n",
              "      fill: #174EA6;\n",
              "    }\n",
              "\n",
              "    [theme=dark] .colab-df-convert {\n",
              "      background-color: #3B4455;\n",
              "      fill: #D2E3FC;\n",
              "    }\n",
              "\n",
              "    [theme=dark] .colab-df-convert:hover {\n",
              "      background-color: #434B5C;\n",
              "      box-shadow: 0px 1px 3px 1px rgba(0, 0, 0, 0.15);\n",
              "      filter: drop-shadow(0px 1px 2px rgba(0, 0, 0, 0.3));\n",
              "      fill: #FFFFFF;\n",
              "    }\n",
              "  </style>\n",
              "\n",
              "      <script>\n",
              "        const buttonEl =\n",
              "          document.querySelector('#df-07f85ce5-48f1-4bfc-8da3-1cc7024d6554 button.colab-df-convert');\n",
              "        buttonEl.style.display =\n",
              "          google.colab.kernel.accessAllowed ? 'block' : 'none';\n",
              "\n",
              "        async function convertToInteractive(key) {\n",
              "          const element = document.querySelector('#df-07f85ce5-48f1-4bfc-8da3-1cc7024d6554');\n",
              "          const dataTable =\n",
              "            await google.colab.kernel.invokeFunction('convertToInteractive',\n",
              "                                                     [key], {});\n",
              "          if (!dataTable) return;\n",
              "\n",
              "          const docLinkHtml = 'Like what you see? Visit the ' +\n",
              "            '<a target=\"_blank\" href=https://colab.research.google.com/notebooks/data_table.ipynb>data table notebook</a>'\n",
              "            + ' to learn more about interactive tables.';\n",
              "          element.innerHTML = '';\n",
              "          dataTable['output_type'] = 'display_data';\n",
              "          await google.colab.output.renderOutput(dataTable, element);\n",
              "          const docLink = document.createElement('div');\n",
              "          docLink.innerHTML = docLinkHtml;\n",
              "          element.appendChild(docLink);\n",
              "        }\n",
              "      </script>\n",
              "    </div>\n",
              "  </div>\n",
              "  "
            ]
          },
          "metadata": {},
          "execution_count": 50
        }
      ],
      "source": [
        "# printing the head of the dataset \n",
        "\n",
        "dataset.head()"
      ]
    },
    {
      "cell_type": "code",
      "execution_count": 51,
      "metadata": {
        "colab": {
          "base_uri": "https://localhost:8080/"
        },
        "id": "u2dxqdFfVHIm",
        "outputId": "c2b6c891-0094-46e2-c43f-ccfc8a0ef383"
      },
      "outputs": [
        {
          "output_type": "stream",
          "name": "stdout",
          "text": [
            "['RowNumber', 'CustomerId'] consists of all unique values. Hence, eliminate them\n",
            "\n",
            "Features with unique values deleted :-)\n"
          ]
        }
      ],
      "source": [
        "# Checking for features in data consisting of all unique values and deleting them \n",
        "\n",
        "\n",
        "col_list = []\n",
        "\n",
        "\n",
        "for cols in dataset.columns:\n",
        "  if len(dataset[cols].unique()) == dataset.shape[0]:\n",
        "    col_list.append(cols)\n",
        "\n",
        "if len(col_list)>0:\n",
        "  print(col_list,\"consists of all unique values. Hence, eliminate them\\n\")\n",
        "  dataset.drop(col_list,axis=1,inplace=True)\n",
        "  print(\"Features with unique values deleted :-)\")"
      ]
    },
    {
      "cell_type": "code",
      "execution_count": 52,
      "metadata": {
        "colab": {
          "base_uri": "https://localhost:8080/",
          "height": 268
        },
        "id": "B__CUqQ3VTni",
        "outputId": "7401aa2d-1d92-4029-d8fc-92aae46d61fc"
      },
      "outputs": [
        {
          "output_type": "execute_result",
          "data": {
            "text/plain": [
              "    Surname  CreditScore Geography  Gender  Age  Tenure    Balance  \\\n",
              "0  Hargrave          619    France  Female   42       2       0.00   \n",
              "1      Hill          608     Spain  Female   41       1   83807.86   \n",
              "2      Onio          502    France  Female   42       8  159660.80   \n",
              "3      Boni          699    France  Female   39       1       0.00   \n",
              "4  Mitchell          850     Spain  Female   43       2  125510.82   \n",
              "\n",
              "   NumOfProducts  HasCrCard  IsActiveMember  EstimatedSalary  Exited  \n",
              "0              1          1               1        101348.88       1  \n",
              "1              1          0               1        112542.58       0  \n",
              "2              3          1               0        113931.57       1  \n",
              "3              2          0               0         93826.63       0  \n",
              "4              1          1               1         79084.10       0  "
            ],
            "text/html": [
              "\n",
              "  <div id=\"df-f0d438c8-26ee-483d-b523-8db16698496b\">\n",
              "    <div class=\"colab-df-container\">\n",
              "      <div>\n",
              "<style scoped>\n",
              "    .dataframe tbody tr th:only-of-type {\n",
              "        vertical-align: middle;\n",
              "    }\n",
              "\n",
              "    .dataframe tbody tr th {\n",
              "        vertical-align: top;\n",
              "    }\n",
              "\n",
              "    .dataframe thead th {\n",
              "        text-align: right;\n",
              "    }\n",
              "</style>\n",
              "<table border=\"1\" class=\"dataframe\">\n",
              "  <thead>\n",
              "    <tr style=\"text-align: right;\">\n",
              "      <th></th>\n",
              "      <th>Surname</th>\n",
              "      <th>CreditScore</th>\n",
              "      <th>Geography</th>\n",
              "      <th>Gender</th>\n",
              "      <th>Age</th>\n",
              "      <th>Tenure</th>\n",
              "      <th>Balance</th>\n",
              "      <th>NumOfProducts</th>\n",
              "      <th>HasCrCard</th>\n",
              "      <th>IsActiveMember</th>\n",
              "      <th>EstimatedSalary</th>\n",
              "      <th>Exited</th>\n",
              "    </tr>\n",
              "  </thead>\n",
              "  <tbody>\n",
              "    <tr>\n",
              "      <th>0</th>\n",
              "      <td>Hargrave</td>\n",
              "      <td>619</td>\n",
              "      <td>France</td>\n",
              "      <td>Female</td>\n",
              "      <td>42</td>\n",
              "      <td>2</td>\n",
              "      <td>0.00</td>\n",
              "      <td>1</td>\n",
              "      <td>1</td>\n",
              "      <td>1</td>\n",
              "      <td>101348.88</td>\n",
              "      <td>1</td>\n",
              "    </tr>\n",
              "    <tr>\n",
              "      <th>1</th>\n",
              "      <td>Hill</td>\n",
              "      <td>608</td>\n",
              "      <td>Spain</td>\n",
              "      <td>Female</td>\n",
              "      <td>41</td>\n",
              "      <td>1</td>\n",
              "      <td>83807.86</td>\n",
              "      <td>1</td>\n",
              "      <td>0</td>\n",
              "      <td>1</td>\n",
              "      <td>112542.58</td>\n",
              "      <td>0</td>\n",
              "    </tr>\n",
              "    <tr>\n",
              "      <th>2</th>\n",
              "      <td>Onio</td>\n",
              "      <td>502</td>\n",
              "      <td>France</td>\n",
              "      <td>Female</td>\n",
              "      <td>42</td>\n",
              "      <td>8</td>\n",
              "      <td>159660.80</td>\n",
              "      <td>3</td>\n",
              "      <td>1</td>\n",
              "      <td>0</td>\n",
              "      <td>113931.57</td>\n",
              "      <td>1</td>\n",
              "    </tr>\n",
              "    <tr>\n",
              "      <th>3</th>\n",
              "      <td>Boni</td>\n",
              "      <td>699</td>\n",
              "      <td>France</td>\n",
              "      <td>Female</td>\n",
              "      <td>39</td>\n",
              "      <td>1</td>\n",
              "      <td>0.00</td>\n",
              "      <td>2</td>\n",
              "      <td>0</td>\n",
              "      <td>0</td>\n",
              "      <td>93826.63</td>\n",
              "      <td>0</td>\n",
              "    </tr>\n",
              "    <tr>\n",
              "      <th>4</th>\n",
              "      <td>Mitchell</td>\n",
              "      <td>850</td>\n",
              "      <td>Spain</td>\n",
              "      <td>Female</td>\n",
              "      <td>43</td>\n",
              "      <td>2</td>\n",
              "      <td>125510.82</td>\n",
              "      <td>1</td>\n",
              "      <td>1</td>\n",
              "      <td>1</td>\n",
              "      <td>79084.10</td>\n",
              "      <td>0</td>\n",
              "    </tr>\n",
              "  </tbody>\n",
              "</table>\n",
              "</div>\n",
              "      <button class=\"colab-df-convert\" onclick=\"convertToInteractive('df-f0d438c8-26ee-483d-b523-8db16698496b')\"\n",
              "              title=\"Convert this dataframe to an interactive table.\"\n",
              "              style=\"display:none;\">\n",
              "        \n",
              "  <svg xmlns=\"http://www.w3.org/2000/svg\" height=\"24px\"viewBox=\"0 0 24 24\"\n",
              "       width=\"24px\">\n",
              "    <path d=\"M0 0h24v24H0V0z\" fill=\"none\"/>\n",
              "    <path d=\"M18.56 5.44l.94 2.06.94-2.06 2.06-.94-2.06-.94-.94-2.06-.94 2.06-2.06.94zm-11 1L8.5 8.5l.94-2.06 2.06-.94-2.06-.94L8.5 2.5l-.94 2.06-2.06.94zm10 10l.94 2.06.94-2.06 2.06-.94-2.06-.94-.94-2.06-.94 2.06-2.06.94z\"/><path d=\"M17.41 7.96l-1.37-1.37c-.4-.4-.92-.59-1.43-.59-.52 0-1.04.2-1.43.59L10.3 9.45l-7.72 7.72c-.78.78-.78 2.05 0 2.83L4 21.41c.39.39.9.59 1.41.59.51 0 1.02-.2 1.41-.59l7.78-7.78 2.81-2.81c.8-.78.8-2.07 0-2.86zM5.41 20L4 18.59l7.72-7.72 1.47 1.35L5.41 20z\"/>\n",
              "  </svg>\n",
              "      </button>\n",
              "      \n",
              "  <style>\n",
              "    .colab-df-container {\n",
              "      display:flex;\n",
              "      flex-wrap:wrap;\n",
              "      gap: 12px;\n",
              "    }\n",
              "\n",
              "    .colab-df-convert {\n",
              "      background-color: #E8F0FE;\n",
              "      border: none;\n",
              "      border-radius: 50%;\n",
              "      cursor: pointer;\n",
              "      display: none;\n",
              "      fill: #1967D2;\n",
              "      height: 32px;\n",
              "      padding: 0 0 0 0;\n",
              "      width: 32px;\n",
              "    }\n",
              "\n",
              "    .colab-df-convert:hover {\n",
              "      background-color: #E2EBFA;\n",
              "      box-shadow: 0px 1px 2px rgba(60, 64, 67, 0.3), 0px 1px 3px 1px rgba(60, 64, 67, 0.15);\n",
              "      fill: #174EA6;\n",
              "    }\n",
              "\n",
              "    [theme=dark] .colab-df-convert {\n",
              "      background-color: #3B4455;\n",
              "      fill: #D2E3FC;\n",
              "    }\n",
              "\n",
              "    [theme=dark] .colab-df-convert:hover {\n",
              "      background-color: #434B5C;\n",
              "      box-shadow: 0px 1px 3px 1px rgba(0, 0, 0, 0.15);\n",
              "      filter: drop-shadow(0px 1px 2px rgba(0, 0, 0, 0.3));\n",
              "      fill: #FFFFFF;\n",
              "    }\n",
              "  </style>\n",
              "\n",
              "      <script>\n",
              "        const buttonEl =\n",
              "          document.querySelector('#df-f0d438c8-26ee-483d-b523-8db16698496b button.colab-df-convert');\n",
              "        buttonEl.style.display =\n",
              "          google.colab.kernel.accessAllowed ? 'block' : 'none';\n",
              "\n",
              "        async function convertToInteractive(key) {\n",
              "          const element = document.querySelector('#df-f0d438c8-26ee-483d-b523-8db16698496b');\n",
              "          const dataTable =\n",
              "            await google.colab.kernel.invokeFunction('convertToInteractive',\n",
              "                                                     [key], {});\n",
              "          if (!dataTable) return;\n",
              "\n",
              "          const docLinkHtml = 'Like what you see? Visit the ' +\n",
              "            '<a target=\"_blank\" href=https://colab.research.google.com/notebooks/data_table.ipynb>data table notebook</a>'\n",
              "            + ' to learn more about interactive tables.';\n",
              "          element.innerHTML = '';\n",
              "          dataTable['output_type'] = 'display_data';\n",
              "          await google.colab.output.renderOutput(dataTable, element);\n",
              "          const docLink = document.createElement('div');\n",
              "          docLink.innerHTML = docLinkHtml;\n",
              "          element.appendChild(docLink);\n",
              "        }\n",
              "      </script>\n",
              "    </div>\n",
              "  </div>\n",
              "  "
            ]
          },
          "metadata": {},
          "execution_count": 52
        }
      ],
      "source": [
        "# Printing the head of the dataset \n",
        "\n",
        "dataset.head()"
      ]
    },
    {
      "cell_type": "code",
      "execution_count": 53,
      "metadata": {
        "id": "_CcYbM2JW6hI"
      },
      "outputs": [],
      "source": [
        "# I dont think that the feature \"Surname\" adds any value to the output. So we might as well get rid of that too\n",
        "\n",
        "dataset.drop(\"Surname\",axis=1,inplace=True)"
      ]
    },
    {
      "cell_type": "code",
      "execution_count": 54,
      "metadata": {
        "colab": {
          "base_uri": "https://localhost:8080/",
          "height": 248
        },
        "id": "hF1S-U7QXA8m",
        "outputId": "c0fbc17f-1eea-4df8-8efe-87fe156b7d66"
      },
      "outputs": [
        {
          "output_type": "execute_result",
          "data": {
            "text/plain": [
              "   CreditScore Geography  Gender  Age  Tenure    Balance  NumOfProducts  \\\n",
              "0          619    France  Female   42       2       0.00              1   \n",
              "1          608     Spain  Female   41       1   83807.86              1   \n",
              "2          502    France  Female   42       8  159660.80              3   \n",
              "3          699    France  Female   39       1       0.00              2   \n",
              "4          850     Spain  Female   43       2  125510.82              1   \n",
              "\n",
              "   HasCrCard  IsActiveMember  EstimatedSalary  Exited  \n",
              "0          1               1        101348.88       1  \n",
              "1          0               1        112542.58       0  \n",
              "2          1               0        113931.57       1  \n",
              "3          0               0         93826.63       0  \n",
              "4          1               1         79084.10       0  "
            ],
            "text/html": [
              "\n",
              "  <div id=\"df-dd5c89b4-84de-4852-addd-88d077c9d070\">\n",
              "    <div class=\"colab-df-container\">\n",
              "      <div>\n",
              "<style scoped>\n",
              "    .dataframe tbody tr th:only-of-type {\n",
              "        vertical-align: middle;\n",
              "    }\n",
              "\n",
              "    .dataframe tbody tr th {\n",
              "        vertical-align: top;\n",
              "    }\n",
              "\n",
              "    .dataframe thead th {\n",
              "        text-align: right;\n",
              "    }\n",
              "</style>\n",
              "<table border=\"1\" class=\"dataframe\">\n",
              "  <thead>\n",
              "    <tr style=\"text-align: right;\">\n",
              "      <th></th>\n",
              "      <th>CreditScore</th>\n",
              "      <th>Geography</th>\n",
              "      <th>Gender</th>\n",
              "      <th>Age</th>\n",
              "      <th>Tenure</th>\n",
              "      <th>Balance</th>\n",
              "      <th>NumOfProducts</th>\n",
              "      <th>HasCrCard</th>\n",
              "      <th>IsActiveMember</th>\n",
              "      <th>EstimatedSalary</th>\n",
              "      <th>Exited</th>\n",
              "    </tr>\n",
              "  </thead>\n",
              "  <tbody>\n",
              "    <tr>\n",
              "      <th>0</th>\n",
              "      <td>619</td>\n",
              "      <td>France</td>\n",
              "      <td>Female</td>\n",
              "      <td>42</td>\n",
              "      <td>2</td>\n",
              "      <td>0.00</td>\n",
              "      <td>1</td>\n",
              "      <td>1</td>\n",
              "      <td>1</td>\n",
              "      <td>101348.88</td>\n",
              "      <td>1</td>\n",
              "    </tr>\n",
              "    <tr>\n",
              "      <th>1</th>\n",
              "      <td>608</td>\n",
              "      <td>Spain</td>\n",
              "      <td>Female</td>\n",
              "      <td>41</td>\n",
              "      <td>1</td>\n",
              "      <td>83807.86</td>\n",
              "      <td>1</td>\n",
              "      <td>0</td>\n",
              "      <td>1</td>\n",
              "      <td>112542.58</td>\n",
              "      <td>0</td>\n",
              "    </tr>\n",
              "    <tr>\n",
              "      <th>2</th>\n",
              "      <td>502</td>\n",
              "      <td>France</td>\n",
              "      <td>Female</td>\n",
              "      <td>42</td>\n",
              "      <td>8</td>\n",
              "      <td>159660.80</td>\n",
              "      <td>3</td>\n",
              "      <td>1</td>\n",
              "      <td>0</td>\n",
              "      <td>113931.57</td>\n",
              "      <td>1</td>\n",
              "    </tr>\n",
              "    <tr>\n",
              "      <th>3</th>\n",
              "      <td>699</td>\n",
              "      <td>France</td>\n",
              "      <td>Female</td>\n",
              "      <td>39</td>\n",
              "      <td>1</td>\n",
              "      <td>0.00</td>\n",
              "      <td>2</td>\n",
              "      <td>0</td>\n",
              "      <td>0</td>\n",
              "      <td>93826.63</td>\n",
              "      <td>0</td>\n",
              "    </tr>\n",
              "    <tr>\n",
              "      <th>4</th>\n",
              "      <td>850</td>\n",
              "      <td>Spain</td>\n",
              "      <td>Female</td>\n",
              "      <td>43</td>\n",
              "      <td>2</td>\n",
              "      <td>125510.82</td>\n",
              "      <td>1</td>\n",
              "      <td>1</td>\n",
              "      <td>1</td>\n",
              "      <td>79084.10</td>\n",
              "      <td>0</td>\n",
              "    </tr>\n",
              "  </tbody>\n",
              "</table>\n",
              "</div>\n",
              "      <button class=\"colab-df-convert\" onclick=\"convertToInteractive('df-dd5c89b4-84de-4852-addd-88d077c9d070')\"\n",
              "              title=\"Convert this dataframe to an interactive table.\"\n",
              "              style=\"display:none;\">\n",
              "        \n",
              "  <svg xmlns=\"http://www.w3.org/2000/svg\" height=\"24px\"viewBox=\"0 0 24 24\"\n",
              "       width=\"24px\">\n",
              "    <path d=\"M0 0h24v24H0V0z\" fill=\"none\"/>\n",
              "    <path d=\"M18.56 5.44l.94 2.06.94-2.06 2.06-.94-2.06-.94-.94-2.06-.94 2.06-2.06.94zm-11 1L8.5 8.5l.94-2.06 2.06-.94-2.06-.94L8.5 2.5l-.94 2.06-2.06.94zm10 10l.94 2.06.94-2.06 2.06-.94-2.06-.94-.94-2.06-.94 2.06-2.06.94z\"/><path d=\"M17.41 7.96l-1.37-1.37c-.4-.4-.92-.59-1.43-.59-.52 0-1.04.2-1.43.59L10.3 9.45l-7.72 7.72c-.78.78-.78 2.05 0 2.83L4 21.41c.39.39.9.59 1.41.59.51 0 1.02-.2 1.41-.59l7.78-7.78 2.81-2.81c.8-.78.8-2.07 0-2.86zM5.41 20L4 18.59l7.72-7.72 1.47 1.35L5.41 20z\"/>\n",
              "  </svg>\n",
              "      </button>\n",
              "      \n",
              "  <style>\n",
              "    .colab-df-container {\n",
              "      display:flex;\n",
              "      flex-wrap:wrap;\n",
              "      gap: 12px;\n",
              "    }\n",
              "\n",
              "    .colab-df-convert {\n",
              "      background-color: #E8F0FE;\n",
              "      border: none;\n",
              "      border-radius: 50%;\n",
              "      cursor: pointer;\n",
              "      display: none;\n",
              "      fill: #1967D2;\n",
              "      height: 32px;\n",
              "      padding: 0 0 0 0;\n",
              "      width: 32px;\n",
              "    }\n",
              "\n",
              "    .colab-df-convert:hover {\n",
              "      background-color: #E2EBFA;\n",
              "      box-shadow: 0px 1px 2px rgba(60, 64, 67, 0.3), 0px 1px 3px 1px rgba(60, 64, 67, 0.15);\n",
              "      fill: #174EA6;\n",
              "    }\n",
              "\n",
              "    [theme=dark] .colab-df-convert {\n",
              "      background-color: #3B4455;\n",
              "      fill: #D2E3FC;\n",
              "    }\n",
              "\n",
              "    [theme=dark] .colab-df-convert:hover {\n",
              "      background-color: #434B5C;\n",
              "      box-shadow: 0px 1px 3px 1px rgba(0, 0, 0, 0.15);\n",
              "      filter: drop-shadow(0px 1px 2px rgba(0, 0, 0, 0.3));\n",
              "      fill: #FFFFFF;\n",
              "    }\n",
              "  </style>\n",
              "\n",
              "      <script>\n",
              "        const buttonEl =\n",
              "          document.querySelector('#df-dd5c89b4-84de-4852-addd-88d077c9d070 button.colab-df-convert');\n",
              "        buttonEl.style.display =\n",
              "          google.colab.kernel.accessAllowed ? 'block' : 'none';\n",
              "\n",
              "        async function convertToInteractive(key) {\n",
              "          const element = document.querySelector('#df-dd5c89b4-84de-4852-addd-88d077c9d070');\n",
              "          const dataTable =\n",
              "            await google.colab.kernel.invokeFunction('convertToInteractive',\n",
              "                                                     [key], {});\n",
              "          if (!dataTable) return;\n",
              "\n",
              "          const docLinkHtml = 'Like what you see? Visit the ' +\n",
              "            '<a target=\"_blank\" href=https://colab.research.google.com/notebooks/data_table.ipynb>data table notebook</a>'\n",
              "            + ' to learn more about interactive tables.';\n",
              "          element.innerHTML = '';\n",
              "          dataTable['output_type'] = 'display_data';\n",
              "          await google.colab.output.renderOutput(dataTable, element);\n",
              "          const docLink = document.createElement('div');\n",
              "          docLink.innerHTML = docLinkHtml;\n",
              "          element.appendChild(docLink);\n",
              "        }\n",
              "      </script>\n",
              "    </div>\n",
              "  </div>\n",
              "  "
            ]
          },
          "metadata": {},
          "execution_count": 54
        }
      ],
      "source": [
        "dataset.head()"
      ]
    },
    {
      "cell_type": "code",
      "execution_count": 55,
      "metadata": {
        "colab": {
          "base_uri": "https://localhost:8080/"
        },
        "id": "d2hBCcxYXZxm",
        "outputId": "3b2d9582-f1e2-47dc-a634-51108c3be08a"
      },
      "outputs": [
        {
          "output_type": "execute_result",
          "data": {
            "text/plain": [
              "(10000, 11)"
            ]
          },
          "metadata": {},
          "execution_count": 55
        }
      ],
      "source": [
        "# Now let us look at the shape of dataset\n",
        "\n",
        "dataset.shape"
      ]
    },
    {
      "cell_type": "markdown",
      "metadata": {
        "id": "v90k9jdVXzFW"
      },
      "source": [
        "We have got 10000 examples with 11 features to work with and build a model"
      ]
    },
    {
      "cell_type": "code",
      "execution_count": 56,
      "metadata": {
        "colab": {
          "base_uri": "https://localhost:8080/"
        },
        "id": "Nk5YzLuIXjrM",
        "outputId": "5062721a-12d4-407a-ee6a-cb5ad19a98a4"
      },
      "outputs": [
        {
          "output_type": "stream",
          "name": "stdout",
          "text": [
            "There are  2  categorical features and  9  numerical features in the dataset.\n"
          ]
        }
      ],
      "source": [
        "# Differnetiating the categorical and numerical features in the dataset and storing them in a list \n",
        "\n",
        "category_feat = []\n",
        "numerical_feat = []\n",
        "\n",
        "for cols in dataset.columns:\n",
        "  if type(dataset[cols][0]) == str:\n",
        "    category_feat.append(cols)\n",
        "  else:\n",
        "    numerical_feat.append(cols)\n",
        "\n",
        "\n",
        "print(\"There are \",len(category_feat),\" categorical features and \",len(numerical_feat),\" numerical features in the dataset.\")"
      ]
    },
    {
      "cell_type": "code",
      "execution_count": 57,
      "metadata": {
        "colab": {
          "base_uri": "https://localhost:8080/"
        },
        "id": "Yoj8VPFqZYti",
        "outputId": "36439904-a5b3-4753-eb7f-f3c619fa45cf"
      },
      "outputs": [
        {
          "output_type": "stream",
          "name": "stdout",
          "text": [
            "<class 'pandas.core.frame.DataFrame'>\n",
            "RangeIndex: 10000 entries, 0 to 9999\n",
            "Data columns (total 11 columns):\n",
            " #   Column           Non-Null Count  Dtype  \n",
            "---  ------           --------------  -----  \n",
            " 0   CreditScore      10000 non-null  int64  \n",
            " 1   Geography        10000 non-null  object \n",
            " 2   Gender           10000 non-null  object \n",
            " 3   Age              10000 non-null  int64  \n",
            " 4   Tenure           10000 non-null  int64  \n",
            " 5   Balance          10000 non-null  float64\n",
            " 6   NumOfProducts    10000 non-null  int64  \n",
            " 7   HasCrCard        10000 non-null  int64  \n",
            " 8   IsActiveMember   10000 non-null  int64  \n",
            " 9   EstimatedSalary  10000 non-null  float64\n",
            " 10  Exited           10000 non-null  int64  \n",
            "dtypes: float64(2), int64(7), object(2)\n",
            "memory usage: 859.5+ KB\n"
          ]
        }
      ],
      "source": [
        "# Now let us print out some descriptive features about the dataset and also info about the types of data in the dataset\n",
        "\n",
        "dataset.info()"
      ]
    },
    {
      "cell_type": "markdown",
      "metadata": {
        "id": "tbg_R4vxaD2a"
      },
      "source": [
        "We have 3 float, 6 integer adn 2 string type data"
      ]
    },
    {
      "cell_type": "code",
      "execution_count": 58,
      "metadata": {
        "colab": {
          "base_uri": "https://localhost:8080/",
          "height": 361
        },
        "id": "bzYS-yacZ-UK",
        "outputId": "1f81cab2-5865-4a8d-be64-54b3b9c00124"
      },
      "outputs": [
        {
          "output_type": "execute_result",
          "data": {
            "text/plain": [
              "        CreditScore           Age        Tenure        Balance  NumOfProducts  \\\n",
              "count  10000.000000  10000.000000  10000.000000   10000.000000   10000.000000   \n",
              "mean     650.528800     38.921800      5.012800   76485.889288       1.530200   \n",
              "std       96.653299     10.487806      2.892174   62397.405202       0.581654   \n",
              "min      350.000000     18.000000      0.000000       0.000000       1.000000   \n",
              "25%      584.000000     32.000000      3.000000       0.000000       1.000000   \n",
              "50%      652.000000     37.000000      5.000000   97198.540000       1.000000   \n",
              "75%      718.000000     44.000000      7.000000  127644.240000       2.000000   \n",
              "max      850.000000     92.000000     10.000000  250898.090000       4.000000   \n",
              "\n",
              "         HasCrCard  IsActiveMember  EstimatedSalary        Exited  \n",
              "count  10000.00000    10000.000000     10000.000000  10000.000000  \n",
              "mean       0.70550        0.515100    100090.239881      0.203700  \n",
              "std        0.45584        0.499797     57510.492818      0.402769  \n",
              "min        0.00000        0.000000        11.580000      0.000000  \n",
              "25%        0.00000        0.000000     51002.110000      0.000000  \n",
              "50%        1.00000        1.000000    100193.915000      0.000000  \n",
              "75%        1.00000        1.000000    149388.247500      0.000000  \n",
              "max        1.00000        1.000000    199992.480000      1.000000  "
            ],
            "text/html": [
              "\n",
              "  <div id=\"df-e72b589b-a36e-45af-8555-0b4651091b96\">\n",
              "    <div class=\"colab-df-container\">\n",
              "      <div>\n",
              "<style scoped>\n",
              "    .dataframe tbody tr th:only-of-type {\n",
              "        vertical-align: middle;\n",
              "    }\n",
              "\n",
              "    .dataframe tbody tr th {\n",
              "        vertical-align: top;\n",
              "    }\n",
              "\n",
              "    .dataframe thead th {\n",
              "        text-align: right;\n",
              "    }\n",
              "</style>\n",
              "<table border=\"1\" class=\"dataframe\">\n",
              "  <thead>\n",
              "    <tr style=\"text-align: right;\">\n",
              "      <th></th>\n",
              "      <th>CreditScore</th>\n",
              "      <th>Age</th>\n",
              "      <th>Tenure</th>\n",
              "      <th>Balance</th>\n",
              "      <th>NumOfProducts</th>\n",
              "      <th>HasCrCard</th>\n",
              "      <th>IsActiveMember</th>\n",
              "      <th>EstimatedSalary</th>\n",
              "      <th>Exited</th>\n",
              "    </tr>\n",
              "  </thead>\n",
              "  <tbody>\n",
              "    <tr>\n",
              "      <th>count</th>\n",
              "      <td>10000.000000</td>\n",
              "      <td>10000.000000</td>\n",
              "      <td>10000.000000</td>\n",
              "      <td>10000.000000</td>\n",
              "      <td>10000.000000</td>\n",
              "      <td>10000.00000</td>\n",
              "      <td>10000.000000</td>\n",
              "      <td>10000.000000</td>\n",
              "      <td>10000.000000</td>\n",
              "    </tr>\n",
              "    <tr>\n",
              "      <th>mean</th>\n",
              "      <td>650.528800</td>\n",
              "      <td>38.921800</td>\n",
              "      <td>5.012800</td>\n",
              "      <td>76485.889288</td>\n",
              "      <td>1.530200</td>\n",
              "      <td>0.70550</td>\n",
              "      <td>0.515100</td>\n",
              "      <td>100090.239881</td>\n",
              "      <td>0.203700</td>\n",
              "    </tr>\n",
              "    <tr>\n",
              "      <th>std</th>\n",
              "      <td>96.653299</td>\n",
              "      <td>10.487806</td>\n",
              "      <td>2.892174</td>\n",
              "      <td>62397.405202</td>\n",
              "      <td>0.581654</td>\n",
              "      <td>0.45584</td>\n",
              "      <td>0.499797</td>\n",
              "      <td>57510.492818</td>\n",
              "      <td>0.402769</td>\n",
              "    </tr>\n",
              "    <tr>\n",
              "      <th>min</th>\n",
              "      <td>350.000000</td>\n",
              "      <td>18.000000</td>\n",
              "      <td>0.000000</td>\n",
              "      <td>0.000000</td>\n",
              "      <td>1.000000</td>\n",
              "      <td>0.00000</td>\n",
              "      <td>0.000000</td>\n",
              "      <td>11.580000</td>\n",
              "      <td>0.000000</td>\n",
              "    </tr>\n",
              "    <tr>\n",
              "      <th>25%</th>\n",
              "      <td>584.000000</td>\n",
              "      <td>32.000000</td>\n",
              "      <td>3.000000</td>\n",
              "      <td>0.000000</td>\n",
              "      <td>1.000000</td>\n",
              "      <td>0.00000</td>\n",
              "      <td>0.000000</td>\n",
              "      <td>51002.110000</td>\n",
              "      <td>0.000000</td>\n",
              "    </tr>\n",
              "    <tr>\n",
              "      <th>50%</th>\n",
              "      <td>652.000000</td>\n",
              "      <td>37.000000</td>\n",
              "      <td>5.000000</td>\n",
              "      <td>97198.540000</td>\n",
              "      <td>1.000000</td>\n",
              "      <td>1.00000</td>\n",
              "      <td>1.000000</td>\n",
              "      <td>100193.915000</td>\n",
              "      <td>0.000000</td>\n",
              "    </tr>\n",
              "    <tr>\n",
              "      <th>75%</th>\n",
              "      <td>718.000000</td>\n",
              "      <td>44.000000</td>\n",
              "      <td>7.000000</td>\n",
              "      <td>127644.240000</td>\n",
              "      <td>2.000000</td>\n",
              "      <td>1.00000</td>\n",
              "      <td>1.000000</td>\n",
              "      <td>149388.247500</td>\n",
              "      <td>0.000000</td>\n",
              "    </tr>\n",
              "    <tr>\n",
              "      <th>max</th>\n",
              "      <td>850.000000</td>\n",
              "      <td>92.000000</td>\n",
              "      <td>10.000000</td>\n",
              "      <td>250898.090000</td>\n",
              "      <td>4.000000</td>\n",
              "      <td>1.00000</td>\n",
              "      <td>1.000000</td>\n",
              "      <td>199992.480000</td>\n",
              "      <td>1.000000</td>\n",
              "    </tr>\n",
              "  </tbody>\n",
              "</table>\n",
              "</div>\n",
              "      <button class=\"colab-df-convert\" onclick=\"convertToInteractive('df-e72b589b-a36e-45af-8555-0b4651091b96')\"\n",
              "              title=\"Convert this dataframe to an interactive table.\"\n",
              "              style=\"display:none;\">\n",
              "        \n",
              "  <svg xmlns=\"http://www.w3.org/2000/svg\" height=\"24px\"viewBox=\"0 0 24 24\"\n",
              "       width=\"24px\">\n",
              "    <path d=\"M0 0h24v24H0V0z\" fill=\"none\"/>\n",
              "    <path d=\"M18.56 5.44l.94 2.06.94-2.06 2.06-.94-2.06-.94-.94-2.06-.94 2.06-2.06.94zm-11 1L8.5 8.5l.94-2.06 2.06-.94-2.06-.94L8.5 2.5l-.94 2.06-2.06.94zm10 10l.94 2.06.94-2.06 2.06-.94-2.06-.94-.94-2.06-.94 2.06-2.06.94z\"/><path d=\"M17.41 7.96l-1.37-1.37c-.4-.4-.92-.59-1.43-.59-.52 0-1.04.2-1.43.59L10.3 9.45l-7.72 7.72c-.78.78-.78 2.05 0 2.83L4 21.41c.39.39.9.59 1.41.59.51 0 1.02-.2 1.41-.59l7.78-7.78 2.81-2.81c.8-.78.8-2.07 0-2.86zM5.41 20L4 18.59l7.72-7.72 1.47 1.35L5.41 20z\"/>\n",
              "  </svg>\n",
              "      </button>\n",
              "      \n",
              "  <style>\n",
              "    .colab-df-container {\n",
              "      display:flex;\n",
              "      flex-wrap:wrap;\n",
              "      gap: 12px;\n",
              "    }\n",
              "\n",
              "    .colab-df-convert {\n",
              "      background-color: #E8F0FE;\n",
              "      border: none;\n",
              "      border-radius: 50%;\n",
              "      cursor: pointer;\n",
              "      display: none;\n",
              "      fill: #1967D2;\n",
              "      height: 32px;\n",
              "      padding: 0 0 0 0;\n",
              "      width: 32px;\n",
              "    }\n",
              "\n",
              "    .colab-df-convert:hover {\n",
              "      background-color: #E2EBFA;\n",
              "      box-shadow: 0px 1px 2px rgba(60, 64, 67, 0.3), 0px 1px 3px 1px rgba(60, 64, 67, 0.15);\n",
              "      fill: #174EA6;\n",
              "    }\n",
              "\n",
              "    [theme=dark] .colab-df-convert {\n",
              "      background-color: #3B4455;\n",
              "      fill: #D2E3FC;\n",
              "    }\n",
              "\n",
              "    [theme=dark] .colab-df-convert:hover {\n",
              "      background-color: #434B5C;\n",
              "      box-shadow: 0px 1px 3px 1px rgba(0, 0, 0, 0.15);\n",
              "      filter: drop-shadow(0px 1px 2px rgba(0, 0, 0, 0.3));\n",
              "      fill: #FFFFFF;\n",
              "    }\n",
              "  </style>\n",
              "\n",
              "      <script>\n",
              "        const buttonEl =\n",
              "          document.querySelector('#df-e72b589b-a36e-45af-8555-0b4651091b96 button.colab-df-convert');\n",
              "        buttonEl.style.display =\n",
              "          google.colab.kernel.accessAllowed ? 'block' : 'none';\n",
              "\n",
              "        async function convertToInteractive(key) {\n",
              "          const element = document.querySelector('#df-e72b589b-a36e-45af-8555-0b4651091b96');\n",
              "          const dataTable =\n",
              "            await google.colab.kernel.invokeFunction('convertToInteractive',\n",
              "                                                     [key], {});\n",
              "          if (!dataTable) return;\n",
              "\n",
              "          const docLinkHtml = 'Like what you see? Visit the ' +\n",
              "            '<a target=\"_blank\" href=https://colab.research.google.com/notebooks/data_table.ipynb>data table notebook</a>'\n",
              "            + ' to learn more about interactive tables.';\n",
              "          element.innerHTML = '';\n",
              "          dataTable['output_type'] = 'display_data';\n",
              "          await google.colab.output.renderOutput(dataTable, element);\n",
              "          const docLink = document.createElement('div');\n",
              "          docLink.innerHTML = docLinkHtml;\n",
              "          element.appendChild(docLink);\n",
              "        }\n",
              "      </script>\n",
              "    </div>\n",
              "  </div>\n",
              "  "
            ]
          },
          "metadata": {},
          "execution_count": 58
        }
      ],
      "source": [
        "dataset.describe()"
      ]
    },
    {
      "cell_type": "code",
      "execution_count": 59,
      "metadata": {
        "colab": {
          "base_uri": "https://localhost:8080/"
        },
        "id": "w3rt7egEaLRB",
        "outputId": "ed5535d2-25ef-4e1e-eb55-a3c4374a2e86"
      },
      "outputs": [
        {
          "output_type": "execute_result",
          "data": {
            "text/plain": [
              "CreditScore        False\n",
              "Geography          False\n",
              "Gender             False\n",
              "Age                False\n",
              "Tenure             False\n",
              "Balance            False\n",
              "NumOfProducts      False\n",
              "HasCrCard          False\n",
              "IsActiveMember     False\n",
              "EstimatedSalary    False\n",
              "Exited             False\n",
              "dtype: bool"
            ]
          },
          "metadata": {},
          "execution_count": 59
        }
      ],
      "source": [
        "# Let us check for missing values in the dataset\n",
        "\n",
        "dataset.isna().any()"
      ]
    },
    {
      "cell_type": "markdown",
      "metadata": {
        "id": "5IhtPjq7awng"
      },
      "source": [
        "Good News ! There aren't any missing values. "
      ]
    },
    {
      "cell_type": "code",
      "execution_count": 60,
      "metadata": {
        "id": "tKY15xXKavZj"
      },
      "outputs": [],
      "source": [
        "# Importing visualization Libraries\n",
        "\n",
        "import matplotlib.pyplot as plt\n",
        "%matplotlib inline\n",
        "\n",
        "import seaborn as sns "
      ]
    },
    {
      "cell_type": "markdown",
      "metadata": {
        "id": "UcXfkHnLcL5s"
      },
      "source": [
        "We cannot see any linear or obvious relation between these two features "
      ]
    },
    {
      "cell_type": "code",
      "execution_count": 61,
      "metadata": {
        "colab": {
          "base_uri": "https://localhost:8080/",
          "height": 248
        },
        "id": "xJrYnHpib7ra",
        "outputId": "f596a283-c815-46ad-861f-56cb488d5230"
      },
      "outputs": [
        {
          "output_type": "execute_result",
          "data": {
            "text/plain": [
              "   CreditScore Geography  Gender  Age  Tenure    Balance  NumOfProducts  \\\n",
              "0          619    France  Female   42       2       0.00              1   \n",
              "1          608     Spain  Female   41       1   83807.86              1   \n",
              "2          502    France  Female   42       8  159660.80              3   \n",
              "3          699    France  Female   39       1       0.00              2   \n",
              "4          850     Spain  Female   43       2  125510.82              1   \n",
              "\n",
              "   HasCrCard  IsActiveMember  EstimatedSalary  Exited  \n",
              "0          1               1        101348.88       1  \n",
              "1          0               1        112542.58       0  \n",
              "2          1               0        113931.57       1  \n",
              "3          0               0         93826.63       0  \n",
              "4          1               1         79084.10       0  "
            ],
            "text/html": [
              "\n",
              "  <div id=\"df-96081475-269b-416b-8a74-4e83d604050c\">\n",
              "    <div class=\"colab-df-container\">\n",
              "      <div>\n",
              "<style scoped>\n",
              "    .dataframe tbody tr th:only-of-type {\n",
              "        vertical-align: middle;\n",
              "    }\n",
              "\n",
              "    .dataframe tbody tr th {\n",
              "        vertical-align: top;\n",
              "    }\n",
              "\n",
              "    .dataframe thead th {\n",
              "        text-align: right;\n",
              "    }\n",
              "</style>\n",
              "<table border=\"1\" class=\"dataframe\">\n",
              "  <thead>\n",
              "    <tr style=\"text-align: right;\">\n",
              "      <th></th>\n",
              "      <th>CreditScore</th>\n",
              "      <th>Geography</th>\n",
              "      <th>Gender</th>\n",
              "      <th>Age</th>\n",
              "      <th>Tenure</th>\n",
              "      <th>Balance</th>\n",
              "      <th>NumOfProducts</th>\n",
              "      <th>HasCrCard</th>\n",
              "      <th>IsActiveMember</th>\n",
              "      <th>EstimatedSalary</th>\n",
              "      <th>Exited</th>\n",
              "    </tr>\n",
              "  </thead>\n",
              "  <tbody>\n",
              "    <tr>\n",
              "      <th>0</th>\n",
              "      <td>619</td>\n",
              "      <td>France</td>\n",
              "      <td>Female</td>\n",
              "      <td>42</td>\n",
              "      <td>2</td>\n",
              "      <td>0.00</td>\n",
              "      <td>1</td>\n",
              "      <td>1</td>\n",
              "      <td>1</td>\n",
              "      <td>101348.88</td>\n",
              "      <td>1</td>\n",
              "    </tr>\n",
              "    <tr>\n",
              "      <th>1</th>\n",
              "      <td>608</td>\n",
              "      <td>Spain</td>\n",
              "      <td>Female</td>\n",
              "      <td>41</td>\n",
              "      <td>1</td>\n",
              "      <td>83807.86</td>\n",
              "      <td>1</td>\n",
              "      <td>0</td>\n",
              "      <td>1</td>\n",
              "      <td>112542.58</td>\n",
              "      <td>0</td>\n",
              "    </tr>\n",
              "    <tr>\n",
              "      <th>2</th>\n",
              "      <td>502</td>\n",
              "      <td>France</td>\n",
              "      <td>Female</td>\n",
              "      <td>42</td>\n",
              "      <td>8</td>\n",
              "      <td>159660.80</td>\n",
              "      <td>3</td>\n",
              "      <td>1</td>\n",
              "      <td>0</td>\n",
              "      <td>113931.57</td>\n",
              "      <td>1</td>\n",
              "    </tr>\n",
              "    <tr>\n",
              "      <th>3</th>\n",
              "      <td>699</td>\n",
              "      <td>France</td>\n",
              "      <td>Female</td>\n",
              "      <td>39</td>\n",
              "      <td>1</td>\n",
              "      <td>0.00</td>\n",
              "      <td>2</td>\n",
              "      <td>0</td>\n",
              "      <td>0</td>\n",
              "      <td>93826.63</td>\n",
              "      <td>0</td>\n",
              "    </tr>\n",
              "    <tr>\n",
              "      <th>4</th>\n",
              "      <td>850</td>\n",
              "      <td>Spain</td>\n",
              "      <td>Female</td>\n",
              "      <td>43</td>\n",
              "      <td>2</td>\n",
              "      <td>125510.82</td>\n",
              "      <td>1</td>\n",
              "      <td>1</td>\n",
              "      <td>1</td>\n",
              "      <td>79084.10</td>\n",
              "      <td>0</td>\n",
              "    </tr>\n",
              "  </tbody>\n",
              "</table>\n",
              "</div>\n",
              "      <button class=\"colab-df-convert\" onclick=\"convertToInteractive('df-96081475-269b-416b-8a74-4e83d604050c')\"\n",
              "              title=\"Convert this dataframe to an interactive table.\"\n",
              "              style=\"display:none;\">\n",
              "        \n",
              "  <svg xmlns=\"http://www.w3.org/2000/svg\" height=\"24px\"viewBox=\"0 0 24 24\"\n",
              "       width=\"24px\">\n",
              "    <path d=\"M0 0h24v24H0V0z\" fill=\"none\"/>\n",
              "    <path d=\"M18.56 5.44l.94 2.06.94-2.06 2.06-.94-2.06-.94-.94-2.06-.94 2.06-2.06.94zm-11 1L8.5 8.5l.94-2.06 2.06-.94-2.06-.94L8.5 2.5l-.94 2.06-2.06.94zm10 10l.94 2.06.94-2.06 2.06-.94-2.06-.94-.94-2.06-.94 2.06-2.06.94z\"/><path d=\"M17.41 7.96l-1.37-1.37c-.4-.4-.92-.59-1.43-.59-.52 0-1.04.2-1.43.59L10.3 9.45l-7.72 7.72c-.78.78-.78 2.05 0 2.83L4 21.41c.39.39.9.59 1.41.59.51 0 1.02-.2 1.41-.59l7.78-7.78 2.81-2.81c.8-.78.8-2.07 0-2.86zM5.41 20L4 18.59l7.72-7.72 1.47 1.35L5.41 20z\"/>\n",
              "  </svg>\n",
              "      </button>\n",
              "      \n",
              "  <style>\n",
              "    .colab-df-container {\n",
              "      display:flex;\n",
              "      flex-wrap:wrap;\n",
              "      gap: 12px;\n",
              "    }\n",
              "\n",
              "    .colab-df-convert {\n",
              "      background-color: #E8F0FE;\n",
              "      border: none;\n",
              "      border-radius: 50%;\n",
              "      cursor: pointer;\n",
              "      display: none;\n",
              "      fill: #1967D2;\n",
              "      height: 32px;\n",
              "      padding: 0 0 0 0;\n",
              "      width: 32px;\n",
              "    }\n",
              "\n",
              "    .colab-df-convert:hover {\n",
              "      background-color: #E2EBFA;\n",
              "      box-shadow: 0px 1px 2px rgba(60, 64, 67, 0.3), 0px 1px 3px 1px rgba(60, 64, 67, 0.15);\n",
              "      fill: #174EA6;\n",
              "    }\n",
              "\n",
              "    [theme=dark] .colab-df-convert {\n",
              "      background-color: #3B4455;\n",
              "      fill: #D2E3FC;\n",
              "    }\n",
              "\n",
              "    [theme=dark] .colab-df-convert:hover {\n",
              "      background-color: #434B5C;\n",
              "      box-shadow: 0px 1px 3px 1px rgba(0, 0, 0, 0.15);\n",
              "      filter: drop-shadow(0px 1px 2px rgba(0, 0, 0, 0.3));\n",
              "      fill: #FFFFFF;\n",
              "    }\n",
              "  </style>\n",
              "\n",
              "      <script>\n",
              "        const buttonEl =\n",
              "          document.querySelector('#df-96081475-269b-416b-8a74-4e83d604050c button.colab-df-convert');\n",
              "        buttonEl.style.display =\n",
              "          google.colab.kernel.accessAllowed ? 'block' : 'none';\n",
              "\n",
              "        async function convertToInteractive(key) {\n",
              "          const element = document.querySelector('#df-96081475-269b-416b-8a74-4e83d604050c');\n",
              "          const dataTable =\n",
              "            await google.colab.kernel.invokeFunction('convertToInteractive',\n",
              "                                                     [key], {});\n",
              "          if (!dataTable) return;\n",
              "\n",
              "          const docLinkHtml = 'Like what you see? Visit the ' +\n",
              "            '<a target=\"_blank\" href=https://colab.research.google.com/notebooks/data_table.ipynb>data table notebook</a>'\n",
              "            + ' to learn more about interactive tables.';\n",
              "          element.innerHTML = '';\n",
              "          dataTable['output_type'] = 'display_data';\n",
              "          await google.colab.output.renderOutput(dataTable, element);\n",
              "          const docLink = document.createElement('div');\n",
              "          docLink.innerHTML = docLinkHtml;\n",
              "          element.appendChild(docLink);\n",
              "        }\n",
              "      </script>\n",
              "    </div>\n",
              "  </div>\n",
              "  "
            ]
          },
          "metadata": {},
          "execution_count": 61
        }
      ],
      "source": [
        "dataset.head()"
      ]
    },
    {
      "cell_type": "code",
      "execution_count": 62,
      "metadata": {
        "colab": {
          "base_uri": "https://localhost:8080/"
        },
        "id": "0us9libNl9W1",
        "outputId": "5d0a2085-2f60-49ed-b1c9-ab4383f1c74f"
      },
      "outputs": [
        {
          "output_type": "stream",
          "name": "stdout",
          "text": [
            "France     5014\n",
            "Germany    2509\n",
            "Spain      2477\n",
            "Name: Geography, dtype: int64\n",
            "Male      5457\n",
            "Female    4543\n",
            "Name: Gender, dtype: int64\n"
          ]
        }
      ],
      "source": [
        "# Now let us encode the categorical features\n",
        "\n",
        "# Printing out the number of categories \n",
        "for cols in category_feat:\n",
        "  print(dataset[cols].value_counts())"
      ]
    },
    {
      "cell_type": "markdown",
      "metadata": {
        "id": "J9hF_OGGp2f6"
      },
      "source": [
        "We have two categories in gender and three in geogrpahy. So we will use frequency encoding for the geography feature and 1&0 (binary encoding) for gender value. "
      ]
    },
    {
      "cell_type": "code",
      "execution_count": 63,
      "metadata": {
        "id": "Dk47jqqjoQHH"
      },
      "outputs": [],
      "source": [
        "# Frequency encoding for Geogrpahy \n",
        "\n",
        "dataset[\"Geography\"] = dataset[\"Geography\"].map(dataset[\"Geography\"].value_counts().to_dict()) \n",
        "\n",
        "gender_mapping = {\"Male\":1,\"Female\":0}\n",
        "dataset[\"Gender\"] = dataset[\"Gender\"].map(gender_mapping)"
      ]
    },
    {
      "cell_type": "code",
      "execution_count": 64,
      "metadata": {
        "colab": {
          "base_uri": "https://localhost:8080/",
          "height": 248
        },
        "id": "knct3yuWo_R0",
        "outputId": "b589de61-ea9c-4378-cdbc-1340f83a2bb4"
      },
      "outputs": [
        {
          "output_type": "execute_result",
          "data": {
            "text/plain": [
              "   CreditScore  Geography  Gender  Age  Tenure    Balance  NumOfProducts  \\\n",
              "0          619       5014       0   42       2       0.00              1   \n",
              "1          608       2477       0   41       1   83807.86              1   \n",
              "2          502       5014       0   42       8  159660.80              3   \n",
              "3          699       5014       0   39       1       0.00              2   \n",
              "4          850       2477       0   43       2  125510.82              1   \n",
              "\n",
              "   HasCrCard  IsActiveMember  EstimatedSalary  Exited  \n",
              "0          1               1        101348.88       1  \n",
              "1          0               1        112542.58       0  \n",
              "2          1               0        113931.57       1  \n",
              "3          0               0         93826.63       0  \n",
              "4          1               1         79084.10       0  "
            ],
            "text/html": [
              "\n",
              "  <div id=\"df-14b52706-4725-4d68-b800-4fa1251d21c0\">\n",
              "    <div class=\"colab-df-container\">\n",
              "      <div>\n",
              "<style scoped>\n",
              "    .dataframe tbody tr th:only-of-type {\n",
              "        vertical-align: middle;\n",
              "    }\n",
              "\n",
              "    .dataframe tbody tr th {\n",
              "        vertical-align: top;\n",
              "    }\n",
              "\n",
              "    .dataframe thead th {\n",
              "        text-align: right;\n",
              "    }\n",
              "</style>\n",
              "<table border=\"1\" class=\"dataframe\">\n",
              "  <thead>\n",
              "    <tr style=\"text-align: right;\">\n",
              "      <th></th>\n",
              "      <th>CreditScore</th>\n",
              "      <th>Geography</th>\n",
              "      <th>Gender</th>\n",
              "      <th>Age</th>\n",
              "      <th>Tenure</th>\n",
              "      <th>Balance</th>\n",
              "      <th>NumOfProducts</th>\n",
              "      <th>HasCrCard</th>\n",
              "      <th>IsActiveMember</th>\n",
              "      <th>EstimatedSalary</th>\n",
              "      <th>Exited</th>\n",
              "    </tr>\n",
              "  </thead>\n",
              "  <tbody>\n",
              "    <tr>\n",
              "      <th>0</th>\n",
              "      <td>619</td>\n",
              "      <td>5014</td>\n",
              "      <td>0</td>\n",
              "      <td>42</td>\n",
              "      <td>2</td>\n",
              "      <td>0.00</td>\n",
              "      <td>1</td>\n",
              "      <td>1</td>\n",
              "      <td>1</td>\n",
              "      <td>101348.88</td>\n",
              "      <td>1</td>\n",
              "    </tr>\n",
              "    <tr>\n",
              "      <th>1</th>\n",
              "      <td>608</td>\n",
              "      <td>2477</td>\n",
              "      <td>0</td>\n",
              "      <td>41</td>\n",
              "      <td>1</td>\n",
              "      <td>83807.86</td>\n",
              "      <td>1</td>\n",
              "      <td>0</td>\n",
              "      <td>1</td>\n",
              "      <td>112542.58</td>\n",
              "      <td>0</td>\n",
              "    </tr>\n",
              "    <tr>\n",
              "      <th>2</th>\n",
              "      <td>502</td>\n",
              "      <td>5014</td>\n",
              "      <td>0</td>\n",
              "      <td>42</td>\n",
              "      <td>8</td>\n",
              "      <td>159660.80</td>\n",
              "      <td>3</td>\n",
              "      <td>1</td>\n",
              "      <td>0</td>\n",
              "      <td>113931.57</td>\n",
              "      <td>1</td>\n",
              "    </tr>\n",
              "    <tr>\n",
              "      <th>3</th>\n",
              "      <td>699</td>\n",
              "      <td>5014</td>\n",
              "      <td>0</td>\n",
              "      <td>39</td>\n",
              "      <td>1</td>\n",
              "      <td>0.00</td>\n",
              "      <td>2</td>\n",
              "      <td>0</td>\n",
              "      <td>0</td>\n",
              "      <td>93826.63</td>\n",
              "      <td>0</td>\n",
              "    </tr>\n",
              "    <tr>\n",
              "      <th>4</th>\n",
              "      <td>850</td>\n",
              "      <td>2477</td>\n",
              "      <td>0</td>\n",
              "      <td>43</td>\n",
              "      <td>2</td>\n",
              "      <td>125510.82</td>\n",
              "      <td>1</td>\n",
              "      <td>1</td>\n",
              "      <td>1</td>\n",
              "      <td>79084.10</td>\n",
              "      <td>0</td>\n",
              "    </tr>\n",
              "  </tbody>\n",
              "</table>\n",
              "</div>\n",
              "      <button class=\"colab-df-convert\" onclick=\"convertToInteractive('df-14b52706-4725-4d68-b800-4fa1251d21c0')\"\n",
              "              title=\"Convert this dataframe to an interactive table.\"\n",
              "              style=\"display:none;\">\n",
              "        \n",
              "  <svg xmlns=\"http://www.w3.org/2000/svg\" height=\"24px\"viewBox=\"0 0 24 24\"\n",
              "       width=\"24px\">\n",
              "    <path d=\"M0 0h24v24H0V0z\" fill=\"none\"/>\n",
              "    <path d=\"M18.56 5.44l.94 2.06.94-2.06 2.06-.94-2.06-.94-.94-2.06-.94 2.06-2.06.94zm-11 1L8.5 8.5l.94-2.06 2.06-.94-2.06-.94L8.5 2.5l-.94 2.06-2.06.94zm10 10l.94 2.06.94-2.06 2.06-.94-2.06-.94-.94-2.06-.94 2.06-2.06.94z\"/><path d=\"M17.41 7.96l-1.37-1.37c-.4-.4-.92-.59-1.43-.59-.52 0-1.04.2-1.43.59L10.3 9.45l-7.72 7.72c-.78.78-.78 2.05 0 2.83L4 21.41c.39.39.9.59 1.41.59.51 0 1.02-.2 1.41-.59l7.78-7.78 2.81-2.81c.8-.78.8-2.07 0-2.86zM5.41 20L4 18.59l7.72-7.72 1.47 1.35L5.41 20z\"/>\n",
              "  </svg>\n",
              "      </button>\n",
              "      \n",
              "  <style>\n",
              "    .colab-df-container {\n",
              "      display:flex;\n",
              "      flex-wrap:wrap;\n",
              "      gap: 12px;\n",
              "    }\n",
              "\n",
              "    .colab-df-convert {\n",
              "      background-color: #E8F0FE;\n",
              "      border: none;\n",
              "      border-radius: 50%;\n",
              "      cursor: pointer;\n",
              "      display: none;\n",
              "      fill: #1967D2;\n",
              "      height: 32px;\n",
              "      padding: 0 0 0 0;\n",
              "      width: 32px;\n",
              "    }\n",
              "\n",
              "    .colab-df-convert:hover {\n",
              "      background-color: #E2EBFA;\n",
              "      box-shadow: 0px 1px 2px rgba(60, 64, 67, 0.3), 0px 1px 3px 1px rgba(60, 64, 67, 0.15);\n",
              "      fill: #174EA6;\n",
              "    }\n",
              "\n",
              "    [theme=dark] .colab-df-convert {\n",
              "      background-color: #3B4455;\n",
              "      fill: #D2E3FC;\n",
              "    }\n",
              "\n",
              "    [theme=dark] .colab-df-convert:hover {\n",
              "      background-color: #434B5C;\n",
              "      box-shadow: 0px 1px 3px 1px rgba(0, 0, 0, 0.15);\n",
              "      filter: drop-shadow(0px 1px 2px rgba(0, 0, 0, 0.3));\n",
              "      fill: #FFFFFF;\n",
              "    }\n",
              "  </style>\n",
              "\n",
              "      <script>\n",
              "        const buttonEl =\n",
              "          document.querySelector('#df-14b52706-4725-4d68-b800-4fa1251d21c0 button.colab-df-convert');\n",
              "        buttonEl.style.display =\n",
              "          google.colab.kernel.accessAllowed ? 'block' : 'none';\n",
              "\n",
              "        async function convertToInteractive(key) {\n",
              "          const element = document.querySelector('#df-14b52706-4725-4d68-b800-4fa1251d21c0');\n",
              "          const dataTable =\n",
              "            await google.colab.kernel.invokeFunction('convertToInteractive',\n",
              "                                                     [key], {});\n",
              "          if (!dataTable) return;\n",
              "\n",
              "          const docLinkHtml = 'Like what you see? Visit the ' +\n",
              "            '<a target=\"_blank\" href=https://colab.research.google.com/notebooks/data_table.ipynb>data table notebook</a>'\n",
              "            + ' to learn more about interactive tables.';\n",
              "          element.innerHTML = '';\n",
              "          dataTable['output_type'] = 'display_data';\n",
              "          await google.colab.output.renderOutput(dataTable, element);\n",
              "          const docLink = document.createElement('div');\n",
              "          docLink.innerHTML = docLinkHtml;\n",
              "          element.appendChild(docLink);\n",
              "        }\n",
              "      </script>\n",
              "    </div>\n",
              "  </div>\n",
              "  "
            ]
          },
          "metadata": {},
          "execution_count": 64
        }
      ],
      "source": [
        "# Now we have encoded the categorical data \n",
        "\n",
        "dataset.head()"
      ]
    },
    {
      "cell_type": "code",
      "execution_count": 65,
      "metadata": {
        "id": "Mfi_VZqKrMcp"
      },
      "outputs": [],
      "source": [
        "# Splitting the dataset into X and y (featureas and label)\n",
        "\n",
        "X = dataset.drop([\"Exited\"],axis=1)\n",
        "y = dataset[\"Exited\"]"
      ]
    },
    {
      "cell_type": "code",
      "execution_count": 66,
      "metadata": {
        "colab": {
          "base_uri": "https://localhost:8080/",
          "height": 512
        },
        "id": "JQx_kmgMinr2",
        "outputId": "ba52eec8-bc8b-4899-ee12-09433c6a4677"
      },
      "outputs": [
        {
          "output_type": "stream",
          "name": "stderr",
          "text": [
            "/usr/local/lib/python3.7/dist-packages/seaborn/_decorators.py:43: FutureWarning: Pass the following variables as keyword args: x, y. From version 0.12, the only valid positional argument will be `data`, and passing other arguments without an explicit keyword will result in an error or misinterpretation.\n",
            "  FutureWarning\n"
          ]
        },
        {
          "output_type": "execute_result",
          "data": {
            "text/plain": [
              "<seaborn.axisgrid.JointGrid at 0x7f6d90b9e5d0>"
            ]
          },
          "metadata": {},
          "execution_count": 66
        },
        {
          "output_type": "display_data",
          "data": {
            "text/plain": [
              "<Figure size 432x432 with 3 Axes>"
            ],
            "image/png": "[encoded data removed]"
          },
          "metadata": {
            "needs_background": "light"
          }
        }
      ],
      "source": [
        "sns.jointplot(dataset[\"Gender\"],dataset[\"CreditScore\"])"
      ]
    },
    {
      "cell_type": "code",
      "execution_count": 67,
      "metadata": {
        "id": "8lmKedTurj0B"
      },
      "outputs": [],
      "source": [
        "from sklearn.preprocessing import StandardScaler\n",
        "\n",
        "scaler = StandardScaler()"
      ]
    },
    {
      "cell_type": "code",
      "execution_count": 68,
      "metadata": {
        "id": "fB_k__r3kers"
      },
      "outputs": [],
      "source": [
        "X = pd.DataFrame(scaler.fit_transform(X), columns=X.columns)"
      ]
    },
    {
      "cell_type": "code",
      "execution_count": 69,
      "metadata": {
        "colab": {
          "base_uri": "https://localhost:8080/",
          "height": 248
        },
        "id": "MyNocRGul-pe",
        "outputId": "6ac5394e-c001-4d5f-d75e-d1b39dcedf11"
      },
      "outputs": [
        {
          "output_type": "execute_result",
          "data": {
            "text/plain": [
              "   CreditScore  Geography    Gender       Age    Tenure   Balance  \\\n",
              "0    -0.326221   0.997164 -1.095988  0.293517 -1.041760 -1.225848   \n",
              "1    -0.440036  -1.015539 -1.095988  0.198164 -1.387538  0.117350   \n",
              "2    -1.536794   0.997164 -1.095988  0.293517  1.032908  1.333053   \n",
              "3     0.501521   0.997164 -1.095988  0.007457 -1.387538 -1.225848   \n",
              "4     2.063884  -1.015539 -1.095988  0.388871 -1.041760  0.785728   \n",
              "\n",
              "   NumOfProducts  HasCrCard  IsActiveMember  EstimatedSalary  \n",
              "0      -0.911583   0.646092        0.970243         0.021886  \n",
              "1      -0.911583  -1.547768        0.970243         0.216534  \n",
              "2       2.527057   0.646092       -1.030670         0.240687  \n",
              "3       0.807737  -1.547768       -1.030670        -0.108918  \n",
              "4      -0.911583   0.646092        0.970243        -0.365276  "
            ],
            "text/html": [
              "\n",
              "  <div id=\"df-26e58371-5daf-4770-8cc0-3f90d7f6989b\">\n",
              "    <div class=\"colab-df-container\">\n",
              "      <div>\n",
              "<style scoped>\n",
              "    .dataframe tbody tr th:only-of-type {\n",
              "        vertical-align: middle;\n",
              "    }\n",
              "\n",
              "    .dataframe tbody tr th {\n",
              "        vertical-align: top;\n",
              "    }\n",
              "\n",
              "    .dataframe thead th {\n",
              "        text-align: right;\n",
              "    }\n",
              "</style>\n",
              "<table border=\"1\" class=\"dataframe\">\n",
              "  <thead>\n",
              "    <tr style=\"text-align: right;\">\n",
              "      <th></th>\n",
              "      <th>CreditScore</th>\n",
              "      <th>Geography</th>\n",
              "      <th>Gender</th>\n",
              "      <th>Age</th>\n",
              "      <th>Tenure</th>\n",
              "      <th>Balance</th>\n",
              "      <th>NumOfProducts</th>\n",
              "      <th>HasCrCard</th>\n",
              "      <th>IsActiveMember</th>\n",
              "      <th>EstimatedSalary</th>\n",
              "    </tr>\n",
              "  </thead>\n",
              "  <tbody>\n",
              "    <tr>\n",
              "      <th>0</th>\n",
              "      <td>-0.326221</td>\n",
              "      <td>0.997164</td>\n",
              "      <td>-1.095988</td>\n",
              "      <td>0.293517</td>\n",
              "      <td>-1.041760</td>\n",
              "      <td>-1.225848</td>\n",
              "      <td>-0.911583</td>\n",
              "      <td>0.646092</td>\n",
              "      <td>0.970243</td>\n",
              "      <td>0.021886</td>\n",
              "    </tr>\n",
              "    <tr>\n",
              "      <th>1</th>\n",
              "      <td>-0.440036</td>\n",
              "      <td>-1.015539</td>\n",
              "      <td>-1.095988</td>\n",
              "      <td>0.198164</td>\n",
              "      <td>-1.387538</td>\n",
              "      <td>0.117350</td>\n",
              "      <td>-0.911583</td>\n",
              "      <td>-1.547768</td>\n",
              "      <td>0.970243</td>\n",
              "      <td>0.216534</td>\n",
              "    </tr>\n",
              "    <tr>\n",
              "      <th>2</th>\n",
              "      <td>-1.536794</td>\n",
              "      <td>0.997164</td>\n",
              "      <td>-1.095988</td>\n",
              "      <td>0.293517</td>\n",
              "      <td>1.032908</td>\n",
              "      <td>1.333053</td>\n",
              "      <td>2.527057</td>\n",
              "      <td>0.646092</td>\n",
              "      <td>-1.030670</td>\n",
              "      <td>0.240687</td>\n",
              "    </tr>\n",
              "    <tr>\n",
              "      <th>3</th>\n",
              "      <td>0.501521</td>\n",
              "      <td>0.997164</td>\n",
              "      <td>-1.095988</td>\n",
              "      <td>0.007457</td>\n",
              "      <td>-1.387538</td>\n",
              "      <td>-1.225848</td>\n",
              "      <td>0.807737</td>\n",
              "      <td>-1.547768</td>\n",
              "      <td>-1.030670</td>\n",
              "      <td>-0.108918</td>\n",
              "    </tr>\n",
              "    <tr>\n",
              "      <th>4</th>\n",
              "      <td>2.063884</td>\n",
              "      <td>-1.015539</td>\n",
              "      <td>-1.095988</td>\n",
              "      <td>0.388871</td>\n",
              "      <td>-1.041760</td>\n",
              "      <td>0.785728</td>\n",
              "      <td>-0.911583</td>\n",
              "      <td>0.646092</td>\n",
              "      <td>0.970243</td>\n",
              "      <td>-0.365276</td>\n",
              "    </tr>\n",
              "  </tbody>\n",
              "</table>\n",
              "</div>\n",
              "      <button class=\"colab-df-convert\" onclick=\"convertToInteractive('df-26e58371-5daf-4770-8cc0-3f90d7f6989b')\"\n",
              "              title=\"Convert this dataframe to an interactive table.\"\n",
              "              style=\"display:none;\">\n",
              "        \n",
              "  <svg xmlns=\"http://www.w3.org/2000/svg\" height=\"24px\"viewBox=\"0 0 24 24\"\n",
              "       width=\"24px\">\n",
              "    <path d=\"M0 0h24v24H0V0z\" fill=\"none\"/>\n",
              "    <path d=\"M18.56 5.44l.94 2.06.94-2.06 2.06-.94-2.06-.94-.94-2.06-.94 2.06-2.06.94zm-11 1L8.5 8.5l.94-2.06 2.06-.94-2.06-.94L8.5 2.5l-.94 2.06-2.06.94zm10 10l.94 2.06.94-2.06 2.06-.94-2.06-.94-.94-2.06-.94 2.06-2.06.94z\"/><path d=\"M17.41 7.96l-1.37-1.37c-.4-.4-.92-.59-1.43-.59-.52 0-1.04.2-1.43.59L10.3 9.45l-7.72 7.72c-.78.78-.78 2.05 0 2.83L4 21.41c.39.39.9.59 1.41.59.51 0 1.02-.2 1.41-.59l7.78-7.78 2.81-2.81c.8-.78.8-2.07 0-2.86zM5.41 20L4 18.59l7.72-7.72 1.47 1.35L5.41 20z\"/>\n",
              "  </svg>\n",
              "      </button>\n",
              "      \n",
              "  <style>\n",
              "    .colab-df-container {\n",
              "      display:flex;\n",
              "      flex-wrap:wrap;\n",
              "      gap: 12px;\n",
              "    }\n",
              "\n",
              "    .colab-df-convert {\n",
              "      background-color: #E8F0FE;\n",
              "      border: none;\n",
              "      border-radius: 50%;\n",
              "      cursor: pointer;\n",
              "      display: none;\n",
              "      fill: #1967D2;\n",
              "      height: 32px;\n",
              "      padding: 0 0 0 0;\n",
              "      width: 32px;\n",
              "    }\n",
              "\n",
              "    .colab-df-convert:hover {\n",
              "      background-color: #E2EBFA;\n",
              "      box-shadow: 0px 1px 2px rgba(60, 64, 67, 0.3), 0px 1px 3px 1px rgba(60, 64, 67, 0.15);\n",
              "      fill: #174EA6;\n",
              "    }\n",
              "\n",
              "    [theme=dark] .colab-df-convert {\n",
              "      background-color: #3B4455;\n",
              "      fill: #D2E3FC;\n",
              "    }\n",
              "\n",
              "    [theme=dark] .colab-df-convert:hover {\n",
              "      background-color: #434B5C;\n",
              "      box-shadow: 0px 1px 3px 1px rgba(0, 0, 0, 0.15);\n",
              "      filter: drop-shadow(0px 1px 2px rgba(0, 0, 0, 0.3));\n",
              "      fill: #FFFFFF;\n",
              "    }\n",
              "  </style>\n",
              "\n",
              "      <script>\n",
              "        const buttonEl =\n",
              "          document.querySelector('#df-26e58371-5daf-4770-8cc0-3f90d7f6989b button.colab-df-convert');\n",
              "        buttonEl.style.display =\n",
              "          google.colab.kernel.accessAllowed ? 'block' : 'none';\n",
              "\n",
              "        async function convertToInteractive(key) {\n",
              "          const element = document.querySelector('#df-26e58371-5daf-4770-8cc0-3f90d7f6989b');\n",
              "          const dataTable =\n",
              "            await google.colab.kernel.invokeFunction('convertToInteractive',\n",
              "                                                     [key], {});\n",
              "          if (!dataTable) return;\n",
              "\n",
              "          const docLinkHtml = 'Like what you see? Visit the ' +\n",
              "            '<a target=\"_blank\" href=https://colab.research.google.com/notebooks/data_table.ipynb>data table notebook</a>'\n",
              "            + ' to learn more about interactive tables.';\n",
              "          element.innerHTML = '';\n",
              "          dataTable['output_type'] = 'display_data';\n",
              "          await google.colab.output.renderOutput(dataTable, element);\n",
              "          const docLink = document.createElement('div');\n",
              "          docLink.innerHTML = docLinkHtml;\n",
              "          element.appendChild(docLink);\n",
              "        }\n",
              "      </script>\n",
              "    </div>\n",
              "  </div>\n",
              "  "
            ]
          },
          "metadata": {},
          "execution_count": 69
        }
      ],
      "source": [
        "X.head()"
      ]
    },
    {
      "cell_type": "code",
      "execution_count": 70,
      "metadata": {
        "colab": {
          "base_uri": "https://localhost:8080/"
        },
        "id": "h9MBmjhZmBdb",
        "outputId": "12090ddf-9a17-4a6b-9cc1-d02b3c4b483c"
      },
      "outputs": [
        {
          "output_type": "execute_result",
          "data": {
            "text/plain": [
              "0    1\n",
              "1    0\n",
              "2    1\n",
              "3    0\n",
              "4    0\n",
              "Name: Exited, dtype: int64"
            ]
          },
          "metadata": {},
          "execution_count": 70
        }
      ],
      "source": [
        "y.head()"
      ]
    },
    {
      "cell_type": "code",
      "execution_count": 71,
      "metadata": {
        "id": "4BJ6frfFm39j"
      },
      "outputs": [],
      "source": [
        "# Splitting the data into training data, validation data and testing data\n",
        "\n",
        "from sklearn.model_selection import train_test_split \n",
        "\n",
        "train_X, test_X, train_Y, test_Y = train_test_split(X,y,test_size=0.15)\n",
        "train_X, valid_X, train_Y, valid_Y = train_test_split(train_X,train_Y, test_size = 0.15)"
      ]
    },
    {
      "cell_type": "code",
      "execution_count": 72,
      "metadata": {
        "id": "Btbk5GqFp4p0"
      },
      "outputs": [],
      "source": [
        "# Importing the necessary libraries required for builidng an ANN model \n",
        "\n",
        "import tensorflow as tf\n",
        "\n",
        "from tensorflow import keras \n",
        "\n",
        "from tensorflow.keras.layers import Dense, InputLayer, Dropout\n",
        "from tensorflow.keras.models import Model, Sequential "
      ]
    },
    {
      "cell_type": "code",
      "execution_count": 73,
      "metadata": {
        "id": "Y5QDUnZcqpGp"
      },
      "outputs": [],
      "source": [
        "# Builiding the model \n",
        "\n",
        "def build_model(input_shape_ = X.shape[1:], units = 100, layers = 3, activation_function=\"relu\", lr = 0.01, metrics='accruacy', output_units = 1):\n",
        "\n",
        "  model = keras.models.Sequential()\n",
        "\n",
        "  model.add(Dense(100, activation = activation_function,input_shape = input_shape_))\n",
        "\n",
        "  for num in range(layers):\n",
        "    model.add(Dense(units, activation= activation_function))\n",
        "\n",
        "  model.add(Dense(output_units, activation='sigmoid'))    \n",
        "\n",
        "  optimizer_ = tf.keras.optimizers.Adam(learning_rate = lr)\n",
        "\n",
        "  model.compile(optimizer = optimizer_, loss = \"binary_crossentropy\", metrics = ['accuracy'])\n",
        "\n",
        "  return model\n"
      ]
    },
    {
      "cell_type": "code",
      "execution_count": 74,
      "metadata": {
        "colab": {
          "base_uri": "https://localhost:8080/"
        },
        "id": "sYdmqc3dw7ur",
        "outputId": "202823ab-f29a-496c-8fe3-ba62d6a39a71"
      },
      "outputs": [
        {
          "output_type": "stream",
          "name": "stderr",
          "text": [
            "/usr/local/lib/python3.7/dist-packages/ipykernel_launcher.py:1: DeprecationWarning: KerasClassifier is deprecated, use Sci-Keras (https://github.com/adriangb/scikeras) instead. See https://www.adriangb.com/scikeras/stable/migration.html for help migrating.\n",
            "  \"\"\"Entry point for launching an IPython kernel.\n"
          ]
        }
      ],
      "source": [
        "classifier = keras.wrappers.scikit_learn.KerasClassifier(build_model)"
      ]
    },
    {
      "cell_type": "code",
      "execution_count": 75,
      "metadata": {
        "colab": {
          "base_uri": "https://localhost:8080/"
        },
        "id": "75hX9d4Hw7xK",
        "outputId": "b7eefe97-47dc-4a7b-d26a-20ed57dc2502"
      },
      "outputs": [
        {
          "output_type": "stream",
          "name": "stdout",
          "text": [
            "Epoch 1/2\n",
            "226/226 [==============================] - 4s 9ms/step - loss: 0.4174 - accuracy: 0.8224 - val_loss: 0.4016 - val_accuracy: 0.8353\n",
            "Epoch 2/2\n",
            "226/226 [==============================] - 2s 9ms/step - loss: 0.3728 - accuracy: 0.8461 - val_loss: 0.3709 - val_accuracy: 0.8518\n"
          ]
        },
        {
          "output_type": "execute_result",
          "data": {
            "text/plain": [
              "<keras.callbacks.History at 0x7f6d97aab750>"
            ]
          },
          "metadata": {},
          "execution_count": 75
        }
      ],
      "source": [
        "classifier.fit(train_X, train_Y, epochs = 2, validation_data=([valid_X, valid_Y]))"
      ]
    },
    {
      "cell_type": "code",
      "execution_count": 76,
      "metadata": {
        "id": "-aX9H0Jow7zx"
      },
      "outputs": [],
      "source": [
        "from sklearn.model_selection import RandomizedSearchCV"
      ]
    },
    {
      "cell_type": "code",
      "execution_count": 77,
      "metadata": {
        "id": "1RzYHhciw72I"
      },
      "outputs": [],
      "source": [
        "parameters = {\n",
        "    \"units\" : np.arange(0,500,50),\n",
        "    \"layers\" : np.arange(1 ,7),\n",
        "    \"lr\" : [0.001, 0.01, 0.05, 0.09, 0.1, 0.2, 0.4, 0.5]\n",
        "}"
      ]
    },
    {
      "cell_type": "code",
      "execution_count": 78,
      "metadata": {
        "id": "uHquAaRH8p1A"
      },
      "outputs": [],
      "source": [
        "hyper_parameter_tuning = RandomizedSearchCV(classifier, parameters, n_iter = 8, cv=3)"
      ]
    },
    {
      "cell_type": "code",
      "execution_count": 79,
      "metadata": {
        "colab": {
          "base_uri": "https://localhost:8080/"
        },
        "id": "Gp3hqoi-8px5",
        "outputId": "4a62c09b-2115-42cc-af16-131fe447e156"
      },
      "outputs": [
        {
          "output_type": "stream",
          "name": "stdout",
          "text": [
            "Epoch 1/5\n",
            "151/151 [==============================] - 7s 36ms/step - loss: 0.4446 - accuracy: 0.8135 - val_loss: 0.3838 - val_accuracy: 0.8400\n",
            "Epoch 2/5\n",
            "151/151 [==============================] - 4s 26ms/step - loss: 0.3744 - accuracy: 0.8526 - val_loss: 0.3803 - val_accuracy: 0.8416\n",
            "Epoch 3/5\n",
            "151/151 [==============================] - 3s 19ms/step - loss: 0.3609 - accuracy: 0.8528 - val_loss: 0.3602 - val_accuracy: 0.8471\n",
            "Epoch 4/5\n",
            "151/151 [==============================] - 3s 18ms/step - loss: 0.3518 - accuracy: 0.8563 - val_loss: 0.3742 - val_accuracy: 0.8533\n",
            "Epoch 5/5\n",
            "151/151 [==============================] - 3s 18ms/step - loss: 0.3438 - accuracy: 0.8640 - val_loss: 0.3626 - val_accuracy: 0.8518\n",
            "76/76 [==============================] - 1s 7ms/step - loss: 0.3601 - accuracy: 0.8493\n",
            "Epoch 1/5\n",
            "151/151 [==============================] - 4s 20ms/step - loss: 0.4391 - accuracy: 0.8163 - val_loss: 0.3978 - val_accuracy: 0.8361\n",
            "Epoch 2/5\n",
            "151/151 [==============================] - 3s 17ms/step - loss: 0.3636 - accuracy: 0.8512 - val_loss: 0.3818 - val_accuracy: 0.8455\n",
            "Epoch 3/5\n",
            "151/151 [==============================] - 3s 18ms/step - loss: 0.3474 - accuracy: 0.8611 - val_loss: 0.3704 - val_accuracy: 0.8447\n",
            "Epoch 4/5\n",
            "151/151 [==============================] - 3s 18ms/step - loss: 0.3403 - accuracy: 0.8622 - val_loss: 0.3931 - val_accuracy: 0.8408\n",
            "Epoch 5/5\n",
            "151/151 [==============================] - 3s 18ms/step - loss: 0.3325 - accuracy: 0.8638 - val_loss: 0.3683 - val_accuracy: 0.8541\n",
            "76/76 [==============================] - 1s 6ms/step - loss: 0.3920 - accuracy: 0.8372\n",
            "Epoch 1/5\n",
            "151/151 [==============================] - 3s 18ms/step - loss: 0.4471 - accuracy: 0.8055 - val_loss: 0.3955 - val_accuracy: 0.8282\n",
            "Epoch 2/5\n",
            "151/151 [==============================] - 3s 17ms/step - loss: 0.3812 - accuracy: 0.8404 - val_loss: 0.4190 - val_accuracy: 0.8039\n",
            "Epoch 3/5\n",
            "151/151 [==============================] - 3s 18ms/step - loss: 0.3624 - accuracy: 0.8453 - val_loss: 0.3829 - val_accuracy: 0.8510\n",
            "Epoch 4/5\n",
            "151/151 [==============================] - 3s 17ms/step - loss: 0.3459 - accuracy: 0.8526 - val_loss: 0.3778 - val_accuracy: 0.8424\n",
            "Epoch 5/5\n",
            "151/151 [==============================] - 3s 17ms/step - loss: 0.3367 - accuracy: 0.8576 - val_loss: 0.3576 - val_accuracy: 0.8635\n",
            "76/76 [==============================] - 1s 6ms/step - loss: 0.3650 - accuracy: 0.8507\n",
            "Epoch 1/5\n",
            "151/151 [==============================] - 1s 5ms/step - loss: 0.4088 - accuracy: 0.8343 - val_loss: 0.4095 - val_accuracy: 0.8486\n",
            "Epoch 2/5\n",
            "151/151 [==============================] - 1s 4ms/step - loss: 0.3761 - accuracy: 0.8509 - val_loss: 0.3897 - val_accuracy: 0.8392\n",
            "Epoch 3/5\n",
            "151/151 [==============================] - 1s 4ms/step - loss: 0.3669 - accuracy: 0.8524 - val_loss: 0.3715 - val_accuracy: 0.8486\n",
            "Epoch 4/5\n",
            "151/151 [==============================] - 1s 4ms/step - loss: 0.3590 - accuracy: 0.8538 - val_loss: 0.3566 - val_accuracy: 0.8502\n",
            "Epoch 5/5\n",
            "151/151 [==============================] - 1s 4ms/step - loss: 0.3578 - accuracy: 0.8582 - val_loss: 0.3718 - val_accuracy: 0.8502\n",
            "76/76 [==============================] - 0s 2ms/step - loss: 0.3611 - accuracy: 0.8495\n",
            "Epoch 1/5\n",
            "151/151 [==============================] - 1s 5ms/step - loss: 0.4087 - accuracy: 0.8377 - val_loss: 0.3772 - val_accuracy: 0.8525\n",
            "Epoch 2/5\n",
            "151/151 [==============================] - 1s 3ms/step - loss: 0.3653 - accuracy: 0.8549 - val_loss: 0.3739 - val_accuracy: 0.8510\n",
            "Epoch 3/5\n",
            "151/151 [==============================] - 1s 3ms/step - loss: 0.3549 - accuracy: 0.8565 - val_loss: 0.3967 - val_accuracy: 0.8267\n",
            "Epoch 4/5\n",
            "151/151 [==============================] - 1s 3ms/step - loss: 0.3501 - accuracy: 0.8584 - val_loss: 0.4124 - val_accuracy: 0.8455\n",
            "Epoch 5/5\n",
            "151/151 [==============================] - 1s 3ms/step - loss: 0.3499 - accuracy: 0.8588 - val_loss: 0.3700 - val_accuracy: 0.8533\n",
            "76/76 [==============================] - 1s 2ms/step - loss: 0.3916 - accuracy: 0.8466\n",
            "Epoch 1/5\n",
            "151/151 [==============================] - 1s 4ms/step - loss: 0.4228 - accuracy: 0.8260 - val_loss: 0.3854 - val_accuracy: 0.8369\n",
            "Epoch 2/5\n",
            "151/151 [==============================] - 1s 3ms/step - loss: 0.3667 - accuracy: 0.8493 - val_loss: 0.3754 - val_accuracy: 0.8502\n",
            "Epoch 3/5\n",
            "151/151 [==============================] - 1s 3ms/step - loss: 0.3601 - accuracy: 0.8449 - val_loss: 0.3733 - val_accuracy: 0.8416\n",
            "Epoch 4/5\n",
            "151/151 [==============================] - 1s 4ms/step - loss: 0.3636 - accuracy: 0.8478 - val_loss: 0.3717 - val_accuracy: 0.8408\n",
            "Epoch 5/5\n",
            "151/151 [==============================] - 1s 4ms/step - loss: 0.3528 - accuracy: 0.8539 - val_loss: 0.3733 - val_accuracy: 0.8518\n",
            "76/76 [==============================] - 1s 2ms/step - loss: 0.3697 - accuracy: 0.8549\n",
            "Epoch 1/5\n",
            "151/151 [==============================] - 2s 10ms/step - loss: 0.4471 - accuracy: 0.8191 - val_loss: 0.4053 - val_accuracy: 0.8314\n",
            "Epoch 2/5\n",
            "151/151 [==============================] - 1s 9ms/step - loss: 0.3883 - accuracy: 0.8445 - val_loss: 0.4080 - val_accuracy: 0.8384\n",
            "Epoch 3/5\n",
            "151/151 [==============================] - 1s 9ms/step - loss: 0.4005 - accuracy: 0.8399 - val_loss: 0.4228 - val_accuracy: 0.7961\n",
            "Epoch 4/5\n",
            "151/151 [==============================] - 1s 8ms/step - loss: 0.3933 - accuracy: 0.8341 - val_loss: 0.4090 - val_accuracy: 0.8322\n",
            "Epoch 5/5\n",
            "151/151 [==============================] - 1s 8ms/step - loss: 0.3833 - accuracy: 0.8470 - val_loss: 0.3882 - val_accuracy: 0.8251\n",
            "76/76 [==============================] - 1s 3ms/step - loss: 0.3765 - accuracy: 0.8295\n",
            "Epoch 1/5\n",
            "151/151 [==============================] - 4s 20ms/step - loss: 0.4363 - accuracy: 0.8264 - val_loss: 0.4078 - val_accuracy: 0.8416\n",
            "Epoch 2/5\n",
            "151/151 [==============================] - 1s 8ms/step - loss: 0.3870 - accuracy: 0.8385 - val_loss: 0.4073 - val_accuracy: 0.8408\n",
            "Epoch 3/5\n",
            "151/151 [==============================] - 1s 9ms/step - loss: 0.3795 - accuracy: 0.8489 - val_loss: 0.3848 - val_accuracy: 0.8424\n",
            "Epoch 4/5\n",
            "151/151 [==============================] - 1s 9ms/step - loss: 0.3700 - accuracy: 0.8501 - val_loss: 0.3847 - val_accuracy: 0.8329\n",
            "Epoch 5/5\n",
            "151/151 [==============================] - 1s 9ms/step - loss: 0.3587 - accuracy: 0.8553 - val_loss: 0.3795 - val_accuracy: 0.8471\n",
            "76/76 [==============================] - 1s 3ms/step - loss: 0.3888 - accuracy: 0.8417\n",
            "Epoch 1/5\n",
            "151/151 [==============================] - 2s 10ms/step - loss: 0.4361 - accuracy: 0.8175 - val_loss: 0.3966 - val_accuracy: 0.8337\n",
            "Epoch 2/5\n",
            "151/151 [==============================] - 1s 8ms/step - loss: 0.3831 - accuracy: 0.8422 - val_loss: 0.3807 - val_accuracy: 0.8424\n",
            "Epoch 3/5\n",
            "151/151 [==============================] - 1s 8ms/step - loss: 0.3787 - accuracy: 0.8387 - val_loss: 0.3830 - val_accuracy: 0.8431\n",
            "Epoch 4/5\n",
            "151/151 [==============================] - 1s 9ms/step - loss: 0.3686 - accuracy: 0.8449 - val_loss: 0.4157 - val_accuracy: 0.8118\n",
            "Epoch 5/5\n",
            "151/151 [==============================] - 2s 12ms/step - loss: 0.3868 - accuracy: 0.8366 - val_loss: 0.5160 - val_accuracy: 0.8055\n",
            "76/76 [==============================] - 1s 4ms/step - loss: 0.4790 - accuracy: 0.8162\n",
            "Epoch 1/5\n",
            "151/151 [==============================] - 3s 14ms/step - loss: 28832.3457 - accuracy: 0.7473 - val_loss: 0.5226 - val_accuracy: 0.7835\n",
            "Epoch 2/5\n",
            "151/151 [==============================] - 3s 19ms/step - loss: 0.5099 - accuracy: 0.7961 - val_loss: 0.5318 - val_accuracy: 0.7835\n",
            "Epoch 3/5\n",
            "151/151 [==============================] - 2s 13ms/step - loss: 0.5088 - accuracy: 0.7961 - val_loss: 0.5224 - val_accuracy: 0.7835\n",
            "Epoch 4/5\n",
            "151/151 [==============================] - 2s 12ms/step - loss: 0.5117 - accuracy: 0.7961 - val_loss: 0.5240 - val_accuracy: 0.7835\n",
            "Epoch 5/5\n",
            "151/151 [==============================] - 2s 12ms/step - loss: 0.5112 - accuracy: 0.7961 - val_loss: 0.5257 - val_accuracy: 0.7835\n",
            "76/76 [==============================] - 1s 5ms/step - loss: 0.5044 - accuracy: 0.7977\n",
            "Epoch 1/5\n",
            "151/151 [==============================] - 3s 14ms/step - loss: 2980.7771 - accuracy: 0.7652 - val_loss: 0.5332 - val_accuracy: 0.7835\n",
            "Epoch 2/5\n",
            "151/151 [==============================] - 2s 13ms/step - loss: 0.5185 - accuracy: 0.7978 - val_loss: 0.5256 - val_accuracy: 0.7835\n",
            "Epoch 3/5\n",
            "151/151 [==============================] - 2s 14ms/step - loss: 0.5239 - accuracy: 0.7978 - val_loss: 0.5749 - val_accuracy: 0.7835\n",
            "Epoch 4/5\n",
            "151/151 [==============================] - 2s 13ms/step - loss: 0.5157 - accuracy: 0.7978 - val_loss: 0.5234 - val_accuracy: 0.7835\n",
            "Epoch 5/5\n",
            "151/151 [==============================] - 2s 13ms/step - loss: 0.5125 - accuracy: 0.7978 - val_loss: 0.5221 - val_accuracy: 0.7835\n",
            "76/76 [==============================] - 1s 5ms/step - loss: 0.5078 - accuracy: 0.7952\n",
            "Epoch 1/5\n",
            "151/151 [==============================] - 3s 14ms/step - loss: 2168.7722 - accuracy: 0.6529 - val_loss: 17.8105 - val_accuracy: 0.2157\n",
            "Epoch 2/5\n",
            "151/151 [==============================] - 2s 13ms/step - loss: 8.6224 - accuracy: 0.7750 - val_loss: 0.5226 - val_accuracy: 0.7835\n",
            "Epoch 3/5\n",
            "151/151 [==============================] - 2s 14ms/step - loss: 0.5062 - accuracy: 0.7961 - val_loss: 0.5701 - val_accuracy: 0.7835\n",
            "Epoch 4/5\n",
            "151/151 [==============================] - 2s 13ms/step - loss: 0.5101 - accuracy: 0.7961 - val_loss: 0.5234 - val_accuracy: 0.7835\n",
            "Epoch 5/5\n",
            "151/151 [==============================] - 2s 13ms/step - loss: 0.5064 - accuracy: 0.7961 - val_loss: 0.5245 - val_accuracy: 0.7835\n",
            "76/76 [==============================] - 1s 5ms/step - loss: 0.5165 - accuracy: 0.7952\n",
            "Epoch 1/5\n",
            "151/151 [==============================] - 3s 17ms/step - loss: 695079552.0000 - accuracy: 0.7166 - val_loss: 0.5275 - val_accuracy: 0.7835\n",
            "Epoch 2/5\n",
            "151/151 [==============================] - 2s 16ms/step - loss: 0.5102 - accuracy: 0.7961 - val_loss: 0.5235 - val_accuracy: 0.7835\n",
            "Epoch 3/5\n",
            "151/151 [==============================] - 2s 16ms/step - loss: 0.5103 - accuracy: 0.7961 - val_loss: 0.5240 - val_accuracy: 0.7835\n",
            "Epoch 4/5\n",
            "151/151 [==============================] - 2s 14ms/step - loss: 0.5146 - accuracy: 0.7961 - val_loss: 0.5224 - val_accuracy: 0.7835\n",
            "Epoch 5/5\n",
            "151/151 [==============================] - 2s 16ms/step - loss: 0.5136 - accuracy: 0.7961 - val_loss: 0.5229 - val_accuracy: 0.7835\n",
            "76/76 [==============================] - 1s 5ms/step - loss: 0.5055 - accuracy: 0.7977\n",
            "Epoch 1/5\n",
            "151/151 [==============================] - 3s 17ms/step - loss: 1803344384.0000 - accuracy: 0.7239 - val_loss: 0.5251 - val_accuracy: 0.7835\n",
            "Epoch 2/5\n",
            "151/151 [==============================] - 2s 16ms/step - loss: 0.5066 - accuracy: 0.7978 - val_loss: 0.5241 - val_accuracy: 0.7835\n",
            "Epoch 3/5\n",
            "151/151 [==============================] - 2s 15ms/step - loss: 0.5066 - accuracy: 0.7978 - val_loss: 0.5305 - val_accuracy: 0.7835\n",
            "Epoch 4/5\n",
            "151/151 [==============================] - 2s 16ms/step - loss: 0.5072 - accuracy: 0.7978 - val_loss: 0.5224 - val_accuracy: 0.7835\n",
            "Epoch 5/5\n",
            "151/151 [==============================] - 2s 16ms/step - loss: 0.5131 - accuracy: 0.7978 - val_loss: 0.5225 - val_accuracy: 0.7835\n",
            "76/76 [==============================] - 1s 5ms/step - loss: 0.5081 - accuracy: 0.7952\n",
            "Epoch 1/5\n",
            "151/151 [==============================] - 3s 16ms/step - loss: 2951742976.0000 - accuracy: 0.7233 - val_loss: 0.5234 - val_accuracy: 0.7835\n",
            "Epoch 2/5\n",
            "151/151 [==============================] - 2s 15ms/step - loss: 0.5116 - accuracy: 0.7961 - val_loss: 0.5499 - val_accuracy: 0.7835\n",
            "Epoch 3/5\n",
            "151/151 [==============================] - 2s 15ms/step - loss: 0.5086 - accuracy: 0.7961 - val_loss: 0.5267 - val_accuracy: 0.7835\n",
            "Epoch 4/5\n",
            "151/151 [==============================] - 2s 16ms/step - loss: 0.5093 - accuracy: 0.7961 - val_loss: 0.5229 - val_accuracy: 0.7835\n",
            "Epoch 5/5\n",
            "151/151 [==============================] - 2s 16ms/step - loss: 0.5101 - accuracy: 0.7961 - val_loss: 0.5295 - val_accuracy: 0.7835\n",
            "76/76 [==============================] - 1s 5ms/step - loss: 0.5070 - accuracy: 0.7961\n",
            "Epoch 1/5\n",
            "151/151 [==============================] - 2s 9ms/step - loss: 0.4381 - accuracy: 0.8200 - val_loss: 0.4415 - val_accuracy: 0.8094\n",
            "Epoch 2/5\n",
            "151/151 [==============================] - 1s 8ms/step - loss: 0.3953 - accuracy: 0.8372 - val_loss: 0.3832 - val_accuracy: 0.8486\n",
            "Epoch 3/5\n",
            "151/151 [==============================] - 1s 8ms/step - loss: 0.3734 - accuracy: 0.8472 - val_loss: 0.4760 - val_accuracy: 0.8110\n",
            "Epoch 4/5\n",
            "151/151 [==============================] - 1s 8ms/step - loss: 0.3756 - accuracy: 0.8511 - val_loss: 0.3810 - val_accuracy: 0.8392\n",
            "Epoch 5/5\n",
            "151/151 [==============================] - 1s 8ms/step - loss: 0.3763 - accuracy: 0.8428 - val_loss: 0.3917 - val_accuracy: 0.8306\n",
            "76/76 [==============================] - 1s 4ms/step - loss: 0.3996 - accuracy: 0.8349\n",
            "Epoch 1/5\n",
            "151/151 [==============================] - 2s 9ms/step - loss: 0.4448 - accuracy: 0.8223 - val_loss: 0.4008 - val_accuracy: 0.8424\n",
            "Epoch 2/5\n",
            "151/151 [==============================] - 1s 8ms/step - loss: 0.3806 - accuracy: 0.8495 - val_loss: 0.3975 - val_accuracy: 0.8345\n",
            "Epoch 3/5\n",
            "151/151 [==============================] - 1s 8ms/step - loss: 0.3634 - accuracy: 0.8541 - val_loss: 0.3753 - val_accuracy: 0.8392\n",
            "Epoch 4/5\n",
            "151/151 [==============================] - 1s 8ms/step - loss: 0.3657 - accuracy: 0.8551 - val_loss: 0.3699 - val_accuracy: 0.8510\n",
            "Epoch 5/5\n",
            "151/151 [==============================] - 1s 8ms/step - loss: 0.3489 - accuracy: 0.8582 - val_loss: 0.3673 - val_accuracy: 0.8502\n",
            "76/76 [==============================] - 1s 4ms/step - loss: 0.3728 - accuracy: 0.8475\n",
            "Epoch 1/5\n",
            "151/151 [==============================] - 2s 10ms/step - loss: 0.4381 - accuracy: 0.8132 - val_loss: 0.3863 - val_accuracy: 0.8369\n",
            "Epoch 2/5\n",
            "151/151 [==============================] - 1s 8ms/step - loss: 0.3903 - accuracy: 0.8366 - val_loss: 0.3751 - val_accuracy: 0.8439\n",
            "Epoch 3/5\n",
            "151/151 [==============================] - 1s 8ms/step - loss: 0.3814 - accuracy: 0.8437 - val_loss: 0.3851 - val_accuracy: 0.8557\n",
            "Epoch 4/5\n",
            "151/151 [==============================] - 1s 8ms/step - loss: 0.3616 - accuracy: 0.8482 - val_loss: 0.3612 - val_accuracy: 0.8502\n",
            "Epoch 5/5\n",
            "151/151 [==============================] - 1s 8ms/step - loss: 0.3678 - accuracy: 0.8470 - val_loss: 0.3775 - val_accuracy: 0.8478\n",
            "76/76 [==============================] - 1s 4ms/step - loss: 0.3829 - accuracy: 0.8495\n",
            "Epoch 1/5\n",
            "151/151 [==============================] - 2s 9ms/step - loss: 5.9939 - accuracy: 0.7712 - val_loss: 0.5226 - val_accuracy: 0.7835\n",
            "Epoch 2/5\n",
            "151/151 [==============================] - 1s 8ms/step - loss: 0.6223 - accuracy: 0.7930 - val_loss: 0.5225 - val_accuracy: 0.7835\n",
            "Epoch 3/5\n",
            "151/151 [==============================] - 1s 8ms/step - loss: 0.5075 - accuracy: 0.7961 - val_loss: 0.5227 - val_accuracy: 0.7835\n",
            "Epoch 4/5\n",
            "151/151 [==============================] - 1s 8ms/step - loss: 0.5063 - accuracy: 0.7961 - val_loss: 0.5227 - val_accuracy: 0.7835\n",
            "Epoch 5/5\n",
            "151/151 [==============================] - 1s 8ms/step - loss: 0.5068 - accuracy: 0.7961 - val_loss: 0.5229 - val_accuracy: 0.7835\n",
            "76/76 [==============================] - 1s 4ms/step - loss: 0.5034 - accuracy: 0.7977\n",
            "Epoch 1/5\n",
            "151/151 [==============================] - 2s 9ms/step - loss: 11.8675 - accuracy: 0.7646 - val_loss: 0.5250 - val_accuracy: 0.7835\n",
            "Epoch 2/5\n",
            "151/151 [==============================] - 1s 8ms/step - loss: 0.5067 - accuracy: 0.7978 - val_loss: 0.5234 - val_accuracy: 0.7835\n",
            "Epoch 3/5\n",
            "151/151 [==============================] - 1s 8ms/step - loss: 0.5056 - accuracy: 0.7978 - val_loss: 0.5225 - val_accuracy: 0.7835\n",
            "Epoch 4/5\n",
            "151/151 [==============================] - 1s 8ms/step - loss: 0.5073 - accuracy: 0.7978 - val_loss: 0.5258 - val_accuracy: 0.7835\n",
            "Epoch 5/5\n",
            "151/151 [==============================] - 1s 7ms/step - loss: 0.5052 - accuracy: 0.7978 - val_loss: 0.5231 - val_accuracy: 0.7835\n",
            "76/76 [==============================] - 1s 5ms/step - loss: 0.5100 - accuracy: 0.7952\n",
            "Epoch 1/5\n",
            "151/151 [==============================] - 2s 9ms/step - loss: 7.7394 - accuracy: 0.7785 - val_loss: 0.5246 - val_accuracy: 0.7835\n",
            "Epoch 2/5\n",
            "151/151 [==============================] - 1s 8ms/step - loss: 0.5069 - accuracy: 0.7961 - val_loss: 0.5236 - val_accuracy: 0.7835\n",
            "Epoch 3/5\n",
            "151/151 [==============================] - 1s 8ms/step - loss: 0.5076 - accuracy: 0.7961 - val_loss: 0.5226 - val_accuracy: 0.7835\n",
            "Epoch 4/5\n",
            "151/151 [==============================] - 1s 8ms/step - loss: 0.5063 - accuracy: 0.7961 - val_loss: 0.5242 - val_accuracy: 0.7835\n",
            "Epoch 5/5\n",
            "151/151 [==============================] - 1s 7ms/step - loss: 0.5075 - accuracy: 0.7961 - val_loss: 0.5253 - val_accuracy: 0.7835\n",
            "76/76 [==============================] - 1s 3ms/step - loss: 0.5043 - accuracy: 0.7961\n",
            "Epoch 1/5\n",
            "151/151 [==============================] - 1s 4ms/step - loss: 0.4191 - accuracy: 0.8279 - val_loss: 0.3715 - val_accuracy: 0.8494\n",
            "Epoch 2/5\n",
            "151/151 [==============================] - 0s 3ms/step - loss: 0.3751 - accuracy: 0.8505 - val_loss: 0.3766 - val_accuracy: 0.8400\n",
            "Epoch 3/5\n",
            "151/151 [==============================] - 0s 3ms/step - loss: 0.3709 - accuracy: 0.8513 - val_loss: 0.3774 - val_accuracy: 0.8455\n",
            "Epoch 4/5\n",
            "151/151 [==============================] - 0s 3ms/step - loss: 0.3606 - accuracy: 0.8520 - val_loss: 0.3899 - val_accuracy: 0.8369\n",
            "Epoch 5/5\n",
            "151/151 [==============================] - 0s 3ms/step - loss: 0.3559 - accuracy: 0.8578 - val_loss: 0.3799 - val_accuracy: 0.8439\n",
            "76/76 [==============================] - 0s 2ms/step - loss: 0.3578 - accuracy: 0.8458\n",
            "Epoch 1/5\n",
            "151/151 [==============================] - 1s 4ms/step - loss: 0.4169 - accuracy: 0.8294 - val_loss: 0.3900 - val_accuracy: 0.8439\n",
            "Epoch 2/5\n",
            "151/151 [==============================] - 0s 3ms/step - loss: 0.3610 - accuracy: 0.8539 - val_loss: 0.3820 - val_accuracy: 0.8533\n",
            "Epoch 3/5\n",
            "151/151 [==============================] - 0s 3ms/step - loss: 0.3529 - accuracy: 0.8580 - val_loss: 0.3764 - val_accuracy: 0.8525\n",
            "Epoch 4/5\n",
            "151/151 [==============================] - 1s 3ms/step - loss: 0.3435 - accuracy: 0.8578 - val_loss: 0.3691 - val_accuracy: 0.8549\n",
            "Epoch 5/5\n",
            "151/151 [==============================] - 0s 3ms/step - loss: 0.3416 - accuracy: 0.8592 - val_loss: 0.3636 - val_accuracy: 0.8525\n",
            "76/76 [==============================] - 1s 2ms/step - loss: 0.3714 - accuracy: 0.8475\n",
            "Epoch 1/5\n",
            "151/151 [==============================] - 1s 4ms/step - loss: 0.4096 - accuracy: 0.8283 - val_loss: 0.3911 - val_accuracy: 0.8369\n",
            "Epoch 2/5\n",
            "151/151 [==============================] - 1s 4ms/step - loss: 0.3725 - accuracy: 0.8472 - val_loss: 0.3826 - val_accuracy: 0.8455\n",
            "Epoch 3/5\n",
            "151/151 [==============================] - 0s 3ms/step - loss: 0.3574 - accuracy: 0.8482 - val_loss: 0.3612 - val_accuracy: 0.8494\n",
            "Epoch 4/5\n",
            "151/151 [==============================] - 0s 3ms/step - loss: 0.3546 - accuracy: 0.8516 - val_loss: 0.3618 - val_accuracy: 0.8557\n",
            "Epoch 5/5\n",
            "151/151 [==============================] - 0s 3ms/step - loss: 0.3480 - accuracy: 0.8549 - val_loss: 0.3663 - val_accuracy: 0.8525\n",
            "76/76 [==============================] - 0s 2ms/step - loss: 0.3608 - accuracy: 0.8549\n",
            "Epoch 1/5\n",
            "226/226 [==============================] - 1s 4ms/step - loss: 0.4035 - accuracy: 0.8338 - val_loss: 0.3891 - val_accuracy: 0.8486\n",
            "Epoch 2/5\n",
            "226/226 [==============================] - 1s 3ms/step - loss: 0.3689 - accuracy: 0.8484 - val_loss: 0.3958 - val_accuracy: 0.8510\n",
            "Epoch 3/5\n",
            "226/226 [==============================] - 1s 3ms/step - loss: 0.3640 - accuracy: 0.8509 - val_loss: 0.3604 - val_accuracy: 0.8565\n",
            "Epoch 4/5\n",
            "226/226 [==============================] - 1s 3ms/step - loss: 0.3541 - accuracy: 0.8551 - val_loss: 0.3850 - val_accuracy: 0.8510\n",
            "Epoch 5/5\n",
            "226/226 [==============================] - 1s 3ms/step - loss: 0.3539 - accuracy: 0.8509 - val_loss: 0.3718 - val_accuracy: 0.8478\n"
          ]
        }
      ],
      "source": [
        "history = hyper_parameter_tuning.fit(train_X, train_Y, epochs = 5, validation_data=(valid_X, valid_Y))"
      ]
    },
    {
      "cell_type": "code",
      "execution_count": 80,
      "metadata": {
        "colab": {
          "base_uri": "https://localhost:8080/"
        },
        "id": "BhCL3iYD6o2r",
        "outputId": "01b6fb68-d582-470e-c038-4a59119fa5d1"
      },
      "outputs": [
        {
          "output_type": "execute_result",
          "data": {
            "text/plain": [
              "{'units': 350, 'lr': 0.01, 'layers': 1}"
            ]
          },
          "metadata": {},
          "execution_count": 80
        }
      ],
      "source": [
        "history.best_params_"
      ]
    },
    {
      "cell_type": "code",
      "execution_count": 81,
      "metadata": {
        "colab": {
          "base_uri": "https://localhost:8080/"
        },
        "id": "2OPAYJKI6o5N",
        "outputId": "9f768d47-6b3a-48b0-c549-b45214b195c1"
      },
      "outputs": [
        {
          "output_type": "execute_result",
          "data": {
            "text/plain": [
              "0.8503289421399435"
            ]
          },
          "metadata": {},
          "execution_count": 81
        }
      ],
      "source": [
        "history.best_score_"
      ]
    },
    {
      "cell_type": "code",
      "execution_count": 84,
      "metadata": {
        "id": "r81iTNOzyZxb"
      },
      "outputs": [],
      "source": [
        "final_model = history.best_estimator_.model"
      ]
    },
    {
      "cell_type": "code",
      "source": [
        "model_history = final_model.fit(train_X, train_Y, validation_data=(test_X, test_Y), epochs=20)"
      ],
      "metadata": {
        "colab": {
          "base_uri": "https://localhost:8080/"
        },
        "id": "xd_DcztVc90G",
        "outputId": "afb693b9-3a4a-453a-883e-500122e37554"
      },
      "execution_count": 89,
      "outputs": [
        {
          "output_type": "stream",
          "name": "stdout",
          "text": [
            "Epoch 1/20\n",
            "226/226 [==============================] - 2s 7ms/step - loss: 0.2911 - accuracy: 0.8742 - val_loss: 0.4012 - val_accuracy: 0.8567\n",
            "Epoch 2/20\n",
            "226/226 [==============================] - 2s 7ms/step - loss: 0.2925 - accuracy: 0.8767 - val_loss: 0.3927 - val_accuracy: 0.8560\n",
            "Epoch 3/20\n",
            "226/226 [==============================] - 2s 9ms/step - loss: 0.2873 - accuracy: 0.8752 - val_loss: 0.4158 - val_accuracy: 0.8560\n",
            "Epoch 4/20\n",
            "226/226 [==============================] - 1s 6ms/step - loss: 0.2866 - accuracy: 0.8740 - val_loss: 0.4105 - val_accuracy: 0.8373\n",
            "Epoch 5/20\n",
            "226/226 [==============================] - 2s 8ms/step - loss: 0.2783 - accuracy: 0.8785 - val_loss: 0.4534 - val_accuracy: 0.8467\n",
            "Epoch 6/20\n",
            "226/226 [==============================] - 2s 11ms/step - loss: 0.2753 - accuracy: 0.8799 - val_loss: 0.4324 - val_accuracy: 0.8473\n",
            "Epoch 7/20\n",
            "226/226 [==============================] - 3s 11ms/step - loss: 0.2667 - accuracy: 0.8854 - val_loss: 0.4529 - val_accuracy: 0.8487\n",
            "Epoch 8/20\n",
            "226/226 [==============================] - 2s 8ms/step - loss: 0.2726 - accuracy: 0.8832 - val_loss: 0.4664 - val_accuracy: 0.8367\n",
            "Epoch 9/20\n",
            "226/226 [==============================] - 2s 7ms/step - loss: 0.2629 - accuracy: 0.8858 - val_loss: 0.4511 - val_accuracy: 0.8353\n",
            "Epoch 10/20\n",
            "226/226 [==============================] - 2s 7ms/step - loss: 0.2555 - accuracy: 0.8898 - val_loss: 0.4640 - val_accuracy: 0.8360\n",
            "Epoch 11/20\n",
            "226/226 [==============================] - 1s 6ms/step - loss: 0.2531 - accuracy: 0.8926 - val_loss: 0.4673 - val_accuracy: 0.8333\n",
            "Epoch 12/20\n",
            "226/226 [==============================] - 1s 6ms/step - loss: 0.2471 - accuracy: 0.8922 - val_loss: 0.4627 - val_accuracy: 0.8373\n",
            "Epoch 13/20\n",
            "226/226 [==============================] - 2s 7ms/step - loss: 0.2438 - accuracy: 0.8930 - val_loss: 0.5132 - val_accuracy: 0.8347\n",
            "Epoch 14/20\n",
            "226/226 [==============================] - 1s 7ms/step - loss: 0.2480 - accuracy: 0.8907 - val_loss: 0.5177 - val_accuracy: 0.8407\n",
            "Epoch 15/20\n",
            "226/226 [==============================] - 2s 7ms/step - loss: 0.2384 - accuracy: 0.8967 - val_loss: 0.5015 - val_accuracy: 0.8373\n",
            "Epoch 16/20\n",
            "226/226 [==============================] - 1s 6ms/step - loss: 0.2310 - accuracy: 0.8991 - val_loss: 0.5150 - val_accuracy: 0.8373\n",
            "Epoch 17/20\n",
            "226/226 [==============================] - 2s 7ms/step - loss: 0.2439 - accuracy: 0.8951 - val_loss: 0.5366 - val_accuracy: 0.8440\n",
            "Epoch 18/20\n",
            "226/226 [==============================] - 1s 6ms/step - loss: 0.2404 - accuracy: 0.8977 - val_loss: 0.5242 - val_accuracy: 0.8227\n",
            "Epoch 19/20\n",
            "226/226 [==============================] - 2s 7ms/step - loss: 0.2299 - accuracy: 0.9015 - val_loss: 0.5412 - val_accuracy: 0.8300\n",
            "Epoch 20/20\n",
            "226/226 [==============================] - 1s 4ms/step - loss: 0.2225 - accuracy: 0.9037 - val_loss: 0.5512 - val_accuracy: 0.8180\n"
          ]
        }
      ]
    },
    {
      "cell_type": "code",
      "execution_count": 92,
      "metadata": {
        "colab": {
          "base_uri": "https://localhost:8080/",
          "height": 298
        },
        "id": "s_xORgwRylZt",
        "outputId": "35a00616-56ca-4702-fba8-fd8193b1b79f"
      },
      "outputs": [
        {
          "output_type": "execute_result",
          "data": {
            "text/plain": [
              "Text(0.5, 1.0, 'LOSS')"
            ]
          },
          "metadata": {},
          "execution_count": 92
        },
        {
          "output_type": "display_data",
          "data": {
            "text/plain": [
              "<Figure size 432x288 with 1 Axes>"
            ],
            "image/png": "[encoded data removed]"
          },
          "metadata": {
            "needs_background": "light"
          }
        }
      ],
      "source": [
        "# Plotting the accuracies and losses for valdiation and training data\n",
        "\n",
        "plt.plot(model_history.history[\"loss\"])\n",
        "plt.plot(model_history.history[\"val_loss\"])\n",
        "plt.title(\"LOSS\")"
      ]
    },
    {
      "cell_type": "code",
      "execution_count": 93,
      "metadata": {
        "colab": {
          "base_uri": "https://localhost:8080/",
          "height": 298
        },
        "id": "L2A192EczEtH",
        "outputId": "c775fe4b-0bf6-43ef-be48-ad9cb3a844b2"
      },
      "outputs": [
        {
          "output_type": "execute_result",
          "data": {
            "text/plain": [
              "Text(0.5, 1.0, 'ACCURACY')"
            ]
          },
          "metadata": {},
          "execution_count": 93
        },
        {
          "output_type": "display_data",
          "data": {
            "text/plain": [
              "<Figure size 432x288 with 1 Axes>"
            ],
            "image/png": "[encoded data removed]"
          },
          "metadata": {
            "needs_background": "light"
          }
        }
      ],
      "source": [
        "plt.plot(model_history.history[\"val_accuracy\"])\n",
        "plt.plot(model_history.history[\"accuracy\"])\n",
        "plt.title(\"ACCURACY\")"
      ]
    },
    {
      "cell_type": "code",
      "execution_count": 94,
      "metadata": {
        "id": "tfFZf6dbzPmJ"
      },
      "outputs": [],
      "source": [
        "import pickle "
      ]
    },
    {
      "cell_type": "code",
      "execution_count": 96,
      "metadata": {
        "id": "09va41Aj0uT_"
      },
      "outputs": [],
      "source": [
        "file_ = open(\"model.pkl\",\"wb\")\n",
        "\n",
        "pickle.dump(final_model,file_)"
      ]
    },
    {
      "cell_type": "code",
      "execution_count": 97,
      "metadata": {
        "id": "OWC4ZRMD01TJ"
      },
      "outputs": [],
      "source": [
        "file_.close()"
      ]
    },
    {
      "cell_type": "code",
      "execution_count": null,
      "metadata": {
        "colab": {
          "background_save": true
        },
        "id": "kiDsED5vVBxN"
      },
      "outputs": [],
      "source": [
        "pip freeze > requirements.txt"
      ]
    },
    {
      "cell_type": "code",
      "execution_count": null,
      "metadata": {
        "colab": {
          "background_save": true
        },
        "id": "DYC_amC1OzK8"
      },
      "outputs": [],
      "source": [
        "pip install pipreqs"
      ]
    },
    {
      "cell_type": "code",
      "execution_count": null,
      "metadata": {
        "colab": {
          "background_save": true
        },
        "id": "AoCn3MX2SGwd"
      },
      "outputs": [],
      "source": [
        ""
      ]
    },
    {
      "cell_type": "code",
      "execution_count": null,
      "metadata": {
        "colab": {
          "background_save": true
        },
        "id": "EP1II0gcSGt6"
      },
      "outputs": [],
      "source": [
        ""
      ]
    },
    {
      "cell_type": "code",
      "execution_count": null,
      "metadata": {
        "colab": {
          "background_save": true
        },
        "id": "Q4mWigePQA7B"
      },
      "outputs": [],
      "source": [
        ""
      ]
    },
    {
      "cell_type": "code",
      "execution_count": null,
      "metadata": {
        "colab": {
          "background_save": true
        },
        "id": "uVlw_lPWQA9Y"
      },
      "outputs": [],
      "source": [
        ""
      ]
    }
  ],
  "metadata": {
    "colab": {
      "collapsed_sections": [],
      "name": "Churn Model",
      "provenance": [],
      "authorship_tag": "ABX9TyNuQub+kY0xXKTkSJe0yksg",
      "include_colab_link": true
    },
    "kernelspec": {
      "display_name": "Python 3",
      "name": "python3"
    },
    "language_info": {
      "name": "python"
    }
  },
  "nbformat": 4,
  "nbformat_minor": 0
}