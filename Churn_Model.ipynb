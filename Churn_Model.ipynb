{
  "cells": [
    {
      "cell_type": "markdown",
      "metadata": {
        "id": "view-in-github",
        "colab_type": "text"
      },
      "source": [
        "<a href=\"https://colab.research.google.com/github/abhi-11nav/Churn-Model/blob/main/Churn_Model.ipynb\" target=\"_parent\"><img src=\"https://colab.research.google.com/assets/colab-badge.svg\" alt=\"Open In Colab\"/></a>"
      ]
    },
    {
      "cell_type": "code",
      "execution_count": 98,
      "metadata": {
        "id": "xLD1SrEb_TYO"
      },
      "outputs": [],
      "source": [
        "# Importing libraries for data visualization and manipulation\n",
        "\n",
        "import pandas as pd\n",
        "import numpy as np "
      ]
    },
    {
      "cell_type": "markdown",
      "metadata": {
        "id": "XxSG-bfyX_Uv"
      },
      "source": [
        "#### Source of the data \n",
        "https://www.kaggle.com/datasets/shubh0799/churn-modelling"
      ]
    },
    {
      "cell_type": "code",
      "execution_count": 99,
      "metadata": {
        "id": "Csm1MZc1_h0H"
      },
      "outputs": [],
      "source": [
        "# Mentioning the path of the dataset \n",
        "\n",
        "raw_dataset_link = \"https://raw.githubusercontent.com/abhi-11nav/Churn-Model/main/Churn_Modelling.csv.xls\""
      ]
    },
    {
      "cell_type": "code",
      "execution_count": 100,
      "metadata": {
        "id": "p8rxTBM-UpmG"
      },
      "outputs": [],
      "source": [
        "# Importing the dataset and assigning it to a variable. \n",
        "\n",
        "dataset = pd.read_csv(raw_dataset_link)"
      ]
    },
    {
      "cell_type": "code",
      "execution_count": 101,
      "metadata": {
        "colab": {
          "base_uri": "https://localhost:8080/",
          "height": 268
        },
        "id": "XCfXdVrVUtl7",
        "outputId": "ae1c4e4d-d00b-49a5-dab6-5c4625f088dd"
      },
      "outputs": [
        {
          "output_type": "execute_result",
          "data": {
            "text/plain": [
              "   RowNumber  CustomerId   Surname  CreditScore Geography  Gender  Age  \\\n",
              "0          1    15634602  Hargrave          619    France  Female   42   \n",
              "1          2    15647311      Hill          608     Spain  Female   41   \n",
              "2          3    15619304      Onio          502    France  Female   42   \n",
              "3          4    15701354      Boni          699    France  Female   39   \n",
              "4          5    15737888  Mitchell          850     Spain  Female   43   \n",
              "\n",
              "   Tenure    Balance  NumOfProducts  HasCrCard  IsActiveMember  \\\n",
              "0       2       0.00              1          1               1   \n",
              "1       1   83807.86              1          0               1   \n",
              "2       8  159660.80              3          1               0   \n",
              "3       1       0.00              2          0               0   \n",
              "4       2  125510.82              1          1               1   \n",
              "\n",
              "   EstimatedSalary  Exited  \n",
              "0        101348.88       1  \n",
              "1        112542.58       0  \n",
              "2        113931.57       1  \n",
              "3         93826.63       0  \n",
              "4         79084.10       0  "
            ],
            "text/html": [
              "\n",
              "  <div id=\"df-591d6f7b-bf99-4d07-b828-cc64e1205953\">\n",
              "    <div class=\"colab-df-container\">\n",
              "      <div>\n",
              "<style scoped>\n",
              "    .dataframe tbody tr th:only-of-type {\n",
              "        vertical-align: middle;\n",
              "    }\n",
              "\n",
              "    .dataframe tbody tr th {\n",
              "        vertical-align: top;\n",
              "    }\n",
              "\n",
              "    .dataframe thead th {\n",
              "        text-align: right;\n",
              "    }\n",
              "</style>\n",
              "<table border=\"1\" class=\"dataframe\">\n",
              "  <thead>\n",
              "    <tr style=\"text-align: right;\">\n",
              "      <th></th>\n",
              "      <th>RowNumber</th>\n",
              "      <th>CustomerId</th>\n",
              "      <th>Surname</th>\n",
              "      <th>CreditScore</th>\n",
              "      <th>Geography</th>\n",
              "      <th>Gender</th>\n",
              "      <th>Age</th>\n",
              "      <th>Tenure</th>\n",
              "      <th>Balance</th>\n",
              "      <th>NumOfProducts</th>\n",
              "      <th>HasCrCard</th>\n",
              "      <th>IsActiveMember</th>\n",
              "      <th>EstimatedSalary</th>\n",
              "      <th>Exited</th>\n",
              "    </tr>\n",
              "  </thead>\n",
              "  <tbody>\n",
              "    <tr>\n",
              "      <th>0</th>\n",
              "      <td>1</td>\n",
              "      <td>15634602</td>\n",
              "      <td>Hargrave</td>\n",
              "      <td>619</td>\n",
              "      <td>France</td>\n",
              "      <td>Female</td>\n",
              "      <td>42</td>\n",
              "      <td>2</td>\n",
              "      <td>0.00</td>\n",
              "      <td>1</td>\n",
              "      <td>1</td>\n",
              "      <td>1</td>\n",
              "      <td>101348.88</td>\n",
              "      <td>1</td>\n",
              "    </tr>\n",
              "    <tr>\n",
              "      <th>1</th>\n",
              "      <td>2</td>\n",
              "      <td>15647311</td>\n",
              "      <td>Hill</td>\n",
              "      <td>608</td>\n",
              "      <td>Spain</td>\n",
              "      <td>Female</td>\n",
              "      <td>41</td>\n",
              "      <td>1</td>\n",
              "      <td>83807.86</td>\n",
              "      <td>1</td>\n",
              "      <td>0</td>\n",
              "      <td>1</td>\n",
              "      <td>112542.58</td>\n",
              "      <td>0</td>\n",
              "    </tr>\n",
              "    <tr>\n",
              "      <th>2</th>\n",
              "      <td>3</td>\n",
              "      <td>15619304</td>\n",
              "      <td>Onio</td>\n",
              "      <td>502</td>\n",
              "      <td>France</td>\n",
              "      <td>Female</td>\n",
              "      <td>42</td>\n",
              "      <td>8</td>\n",
              "      <td>159660.80</td>\n",
              "      <td>3</td>\n",
              "      <td>1</td>\n",
              "      <td>0</td>\n",
              "      <td>113931.57</td>\n",
              "      <td>1</td>\n",
              "    </tr>\n",
              "    <tr>\n",
              "      <th>3</th>\n",
              "      <td>4</td>\n",
              "      <td>15701354</td>\n",
              "      <td>Boni</td>\n",
              "      <td>699</td>\n",
              "      <td>France</td>\n",
              "      <td>Female</td>\n",
              "      <td>39</td>\n",
              "      <td>1</td>\n",
              "      <td>0.00</td>\n",
              "      <td>2</td>\n",
              "      <td>0</td>\n",
              "      <td>0</td>\n",
              "      <td>93826.63</td>\n",
              "      <td>0</td>\n",
              "    </tr>\n",
              "    <tr>\n",
              "      <th>4</th>\n",
              "      <td>5</td>\n",
              "      <td>15737888</td>\n",
              "      <td>Mitchell</td>\n",
              "      <td>850</td>\n",
              "      <td>Spain</td>\n",
              "      <td>Female</td>\n",
              "      <td>43</td>\n",
              "      <td>2</td>\n",
              "      <td>125510.82</td>\n",
              "      <td>1</td>\n",
              "      <td>1</td>\n",
              "      <td>1</td>\n",
              "      <td>79084.10</td>\n",
              "      <td>0</td>\n",
              "    </tr>\n",
              "  </tbody>\n",
              "</table>\n",
              "</div>\n",
              "      <button class=\"colab-df-convert\" onclick=\"convertToInteractive('df-591d6f7b-bf99-4d07-b828-cc64e1205953')\"\n",
              "              title=\"Convert this dataframe to an interactive table.\"\n",
              "              style=\"display:none;\">\n",
              "        \n",
              "  <svg xmlns=\"http://www.w3.org/2000/svg\" height=\"24px\"viewBox=\"0 0 24 24\"\n",
              "       width=\"24px\">\n",
              "    <path d=\"M0 0h24v24H0V0z\" fill=\"none\"/>\n",
              "    <path d=\"M18.56 5.44l.94 2.06.94-2.06 2.06-.94-2.06-.94-.94-2.06-.94 2.06-2.06.94zm-11 1L8.5 8.5l.94-2.06 2.06-.94-2.06-.94L8.5 2.5l-.94 2.06-2.06.94zm10 10l.94 2.06.94-2.06 2.06-.94-2.06-.94-.94-2.06-.94 2.06-2.06.94z\"/><path d=\"M17.41 7.96l-1.37-1.37c-.4-.4-.92-.59-1.43-.59-.52 0-1.04.2-1.43.59L10.3 9.45l-7.72 7.72c-.78.78-.78 2.05 0 2.83L4 21.41c.39.39.9.59 1.41.59.51 0 1.02-.2 1.41-.59l7.78-7.78 2.81-2.81c.8-.78.8-2.07 0-2.86zM5.41 20L4 18.59l7.72-7.72 1.47 1.35L5.41 20z\"/>\n",
              "  </svg>\n",
              "      </button>\n",
              "      \n",
              "  <style>\n",
              "    .colab-df-container {\n",
              "      display:flex;\n",
              "      flex-wrap:wrap;\n",
              "      gap: 12px;\n",
              "    }\n",
              "\n",
              "    .colab-df-convert {\n",
              "      background-color: #E8F0FE;\n",
              "      border: none;\n",
              "      border-radius: 50%;\n",
              "      cursor: pointer;\n",
              "      display: none;\n",
              "      fill: #1967D2;\n",
              "      height: 32px;\n",
              "      padding: 0 0 0 0;\n",
              "      width: 32px;\n",
              "    }\n",
              "\n",
              "    .colab-df-convert:hover {\n",
              "      background-color: #E2EBFA;\n",
              "      box-shadow: 0px 1px 2px rgba(60, 64, 67, 0.3), 0px 1px 3px 1px rgba(60, 64, 67, 0.15);\n",
              "      fill: #174EA6;\n",
              "    }\n",
              "\n",
              "    [theme=dark] .colab-df-convert {\n",
              "      background-color: #3B4455;\n",
              "      fill: #D2E3FC;\n",
              "    }\n",
              "\n",
              "    [theme=dark] .colab-df-convert:hover {\n",
              "      background-color: #434B5C;\n",
              "      box-shadow: 0px 1px 3px 1px rgba(0, 0, 0, 0.15);\n",
              "      filter: drop-shadow(0px 1px 2px rgba(0, 0, 0, 0.3));\n",
              "      fill: #FFFFFF;\n",
              "    }\n",
              "  </style>\n",
              "\n",
              "      <script>\n",
              "        const buttonEl =\n",
              "          document.querySelector('#df-591d6f7b-bf99-4d07-b828-cc64e1205953 button.colab-df-convert');\n",
              "        buttonEl.style.display =\n",
              "          google.colab.kernel.accessAllowed ? 'block' : 'none';\n",
              "\n",
              "        async function convertToInteractive(key) {\n",
              "          const element = document.querySelector('#df-591d6f7b-bf99-4d07-b828-cc64e1205953');\n",
              "          const dataTable =\n",
              "            await google.colab.kernel.invokeFunction('convertToInteractive',\n",
              "                                                     [key], {});\n",
              "          if (!dataTable) return;\n",
              "\n",
              "          const docLinkHtml = 'Like what you see? Visit the ' +\n",
              "            '<a target=\"_blank\" href=https://colab.research.google.com/notebooks/data_table.ipynb>data table notebook</a>'\n",
              "            + ' to learn more about interactive tables.';\n",
              "          element.innerHTML = '';\n",
              "          dataTable['output_type'] = 'display_data';\n",
              "          await google.colab.output.renderOutput(dataTable, element);\n",
              "          const docLink = document.createElement('div');\n",
              "          docLink.innerHTML = docLinkHtml;\n",
              "          element.appendChild(docLink);\n",
              "        }\n",
              "      </script>\n",
              "    </div>\n",
              "  </div>\n",
              "  "
            ]
          },
          "metadata": {},
          "execution_count": 101
        }
      ],
      "source": [
        "# printing the head of the dataset \n",
        "\n",
        "dataset.head()"
      ]
    },
    {
      "cell_type": "code",
      "execution_count": 102,
      "metadata": {
        "colab": {
          "base_uri": "https://localhost:8080/"
        },
        "id": "u2dxqdFfVHIm",
        "outputId": "7de0bd6f-2cc7-44af-8d7c-3e75868512ea"
      },
      "outputs": [
        {
          "output_type": "stream",
          "name": "stdout",
          "text": [
            "['RowNumber', 'CustomerId'] consists of all unique values. Hence, eliminate them\n",
            "\n",
            "Features with unique values deleted :-)\n"
          ]
        }
      ],
      "source": [
        "# Checking for features in data consisting of all unique values and deleting them \n",
        "\n",
        "\n",
        "col_list = []\n",
        "\n",
        "\n",
        "for cols in dataset.columns:\n",
        "  if len(dataset[cols].unique()) == dataset.shape[0]:\n",
        "    col_list.append(cols)\n",
        "\n",
        "if len(col_list)>0:\n",
        "  print(col_list,\"consists of all unique values. Hence, eliminate them\\n\")\n",
        "  dataset.drop(col_list,axis=1,inplace=True)\n",
        "  print(\"Features with unique values deleted :-)\")"
      ]
    },
    {
      "cell_type": "code",
      "execution_count": 103,
      "metadata": {
        "colab": {
          "base_uri": "https://localhost:8080/",
          "height": 268
        },
        "id": "B__CUqQ3VTni",
        "outputId": "565020bf-2829-4306-d37f-45c44c087475"
      },
      "outputs": [
        {
          "output_type": "execute_result",
          "data": {
            "text/plain": [
              "    Surname  CreditScore Geography  Gender  Age  Tenure    Balance  \\\n",
              "0  Hargrave          619    France  Female   42       2       0.00   \n",
              "1      Hill          608     Spain  Female   41       1   83807.86   \n",
              "2      Onio          502    France  Female   42       8  159660.80   \n",
              "3      Boni          699    France  Female   39       1       0.00   \n",
              "4  Mitchell          850     Spain  Female   43       2  125510.82   \n",
              "\n",
              "   NumOfProducts  HasCrCard  IsActiveMember  EstimatedSalary  Exited  \n",
              "0              1          1               1        101348.88       1  \n",
              "1              1          0               1        112542.58       0  \n",
              "2              3          1               0        113931.57       1  \n",
              "3              2          0               0         93826.63       0  \n",
              "4              1          1               1         79084.10       0  "
            ],
            "text/html": [
              "\n",
              "  <div id=\"df-889feb47-0a18-498c-82b4-3c7f8c0ca116\">\n",
              "    <div class=\"colab-df-container\">\n",
              "      <div>\n",
              "<style scoped>\n",
              "    .dataframe tbody tr th:only-of-type {\n",
              "        vertical-align: middle;\n",
              "    }\n",
              "\n",
              "    .dataframe tbody tr th {\n",
              "        vertical-align: top;\n",
              "    }\n",
              "\n",
              "    .dataframe thead th {\n",
              "        text-align: right;\n",
              "    }\n",
              "</style>\n",
              "<table border=\"1\" class=\"dataframe\">\n",
              "  <thead>\n",
              "    <tr style=\"text-align: right;\">\n",
              "      <th></th>\n",
              "      <th>Surname</th>\n",
              "      <th>CreditScore</th>\n",
              "      <th>Geography</th>\n",
              "      <th>Gender</th>\n",
              "      <th>Age</th>\n",
              "      <th>Tenure</th>\n",
              "      <th>Balance</th>\n",
              "      <th>NumOfProducts</th>\n",
              "      <th>HasCrCard</th>\n",
              "      <th>IsActiveMember</th>\n",
              "      <th>EstimatedSalary</th>\n",
              "      <th>Exited</th>\n",
              "    </tr>\n",
              "  </thead>\n",
              "  <tbody>\n",
              "    <tr>\n",
              "      <th>0</th>\n",
              "      <td>Hargrave</td>\n",
              "      <td>619</td>\n",
              "      <td>France</td>\n",
              "      <td>Female</td>\n",
              "      <td>42</td>\n",
              "      <td>2</td>\n",
              "      <td>0.00</td>\n",
              "      <td>1</td>\n",
              "      <td>1</td>\n",
              "      <td>1</td>\n",
              "      <td>101348.88</td>\n",
              "      <td>1</td>\n",
              "    </tr>\n",
              "    <tr>\n",
              "      <th>1</th>\n",
              "      <td>Hill</td>\n",
              "      <td>608</td>\n",
              "      <td>Spain</td>\n",
              "      <td>Female</td>\n",
              "      <td>41</td>\n",
              "      <td>1</td>\n",
              "      <td>83807.86</td>\n",
              "      <td>1</td>\n",
              "      <td>0</td>\n",
              "      <td>1</td>\n",
              "      <td>112542.58</td>\n",
              "      <td>0</td>\n",
              "    </tr>\n",
              "    <tr>\n",
              "      <th>2</th>\n",
              "      <td>Onio</td>\n",
              "      <td>502</td>\n",
              "      <td>France</td>\n",
              "      <td>Female</td>\n",
              "      <td>42</td>\n",
              "      <td>8</td>\n",
              "      <td>159660.80</td>\n",
              "      <td>3</td>\n",
              "      <td>1</td>\n",
              "      <td>0</td>\n",
              "      <td>113931.57</td>\n",
              "      <td>1</td>\n",
              "    </tr>\n",
              "    <tr>\n",
              "      <th>3</th>\n",
              "      <td>Boni</td>\n",
              "      <td>699</td>\n",
              "      <td>France</td>\n",
              "      <td>Female</td>\n",
              "      <td>39</td>\n",
              "      <td>1</td>\n",
              "      <td>0.00</td>\n",
              "      <td>2</td>\n",
              "      <td>0</td>\n",
              "      <td>0</td>\n",
              "      <td>93826.63</td>\n",
              "      <td>0</td>\n",
              "    </tr>\n",
              "    <tr>\n",
              "      <th>4</th>\n",
              "      <td>Mitchell</td>\n",
              "      <td>850</td>\n",
              "      <td>Spain</td>\n",
              "      <td>Female</td>\n",
              "      <td>43</td>\n",
              "      <td>2</td>\n",
              "      <td>125510.82</td>\n",
              "      <td>1</td>\n",
              "      <td>1</td>\n",
              "      <td>1</td>\n",
              "      <td>79084.10</td>\n",
              "      <td>0</td>\n",
              "    </tr>\n",
              "  </tbody>\n",
              "</table>\n",
              "</div>\n",
              "      <button class=\"colab-df-convert\" onclick=\"convertToInteractive('df-889feb47-0a18-498c-82b4-3c7f8c0ca116')\"\n",
              "              title=\"Convert this dataframe to an interactive table.\"\n",
              "              style=\"display:none;\">\n",
              "        \n",
              "  <svg xmlns=\"http://www.w3.org/2000/svg\" height=\"24px\"viewBox=\"0 0 24 24\"\n",
              "       width=\"24px\">\n",
              "    <path d=\"M0 0h24v24H0V0z\" fill=\"none\"/>\n",
              "    <path d=\"M18.56 5.44l.94 2.06.94-2.06 2.06-.94-2.06-.94-.94-2.06-.94 2.06-2.06.94zm-11 1L8.5 8.5l.94-2.06 2.06-.94-2.06-.94L8.5 2.5l-.94 2.06-2.06.94zm10 10l.94 2.06.94-2.06 2.06-.94-2.06-.94-.94-2.06-.94 2.06-2.06.94z\"/><path d=\"M17.41 7.96l-1.37-1.37c-.4-.4-.92-.59-1.43-.59-.52 0-1.04.2-1.43.59L10.3 9.45l-7.72 7.72c-.78.78-.78 2.05 0 2.83L4 21.41c.39.39.9.59 1.41.59.51 0 1.02-.2 1.41-.59l7.78-7.78 2.81-2.81c.8-.78.8-2.07 0-2.86zM5.41 20L4 18.59l7.72-7.72 1.47 1.35L5.41 20z\"/>\n",
              "  </svg>\n",
              "      </button>\n",
              "      \n",
              "  <style>\n",
              "    .colab-df-container {\n",
              "      display:flex;\n",
              "      flex-wrap:wrap;\n",
              "      gap: 12px;\n",
              "    }\n",
              "\n",
              "    .colab-df-convert {\n",
              "      background-color: #E8F0FE;\n",
              "      border: none;\n",
              "      border-radius: 50%;\n",
              "      cursor: pointer;\n",
              "      display: none;\n",
              "      fill: #1967D2;\n",
              "      height: 32px;\n",
              "      padding: 0 0 0 0;\n",
              "      width: 32px;\n",
              "    }\n",
              "\n",
              "    .colab-df-convert:hover {\n",
              "      background-color: #E2EBFA;\n",
              "      box-shadow: 0px 1px 2px rgba(60, 64, 67, 0.3), 0px 1px 3px 1px rgba(60, 64, 67, 0.15);\n",
              "      fill: #174EA6;\n",
              "    }\n",
              "\n",
              "    [theme=dark] .colab-df-convert {\n",
              "      background-color: #3B4455;\n",
              "      fill: #D2E3FC;\n",
              "    }\n",
              "\n",
              "    [theme=dark] .colab-df-convert:hover {\n",
              "      background-color: #434B5C;\n",
              "      box-shadow: 0px 1px 3px 1px rgba(0, 0, 0, 0.15);\n",
              "      filter: drop-shadow(0px 1px 2px rgba(0, 0, 0, 0.3));\n",
              "      fill: #FFFFFF;\n",
              "    }\n",
              "  </style>\n",
              "\n",
              "      <script>\n",
              "        const buttonEl =\n",
              "          document.querySelector('#df-889feb47-0a18-498c-82b4-3c7f8c0ca116 button.colab-df-convert');\n",
              "        buttonEl.style.display =\n",
              "          google.colab.kernel.accessAllowed ? 'block' : 'none';\n",
              "\n",
              "        async function convertToInteractive(key) {\n",
              "          const element = document.querySelector('#df-889feb47-0a18-498c-82b4-3c7f8c0ca116');\n",
              "          const dataTable =\n",
              "            await google.colab.kernel.invokeFunction('convertToInteractive',\n",
              "                                                     [key], {});\n",
              "          if (!dataTable) return;\n",
              "\n",
              "          const docLinkHtml = 'Like what you see? Visit the ' +\n",
              "            '<a target=\"_blank\" href=https://colab.research.google.com/notebooks/data_table.ipynb>data table notebook</a>'\n",
              "            + ' to learn more about interactive tables.';\n",
              "          element.innerHTML = '';\n",
              "          dataTable['output_type'] = 'display_data';\n",
              "          await google.colab.output.renderOutput(dataTable, element);\n",
              "          const docLink = document.createElement('div');\n",
              "          docLink.innerHTML = docLinkHtml;\n",
              "          element.appendChild(docLink);\n",
              "        }\n",
              "      </script>\n",
              "    </div>\n",
              "  </div>\n",
              "  "
            ]
          },
          "metadata": {},
          "execution_count": 103
        }
      ],
      "source": [
        "# Printing the head of the dataset \n",
        "\n",
        "dataset.head()"
      ]
    },
    {
      "cell_type": "code",
      "execution_count": 104,
      "metadata": {
        "id": "_CcYbM2JW6hI"
      },
      "outputs": [],
      "source": [
        "# I dont think that the feature \"Surname\" adds any value to the output. So we might as well get rid of that too\n",
        "\n",
        "dataset.drop(\"Surname\",axis=1,inplace=True)"
      ]
    },
    {
      "cell_type": "code",
      "execution_count": 105,
      "metadata": {
        "colab": {
          "base_uri": "https://localhost:8080/",
          "height": 248
        },
        "id": "hF1S-U7QXA8m",
        "outputId": "3c98fb34-d7b2-4e9e-e1c8-5a390ad0e37c"
      },
      "outputs": [
        {
          "output_type": "execute_result",
          "data": {
            "text/plain": [
              "   CreditScore Geography  Gender  Age  Tenure    Balance  NumOfProducts  \\\n",
              "0          619    France  Female   42       2       0.00              1   \n",
              "1          608     Spain  Female   41       1   83807.86              1   \n",
              "2          502    France  Female   42       8  159660.80              3   \n",
              "3          699    France  Female   39       1       0.00              2   \n",
              "4          850     Spain  Female   43       2  125510.82              1   \n",
              "\n",
              "   HasCrCard  IsActiveMember  EstimatedSalary  Exited  \n",
              "0          1               1        101348.88       1  \n",
              "1          0               1        112542.58       0  \n",
              "2          1               0        113931.57       1  \n",
              "3          0               0         93826.63       0  \n",
              "4          1               1         79084.10       0  "
            ],
            "text/html": [
              "\n",
              "  <div id=\"df-a3ced7e8-b134-4e2c-ba44-8512f26de5ef\">\n",
              "    <div class=\"colab-df-container\">\n",
              "      <div>\n",
              "<style scoped>\n",
              "    .dataframe tbody tr th:only-of-type {\n",
              "        vertical-align: middle;\n",
              "    }\n",
              "\n",
              "    .dataframe tbody tr th {\n",
              "        vertical-align: top;\n",
              "    }\n",
              "\n",
              "    .dataframe thead th {\n",
              "        text-align: right;\n",
              "    }\n",
              "</style>\n",
              "<table border=\"1\" class=\"dataframe\">\n",
              "  <thead>\n",
              "    <tr style=\"text-align: right;\">\n",
              "      <th></th>\n",
              "      <th>CreditScore</th>\n",
              "      <th>Geography</th>\n",
              "      <th>Gender</th>\n",
              "      <th>Age</th>\n",
              "      <th>Tenure</th>\n",
              "      <th>Balance</th>\n",
              "      <th>NumOfProducts</th>\n",
              "      <th>HasCrCard</th>\n",
              "      <th>IsActiveMember</th>\n",
              "      <th>EstimatedSalary</th>\n",
              "      <th>Exited</th>\n",
              "    </tr>\n",
              "  </thead>\n",
              "  <tbody>\n",
              "    <tr>\n",
              "      <th>0</th>\n",
              "      <td>619</td>\n",
              "      <td>France</td>\n",
              "      <td>Female</td>\n",
              "      <td>42</td>\n",
              "      <td>2</td>\n",
              "      <td>0.00</td>\n",
              "      <td>1</td>\n",
              "      <td>1</td>\n",
              "      <td>1</td>\n",
              "      <td>101348.88</td>\n",
              "      <td>1</td>\n",
              "    </tr>\n",
              "    <tr>\n",
              "      <th>1</th>\n",
              "      <td>608</td>\n",
              "      <td>Spain</td>\n",
              "      <td>Female</td>\n",
              "      <td>41</td>\n",
              "      <td>1</td>\n",
              "      <td>83807.86</td>\n",
              "      <td>1</td>\n",
              "      <td>0</td>\n",
              "      <td>1</td>\n",
              "      <td>112542.58</td>\n",
              "      <td>0</td>\n",
              "    </tr>\n",
              "    <tr>\n",
              "      <th>2</th>\n",
              "      <td>502</td>\n",
              "      <td>France</td>\n",
              "      <td>Female</td>\n",
              "      <td>42</td>\n",
              "      <td>8</td>\n",
              "      <td>159660.80</td>\n",
              "      <td>3</td>\n",
              "      <td>1</td>\n",
              "      <td>0</td>\n",
              "      <td>113931.57</td>\n",
              "      <td>1</td>\n",
              "    </tr>\n",
              "    <tr>\n",
              "      <th>3</th>\n",
              "      <td>699</td>\n",
              "      <td>France</td>\n",
              "      <td>Female</td>\n",
              "      <td>39</td>\n",
              "      <td>1</td>\n",
              "      <td>0.00</td>\n",
              "      <td>2</td>\n",
              "      <td>0</td>\n",
              "      <td>0</td>\n",
              "      <td>93826.63</td>\n",
              "      <td>0</td>\n",
              "    </tr>\n",
              "    <tr>\n",
              "      <th>4</th>\n",
              "      <td>850</td>\n",
              "      <td>Spain</td>\n",
              "      <td>Female</td>\n",
              "      <td>43</td>\n",
              "      <td>2</td>\n",
              "      <td>125510.82</td>\n",
              "      <td>1</td>\n",
              "      <td>1</td>\n",
              "      <td>1</td>\n",
              "      <td>79084.10</td>\n",
              "      <td>0</td>\n",
              "    </tr>\n",
              "  </tbody>\n",
              "</table>\n",
              "</div>\n",
              "      <button class=\"colab-df-convert\" onclick=\"convertToInteractive('df-a3ced7e8-b134-4e2c-ba44-8512f26de5ef')\"\n",
              "              title=\"Convert this dataframe to an interactive table.\"\n",
              "              style=\"display:none;\">\n",
              "        \n",
              "  <svg xmlns=\"http://www.w3.org/2000/svg\" height=\"24px\"viewBox=\"0 0 24 24\"\n",
              "       width=\"24px\">\n",
              "    <path d=\"M0 0h24v24H0V0z\" fill=\"none\"/>\n",
              "    <path d=\"M18.56 5.44l.94 2.06.94-2.06 2.06-.94-2.06-.94-.94-2.06-.94 2.06-2.06.94zm-11 1L8.5 8.5l.94-2.06 2.06-.94-2.06-.94L8.5 2.5l-.94 2.06-2.06.94zm10 10l.94 2.06.94-2.06 2.06-.94-2.06-.94-.94-2.06-.94 2.06-2.06.94z\"/><path d=\"M17.41 7.96l-1.37-1.37c-.4-.4-.92-.59-1.43-.59-.52 0-1.04.2-1.43.59L10.3 9.45l-7.72 7.72c-.78.78-.78 2.05 0 2.83L4 21.41c.39.39.9.59 1.41.59.51 0 1.02-.2 1.41-.59l7.78-7.78 2.81-2.81c.8-.78.8-2.07 0-2.86zM5.41 20L4 18.59l7.72-7.72 1.47 1.35L5.41 20z\"/>\n",
              "  </svg>\n",
              "      </button>\n",
              "      \n",
              "  <style>\n",
              "    .colab-df-container {\n",
              "      display:flex;\n",
              "      flex-wrap:wrap;\n",
              "      gap: 12px;\n",
              "    }\n",
              "\n",
              "    .colab-df-convert {\n",
              "      background-color: #E8F0FE;\n",
              "      border: none;\n",
              "      border-radius: 50%;\n",
              "      cursor: pointer;\n",
              "      display: none;\n",
              "      fill: #1967D2;\n",
              "      height: 32px;\n",
              "      padding: 0 0 0 0;\n",
              "      width: 32px;\n",
              "    }\n",
              "\n",
              "    .colab-df-convert:hover {\n",
              "      background-color: #E2EBFA;\n",
              "      box-shadow: 0px 1px 2px rgba(60, 64, 67, 0.3), 0px 1px 3px 1px rgba(60, 64, 67, 0.15);\n",
              "      fill: #174EA6;\n",
              "    }\n",
              "\n",
              "    [theme=dark] .colab-df-convert {\n",
              "      background-color: #3B4455;\n",
              "      fill: #D2E3FC;\n",
              "    }\n",
              "\n",
              "    [theme=dark] .colab-df-convert:hover {\n",
              "      background-color: #434B5C;\n",
              "      box-shadow: 0px 1px 3px 1px rgba(0, 0, 0, 0.15);\n",
              "      filter: drop-shadow(0px 1px 2px rgba(0, 0, 0, 0.3));\n",
              "      fill: #FFFFFF;\n",
              "    }\n",
              "  </style>\n",
              "\n",
              "      <script>\n",
              "        const buttonEl =\n",
              "          document.querySelector('#df-a3ced7e8-b134-4e2c-ba44-8512f26de5ef button.colab-df-convert');\n",
              "        buttonEl.style.display =\n",
              "          google.colab.kernel.accessAllowed ? 'block' : 'none';\n",
              "\n",
              "        async function convertToInteractive(key) {\n",
              "          const element = document.querySelector('#df-a3ced7e8-b134-4e2c-ba44-8512f26de5ef');\n",
              "          const dataTable =\n",
              "            await google.colab.kernel.invokeFunction('convertToInteractive',\n",
              "                                                     [key], {});\n",
              "          if (!dataTable) return;\n",
              "\n",
              "          const docLinkHtml = 'Like what you see? Visit the ' +\n",
              "            '<a target=\"_blank\" href=https://colab.research.google.com/notebooks/data_table.ipynb>data table notebook</a>'\n",
              "            + ' to learn more about interactive tables.';\n",
              "          element.innerHTML = '';\n",
              "          dataTable['output_type'] = 'display_data';\n",
              "          await google.colab.output.renderOutput(dataTable, element);\n",
              "          const docLink = document.createElement('div');\n",
              "          docLink.innerHTML = docLinkHtml;\n",
              "          element.appendChild(docLink);\n",
              "        }\n",
              "      </script>\n",
              "    </div>\n",
              "  </div>\n",
              "  "
            ]
          },
          "metadata": {},
          "execution_count": 105
        }
      ],
      "source": [
        "dataset.head()"
      ]
    },
    {
      "cell_type": "code",
      "execution_count": 106,
      "metadata": {
        "colab": {
          "base_uri": "https://localhost:8080/"
        },
        "id": "d2hBCcxYXZxm",
        "outputId": "957b7aab-62e1-41d5-c0ec-cf92259a0242"
      },
      "outputs": [
        {
          "output_type": "execute_result",
          "data": {
            "text/plain": [
              "(10000, 11)"
            ]
          },
          "metadata": {},
          "execution_count": 106
        }
      ],
      "source": [
        "# Now let us look at the shape of dataset\n",
        "\n",
        "dataset.shape"
      ]
    },
    {
      "cell_type": "markdown",
      "metadata": {
        "id": "v90k9jdVXzFW"
      },
      "source": [
        "We have got 10000 examples with 11 features to work with and build a model"
      ]
    },
    {
      "cell_type": "code",
      "execution_count": 107,
      "metadata": {
        "colab": {
          "base_uri": "https://localhost:8080/"
        },
        "id": "Nk5YzLuIXjrM",
        "outputId": "d220f317-08ff-458d-f87b-d757df256bb4"
      },
      "outputs": [
        {
          "output_type": "stream",
          "name": "stdout",
          "text": [
            "There are  2  categorical features and  9  numerical features in the dataset.\n"
          ]
        }
      ],
      "source": [
        "# Differnetiating the categorical and numerical features in the dataset and storing them in a list \n",
        "\n",
        "category_feat = []\n",
        "numerical_feat = []\n",
        "\n",
        "for cols in dataset.columns:\n",
        "  if type(dataset[cols][0]) == str:\n",
        "    category_feat.append(cols)\n",
        "  else:\n",
        "    numerical_feat.append(cols)\n",
        "\n",
        "\n",
        "print(\"There are \",len(category_feat),\" categorical features and \",len(numerical_feat),\" numerical features in the dataset.\")"
      ]
    },
    {
      "cell_type": "code",
      "execution_count": 108,
      "metadata": {
        "colab": {
          "base_uri": "https://localhost:8080/"
        },
        "id": "Yoj8VPFqZYti",
        "outputId": "47404629-d7a6-41e0-bb20-1e06e099292d"
      },
      "outputs": [
        {
          "output_type": "stream",
          "name": "stdout",
          "text": [
            "<class 'pandas.core.frame.DataFrame'>\n",
            "RangeIndex: 10000 entries, 0 to 9999\n",
            "Data columns (total 11 columns):\n",
            " #   Column           Non-Null Count  Dtype  \n",
            "---  ------           --------------  -----  \n",
            " 0   CreditScore      10000 non-null  int64  \n",
            " 1   Geography        10000 non-null  object \n",
            " 2   Gender           10000 non-null  object \n",
            " 3   Age              10000 non-null  int64  \n",
            " 4   Tenure           10000 non-null  int64  \n",
            " 5   Balance          10000 non-null  float64\n",
            " 6   NumOfProducts    10000 non-null  int64  \n",
            " 7   HasCrCard        10000 non-null  int64  \n",
            " 8   IsActiveMember   10000 non-null  int64  \n",
            " 9   EstimatedSalary  10000 non-null  float64\n",
            " 10  Exited           10000 non-null  int64  \n",
            "dtypes: float64(2), int64(7), object(2)\n",
            "memory usage: 859.5+ KB\n"
          ]
        }
      ],
      "source": [
        "# Now let us print out some descriptive features about the dataset and also info about the types of data in the dataset\n",
        "\n",
        "dataset.info()"
      ]
    },
    {
      "cell_type": "markdown",
      "metadata": {
        "id": "tbg_R4vxaD2a"
      },
      "source": [
        "We have 3 float, 6 integer adn 2 string type data"
      ]
    },
    {
      "cell_type": "code",
      "execution_count": 109,
      "metadata": {
        "colab": {
          "base_uri": "https://localhost:8080/",
          "height": 361
        },
        "id": "bzYS-yacZ-UK",
        "outputId": "8fc824b3-f7db-4893-f674-49e362577ad1"
      },
      "outputs": [
        {
          "output_type": "execute_result",
          "data": {
            "text/plain": [
              "        CreditScore           Age        Tenure        Balance  NumOfProducts  \\\n",
              "count  10000.000000  10000.000000  10000.000000   10000.000000   10000.000000   \n",
              "mean     650.528800     38.921800      5.012800   76485.889288       1.530200   \n",
              "std       96.653299     10.487806      2.892174   62397.405202       0.581654   \n",
              "min      350.000000     18.000000      0.000000       0.000000       1.000000   \n",
              "25%      584.000000     32.000000      3.000000       0.000000       1.000000   \n",
              "50%      652.000000     37.000000      5.000000   97198.540000       1.000000   \n",
              "75%      718.000000     44.000000      7.000000  127644.240000       2.000000   \n",
              "max      850.000000     92.000000     10.000000  250898.090000       4.000000   \n",
              "\n",
              "         HasCrCard  IsActiveMember  EstimatedSalary        Exited  \n",
              "count  10000.00000    10000.000000     10000.000000  10000.000000  \n",
              "mean       0.70550        0.515100    100090.239881      0.203700  \n",
              "std        0.45584        0.499797     57510.492818      0.402769  \n",
              "min        0.00000        0.000000        11.580000      0.000000  \n",
              "25%        0.00000        0.000000     51002.110000      0.000000  \n",
              "50%        1.00000        1.000000    100193.915000      0.000000  \n",
              "75%        1.00000        1.000000    149388.247500      0.000000  \n",
              "max        1.00000        1.000000    199992.480000      1.000000  "
            ],
            "text/html": [
              "\n",
              "  <div id=\"df-1738357d-4a7d-4e7f-a4ee-f9f031ab4eb7\">\n",
              "    <div class=\"colab-df-container\">\n",
              "      <div>\n",
              "<style scoped>\n",
              "    .dataframe tbody tr th:only-of-type {\n",
              "        vertical-align: middle;\n",
              "    }\n",
              "\n",
              "    .dataframe tbody tr th {\n",
              "        vertical-align: top;\n",
              "    }\n",
              "\n",
              "    .dataframe thead th {\n",
              "        text-align: right;\n",
              "    }\n",
              "</style>\n",
              "<table border=\"1\" class=\"dataframe\">\n",
              "  <thead>\n",
              "    <tr style=\"text-align: right;\">\n",
              "      <th></th>\n",
              "      <th>CreditScore</th>\n",
              "      <th>Age</th>\n",
              "      <th>Tenure</th>\n",
              "      <th>Balance</th>\n",
              "      <th>NumOfProducts</th>\n",
              "      <th>HasCrCard</th>\n",
              "      <th>IsActiveMember</th>\n",
              "      <th>EstimatedSalary</th>\n",
              "      <th>Exited</th>\n",
              "    </tr>\n",
              "  </thead>\n",
              "  <tbody>\n",
              "    <tr>\n",
              "      <th>count</th>\n",
              "      <td>10000.000000</td>\n",
              "      <td>10000.000000</td>\n",
              "      <td>10000.000000</td>\n",
              "      <td>10000.000000</td>\n",
              "      <td>10000.000000</td>\n",
              "      <td>10000.00000</td>\n",
              "      <td>10000.000000</td>\n",
              "      <td>10000.000000</td>\n",
              "      <td>10000.000000</td>\n",
              "    </tr>\n",
              "    <tr>\n",
              "      <th>mean</th>\n",
              "      <td>650.528800</td>\n",
              "      <td>38.921800</td>\n",
              "      <td>5.012800</td>\n",
              "      <td>76485.889288</td>\n",
              "      <td>1.530200</td>\n",
              "      <td>0.70550</td>\n",
              "      <td>0.515100</td>\n",
              "      <td>100090.239881</td>\n",
              "      <td>0.203700</td>\n",
              "    </tr>\n",
              "    <tr>\n",
              "      <th>std</th>\n",
              "      <td>96.653299</td>\n",
              "      <td>10.487806</td>\n",
              "      <td>2.892174</td>\n",
              "      <td>62397.405202</td>\n",
              "      <td>0.581654</td>\n",
              "      <td>0.45584</td>\n",
              "      <td>0.499797</td>\n",
              "      <td>57510.492818</td>\n",
              "      <td>0.402769</td>\n",
              "    </tr>\n",
              "    <tr>\n",
              "      <th>min</th>\n",
              "      <td>350.000000</td>\n",
              "      <td>18.000000</td>\n",
              "      <td>0.000000</td>\n",
              "      <td>0.000000</td>\n",
              "      <td>1.000000</td>\n",
              "      <td>0.00000</td>\n",
              "      <td>0.000000</td>\n",
              "      <td>11.580000</td>\n",
              "      <td>0.000000</td>\n",
              "    </tr>\n",
              "    <tr>\n",
              "      <th>25%</th>\n",
              "      <td>584.000000</td>\n",
              "      <td>32.000000</td>\n",
              "      <td>3.000000</td>\n",
              "      <td>0.000000</td>\n",
              "      <td>1.000000</td>\n",
              "      <td>0.00000</td>\n",
              "      <td>0.000000</td>\n",
              "      <td>51002.110000</td>\n",
              "      <td>0.000000</td>\n",
              "    </tr>\n",
              "    <tr>\n",
              "      <th>50%</th>\n",
              "      <td>652.000000</td>\n",
              "      <td>37.000000</td>\n",
              "      <td>5.000000</td>\n",
              "      <td>97198.540000</td>\n",
              "      <td>1.000000</td>\n",
              "      <td>1.00000</td>\n",
              "      <td>1.000000</td>\n",
              "      <td>100193.915000</td>\n",
              "      <td>0.000000</td>\n",
              "    </tr>\n",
              "    <tr>\n",
              "      <th>75%</th>\n",
              "      <td>718.000000</td>\n",
              "      <td>44.000000</td>\n",
              "      <td>7.000000</td>\n",
              "      <td>127644.240000</td>\n",
              "      <td>2.000000</td>\n",
              "      <td>1.00000</td>\n",
              "      <td>1.000000</td>\n",
              "      <td>149388.247500</td>\n",
              "      <td>0.000000</td>\n",
              "    </tr>\n",
              "    <tr>\n",
              "      <th>max</th>\n",
              "      <td>850.000000</td>\n",
              "      <td>92.000000</td>\n",
              "      <td>10.000000</td>\n",
              "      <td>250898.090000</td>\n",
              "      <td>4.000000</td>\n",
              "      <td>1.00000</td>\n",
              "      <td>1.000000</td>\n",
              "      <td>199992.480000</td>\n",
              "      <td>1.000000</td>\n",
              "    </tr>\n",
              "  </tbody>\n",
              "</table>\n",
              "</div>\n",
              "      <button class=\"colab-df-convert\" onclick=\"convertToInteractive('df-1738357d-4a7d-4e7f-a4ee-f9f031ab4eb7')\"\n",
              "              title=\"Convert this dataframe to an interactive table.\"\n",
              "              style=\"display:none;\">\n",
              "        \n",
              "  <svg xmlns=\"http://www.w3.org/2000/svg\" height=\"24px\"viewBox=\"0 0 24 24\"\n",
              "       width=\"24px\">\n",
              "    <path d=\"M0 0h24v24H0V0z\" fill=\"none\"/>\n",
              "    <path d=\"M18.56 5.44l.94 2.06.94-2.06 2.06-.94-2.06-.94-.94-2.06-.94 2.06-2.06.94zm-11 1L8.5 8.5l.94-2.06 2.06-.94-2.06-.94L8.5 2.5l-.94 2.06-2.06.94zm10 10l.94 2.06.94-2.06 2.06-.94-2.06-.94-.94-2.06-.94 2.06-2.06.94z\"/><path d=\"M17.41 7.96l-1.37-1.37c-.4-.4-.92-.59-1.43-.59-.52 0-1.04.2-1.43.59L10.3 9.45l-7.72 7.72c-.78.78-.78 2.05 0 2.83L4 21.41c.39.39.9.59 1.41.59.51 0 1.02-.2 1.41-.59l7.78-7.78 2.81-2.81c.8-.78.8-2.07 0-2.86zM5.41 20L4 18.59l7.72-7.72 1.47 1.35L5.41 20z\"/>\n",
              "  </svg>\n",
              "      </button>\n",
              "      \n",
              "  <style>\n",
              "    .colab-df-container {\n",
              "      display:flex;\n",
              "      flex-wrap:wrap;\n",
              "      gap: 12px;\n",
              "    }\n",
              "\n",
              "    .colab-df-convert {\n",
              "      background-color: #E8F0FE;\n",
              "      border: none;\n",
              "      border-radius: 50%;\n",
              "      cursor: pointer;\n",
              "      display: none;\n",
              "      fill: #1967D2;\n",
              "      height: 32px;\n",
              "      padding: 0 0 0 0;\n",
              "      width: 32px;\n",
              "    }\n",
              "\n",
              "    .colab-df-convert:hover {\n",
              "      background-color: #E2EBFA;\n",
              "      box-shadow: 0px 1px 2px rgba(60, 64, 67, 0.3), 0px 1px 3px 1px rgba(60, 64, 67, 0.15);\n",
              "      fill: #174EA6;\n",
              "    }\n",
              "\n",
              "    [theme=dark] .colab-df-convert {\n",
              "      background-color: #3B4455;\n",
              "      fill: #D2E3FC;\n",
              "    }\n",
              "\n",
              "    [theme=dark] .colab-df-convert:hover {\n",
              "      background-color: #434B5C;\n",
              "      box-shadow: 0px 1px 3px 1px rgba(0, 0, 0, 0.15);\n",
              "      filter: drop-shadow(0px 1px 2px rgba(0, 0, 0, 0.3));\n",
              "      fill: #FFFFFF;\n",
              "    }\n",
              "  </style>\n",
              "\n",
              "      <script>\n",
              "        const buttonEl =\n",
              "          document.querySelector('#df-1738357d-4a7d-4e7f-a4ee-f9f031ab4eb7 button.colab-df-convert');\n",
              "        buttonEl.style.display =\n",
              "          google.colab.kernel.accessAllowed ? 'block' : 'none';\n",
              "\n",
              "        async function convertToInteractive(key) {\n",
              "          const element = document.querySelector('#df-1738357d-4a7d-4e7f-a4ee-f9f031ab4eb7');\n",
              "          const dataTable =\n",
              "            await google.colab.kernel.invokeFunction('convertToInteractive',\n",
              "                                                     [key], {});\n",
              "          if (!dataTable) return;\n",
              "\n",
              "          const docLinkHtml = 'Like what you see? Visit the ' +\n",
              "            '<a target=\"_blank\" href=https://colab.research.google.com/notebooks/data_table.ipynb>data table notebook</a>'\n",
              "            + ' to learn more about interactive tables.';\n",
              "          element.innerHTML = '';\n",
              "          dataTable['output_type'] = 'display_data';\n",
              "          await google.colab.output.renderOutput(dataTable, element);\n",
              "          const docLink = document.createElement('div');\n",
              "          docLink.innerHTML = docLinkHtml;\n",
              "          element.appendChild(docLink);\n",
              "        }\n",
              "      </script>\n",
              "    </div>\n",
              "  </div>\n",
              "  "
            ]
          },
          "metadata": {},
          "execution_count": 109
        }
      ],
      "source": [
        "dataset.describe()"
      ]
    },
    {
      "cell_type": "code",
      "execution_count": 110,
      "metadata": {
        "colab": {
          "base_uri": "https://localhost:8080/"
        },
        "id": "w3rt7egEaLRB",
        "outputId": "70520abc-f61b-43f6-e710-0480b8878189"
      },
      "outputs": [
        {
          "output_type": "execute_result",
          "data": {
            "text/plain": [
              "CreditScore        False\n",
              "Geography          False\n",
              "Gender             False\n",
              "Age                False\n",
              "Tenure             False\n",
              "Balance            False\n",
              "NumOfProducts      False\n",
              "HasCrCard          False\n",
              "IsActiveMember     False\n",
              "EstimatedSalary    False\n",
              "Exited             False\n",
              "dtype: bool"
            ]
          },
          "metadata": {},
          "execution_count": 110
        }
      ],
      "source": [
        "# Let us check for missing values in the dataset\n",
        "\n",
        "dataset.isna().any()"
      ]
    },
    {
      "cell_type": "markdown",
      "metadata": {
        "id": "5IhtPjq7awng"
      },
      "source": [
        "Good News ! There aren't any missing values. "
      ]
    },
    {
      "cell_type": "code",
      "execution_count": 111,
      "metadata": {
        "id": "tKY15xXKavZj"
      },
      "outputs": [],
      "source": [
        "# Importing visualization Libraries\n",
        "\n",
        "import matplotlib.pyplot as plt\n",
        "%matplotlib inline\n",
        "\n",
        "import seaborn as sns "
      ]
    },
    {
      "cell_type": "markdown",
      "metadata": {
        "id": "UcXfkHnLcL5s"
      },
      "source": [
        "We cannot see any linear or obvious relation between these two features "
      ]
    },
    {
      "cell_type": "code",
      "execution_count": 112,
      "metadata": {
        "colab": {
          "base_uri": "https://localhost:8080/",
          "height": 248
        },
        "id": "xJrYnHpib7ra",
        "outputId": "7c1c507d-11fd-45be-90e0-9c6acf7a6781"
      },
      "outputs": [
        {
          "output_type": "execute_result",
          "data": {
            "text/plain": [
              "   CreditScore Geography  Gender  Age  Tenure    Balance  NumOfProducts  \\\n",
              "0          619    France  Female   42       2       0.00              1   \n",
              "1          608     Spain  Female   41       1   83807.86              1   \n",
              "2          502    France  Female   42       8  159660.80              3   \n",
              "3          699    France  Female   39       1       0.00              2   \n",
              "4          850     Spain  Female   43       2  125510.82              1   \n",
              "\n",
              "   HasCrCard  IsActiveMember  EstimatedSalary  Exited  \n",
              "0          1               1        101348.88       1  \n",
              "1          0               1        112542.58       0  \n",
              "2          1               0        113931.57       1  \n",
              "3          0               0         93826.63       0  \n",
              "4          1               1         79084.10       0  "
            ],
            "text/html": [
              "\n",
              "  <div id=\"df-a98f8396-b19c-4b0b-9c81-92dc4df66bd9\">\n",
              "    <div class=\"colab-df-container\">\n",
              "      <div>\n",
              "<style scoped>\n",
              "    .dataframe tbody tr th:only-of-type {\n",
              "        vertical-align: middle;\n",
              "    }\n",
              "\n",
              "    .dataframe tbody tr th {\n",
              "        vertical-align: top;\n",
              "    }\n",
              "\n",
              "    .dataframe thead th {\n",
              "        text-align: right;\n",
              "    }\n",
              "</style>\n",
              "<table border=\"1\" class=\"dataframe\">\n",
              "  <thead>\n",
              "    <tr style=\"text-align: right;\">\n",
              "      <th></th>\n",
              "      <th>CreditScore</th>\n",
              "      <th>Geography</th>\n",
              "      <th>Gender</th>\n",
              "      <th>Age</th>\n",
              "      <th>Tenure</th>\n",
              "      <th>Balance</th>\n",
              "      <th>NumOfProducts</th>\n",
              "      <th>HasCrCard</th>\n",
              "      <th>IsActiveMember</th>\n",
              "      <th>EstimatedSalary</th>\n",
              "      <th>Exited</th>\n",
              "    </tr>\n",
              "  </thead>\n",
              "  <tbody>\n",
              "    <tr>\n",
              "      <th>0</th>\n",
              "      <td>619</td>\n",
              "      <td>France</td>\n",
              "      <td>Female</td>\n",
              "      <td>42</td>\n",
              "      <td>2</td>\n",
              "      <td>0.00</td>\n",
              "      <td>1</td>\n",
              "      <td>1</td>\n",
              "      <td>1</td>\n",
              "      <td>101348.88</td>\n",
              "      <td>1</td>\n",
              "    </tr>\n",
              "    <tr>\n",
              "      <th>1</th>\n",
              "      <td>608</td>\n",
              "      <td>Spain</td>\n",
              "      <td>Female</td>\n",
              "      <td>41</td>\n",
              "      <td>1</td>\n",
              "      <td>83807.86</td>\n",
              "      <td>1</td>\n",
              "      <td>0</td>\n",
              "      <td>1</td>\n",
              "      <td>112542.58</td>\n",
              "      <td>0</td>\n",
              "    </tr>\n",
              "    <tr>\n",
              "      <th>2</th>\n",
              "      <td>502</td>\n",
              "      <td>France</td>\n",
              "      <td>Female</td>\n",
              "      <td>42</td>\n",
              "      <td>8</td>\n",
              "      <td>159660.80</td>\n",
              "      <td>3</td>\n",
              "      <td>1</td>\n",
              "      <td>0</td>\n",
              "      <td>113931.57</td>\n",
              "      <td>1</td>\n",
              "    </tr>\n",
              "    <tr>\n",
              "      <th>3</th>\n",
              "      <td>699</td>\n",
              "      <td>France</td>\n",
              "      <td>Female</td>\n",
              "      <td>39</td>\n",
              "      <td>1</td>\n",
              "      <td>0.00</td>\n",
              "      <td>2</td>\n",
              "      <td>0</td>\n",
              "      <td>0</td>\n",
              "      <td>93826.63</td>\n",
              "      <td>0</td>\n",
              "    </tr>\n",
              "    <tr>\n",
              "      <th>4</th>\n",
              "      <td>850</td>\n",
              "      <td>Spain</td>\n",
              "      <td>Female</td>\n",
              "      <td>43</td>\n",
              "      <td>2</td>\n",
              "      <td>125510.82</td>\n",
              "      <td>1</td>\n",
              "      <td>1</td>\n",
              "      <td>1</td>\n",
              "      <td>79084.10</td>\n",
              "      <td>0</td>\n",
              "    </tr>\n",
              "  </tbody>\n",
              "</table>\n",
              "</div>\n",
              "      <button class=\"colab-df-convert\" onclick=\"convertToInteractive('df-a98f8396-b19c-4b0b-9c81-92dc4df66bd9')\"\n",
              "              title=\"Convert this dataframe to an interactive table.\"\n",
              "              style=\"display:none;\">\n",
              "        \n",
              "  <svg xmlns=\"http://www.w3.org/2000/svg\" height=\"24px\"viewBox=\"0 0 24 24\"\n",
              "       width=\"24px\">\n",
              "    <path d=\"M0 0h24v24H0V0z\" fill=\"none\"/>\n",
              "    <path d=\"M18.56 5.44l.94 2.06.94-2.06 2.06-.94-2.06-.94-.94-2.06-.94 2.06-2.06.94zm-11 1L8.5 8.5l.94-2.06 2.06-.94-2.06-.94L8.5 2.5l-.94 2.06-2.06.94zm10 10l.94 2.06.94-2.06 2.06-.94-2.06-.94-.94-2.06-.94 2.06-2.06.94z\"/><path d=\"M17.41 7.96l-1.37-1.37c-.4-.4-.92-.59-1.43-.59-.52 0-1.04.2-1.43.59L10.3 9.45l-7.72 7.72c-.78.78-.78 2.05 0 2.83L4 21.41c.39.39.9.59 1.41.59.51 0 1.02-.2 1.41-.59l7.78-7.78 2.81-2.81c.8-.78.8-2.07 0-2.86zM5.41 20L4 18.59l7.72-7.72 1.47 1.35L5.41 20z\"/>\n",
              "  </svg>\n",
              "      </button>\n",
              "      \n",
              "  <style>\n",
              "    .colab-df-container {\n",
              "      display:flex;\n",
              "      flex-wrap:wrap;\n",
              "      gap: 12px;\n",
              "    }\n",
              "\n",
              "    .colab-df-convert {\n",
              "      background-color: #E8F0FE;\n",
              "      border: none;\n",
              "      border-radius: 50%;\n",
              "      cursor: pointer;\n",
              "      display: none;\n",
              "      fill: #1967D2;\n",
              "      height: 32px;\n",
              "      padding: 0 0 0 0;\n",
              "      width: 32px;\n",
              "    }\n",
              "\n",
              "    .colab-df-convert:hover {\n",
              "      background-color: #E2EBFA;\n",
              "      box-shadow: 0px 1px 2px rgba(60, 64, 67, 0.3), 0px 1px 3px 1px rgba(60, 64, 67, 0.15);\n",
              "      fill: #174EA6;\n",
              "    }\n",
              "\n",
              "    [theme=dark] .colab-df-convert {\n",
              "      background-color: #3B4455;\n",
              "      fill: #D2E3FC;\n",
              "    }\n",
              "\n",
              "    [theme=dark] .colab-df-convert:hover {\n",
              "      background-color: #434B5C;\n",
              "      box-shadow: 0px 1px 3px 1px rgba(0, 0, 0, 0.15);\n",
              "      filter: drop-shadow(0px 1px 2px rgba(0, 0, 0, 0.3));\n",
              "      fill: #FFFFFF;\n",
              "    }\n",
              "  </style>\n",
              "\n",
              "      <script>\n",
              "        const buttonEl =\n",
              "          document.querySelector('#df-a98f8396-b19c-4b0b-9c81-92dc4df66bd9 button.colab-df-convert');\n",
              "        buttonEl.style.display =\n",
              "          google.colab.kernel.accessAllowed ? 'block' : 'none';\n",
              "\n",
              "        async function convertToInteractive(key) {\n",
              "          const element = document.querySelector('#df-a98f8396-b19c-4b0b-9c81-92dc4df66bd9');\n",
              "          const dataTable =\n",
              "            await google.colab.kernel.invokeFunction('convertToInteractive',\n",
              "                                                     [key], {});\n",
              "          if (!dataTable) return;\n",
              "\n",
              "          const docLinkHtml = 'Like what you see? Visit the ' +\n",
              "            '<a target=\"_blank\" href=https://colab.research.google.com/notebooks/data_table.ipynb>data table notebook</a>'\n",
              "            + ' to learn more about interactive tables.';\n",
              "          element.innerHTML = '';\n",
              "          dataTable['output_type'] = 'display_data';\n",
              "          await google.colab.output.renderOutput(dataTable, element);\n",
              "          const docLink = document.createElement('div');\n",
              "          docLink.innerHTML = docLinkHtml;\n",
              "          element.appendChild(docLink);\n",
              "        }\n",
              "      </script>\n",
              "    </div>\n",
              "  </div>\n",
              "  "
            ]
          },
          "metadata": {},
          "execution_count": 112
        }
      ],
      "source": [
        "dataset.head()"
      ]
    },
    {
      "cell_type": "code",
      "execution_count": 113,
      "metadata": {
        "colab": {
          "base_uri": "https://localhost:8080/"
        },
        "id": "0us9libNl9W1",
        "outputId": "3b210358-1422-403d-dd91-c41be54e635f"
      },
      "outputs": [
        {
          "output_type": "stream",
          "name": "stdout",
          "text": [
            "France     5014\n",
            "Germany    2509\n",
            "Spain      2477\n",
            "Name: Geography, dtype: int64\n",
            "Male      5457\n",
            "Female    4543\n",
            "Name: Gender, dtype: int64\n"
          ]
        }
      ],
      "source": [
        "# Now let us encode the categorical features\n",
        "\n",
        "# Printing out the number of categories \n",
        "for cols in category_feat:\n",
        "  print(dataset[cols].value_counts())"
      ]
    },
    {
      "cell_type": "markdown",
      "metadata": {
        "id": "J9hF_OGGp2f6"
      },
      "source": [
        "We have two categories in gender and three in geogrpahy. So we will use frequency encoding for the geography feature and 1&0 (binary encoding) for gender value. "
      ]
    },
    {
      "cell_type": "code",
      "execution_count": 114,
      "metadata": {
        "id": "Dk47jqqjoQHH"
      },
      "outputs": [],
      "source": [
        "# Frequency encoding for Geogrpahy \n",
        "\n",
        "dataset[\"Geography\"] = dataset[\"Geography\"].map(dataset[\"Geography\"].value_counts().to_dict()) \n",
        "\n",
        "gender_mapping = {\"Male\":1,\"Female\":0}\n",
        "dataset[\"Gender\"] = dataset[\"Gender\"].map(gender_mapping)"
      ]
    },
    {
      "cell_type": "code",
      "execution_count": 115,
      "metadata": {
        "colab": {
          "base_uri": "https://localhost:8080/",
          "height": 248
        },
        "id": "knct3yuWo_R0",
        "outputId": "897ee17e-c0d9-4a4f-8601-1f4a56b1e714"
      },
      "outputs": [
        {
          "output_type": "execute_result",
          "data": {
            "text/plain": [
              "   CreditScore  Geography  Gender  Age  Tenure    Balance  NumOfProducts  \\\n",
              "0          619       5014       0   42       2       0.00              1   \n",
              "1          608       2477       0   41       1   83807.86              1   \n",
              "2          502       5014       0   42       8  159660.80              3   \n",
              "3          699       5014       0   39       1       0.00              2   \n",
              "4          850       2477       0   43       2  125510.82              1   \n",
              "\n",
              "   HasCrCard  IsActiveMember  EstimatedSalary  Exited  \n",
              "0          1               1        101348.88       1  \n",
              "1          0               1        112542.58       0  \n",
              "2          1               0        113931.57       1  \n",
              "3          0               0         93826.63       0  \n",
              "4          1               1         79084.10       0  "
            ],
            "text/html": [
              "\n",
              "  <div id=\"df-ddb2611b-b7a3-4d93-97e7-ddd6270cf462\">\n",
              "    <div class=\"colab-df-container\">\n",
              "      <div>\n",
              "<style scoped>\n",
              "    .dataframe tbody tr th:only-of-type {\n",
              "        vertical-align: middle;\n",
              "    }\n",
              "\n",
              "    .dataframe tbody tr th {\n",
              "        vertical-align: top;\n",
              "    }\n",
              "\n",
              "    .dataframe thead th {\n",
              "        text-align: right;\n",
              "    }\n",
              "</style>\n",
              "<table border=\"1\" class=\"dataframe\">\n",
              "  <thead>\n",
              "    <tr style=\"text-align: right;\">\n",
              "      <th></th>\n",
              "      <th>CreditScore</th>\n",
              "      <th>Geography</th>\n",
              "      <th>Gender</th>\n",
              "      <th>Age</th>\n",
              "      <th>Tenure</th>\n",
              "      <th>Balance</th>\n",
              "      <th>NumOfProducts</th>\n",
              "      <th>HasCrCard</th>\n",
              "      <th>IsActiveMember</th>\n",
              "      <th>EstimatedSalary</th>\n",
              "      <th>Exited</th>\n",
              "    </tr>\n",
              "  </thead>\n",
              "  <tbody>\n",
              "    <tr>\n",
              "      <th>0</th>\n",
              "      <td>619</td>\n",
              "      <td>5014</td>\n",
              "      <td>0</td>\n",
              "      <td>42</td>\n",
              "      <td>2</td>\n",
              "      <td>0.00</td>\n",
              "      <td>1</td>\n",
              "      <td>1</td>\n",
              "      <td>1</td>\n",
              "      <td>101348.88</td>\n",
              "      <td>1</td>\n",
              "    </tr>\n",
              "    <tr>\n",
              "      <th>1</th>\n",
              "      <td>608</td>\n",
              "      <td>2477</td>\n",
              "      <td>0</td>\n",
              "      <td>41</td>\n",
              "      <td>1</td>\n",
              "      <td>83807.86</td>\n",
              "      <td>1</td>\n",
              "      <td>0</td>\n",
              "      <td>1</td>\n",
              "      <td>112542.58</td>\n",
              "      <td>0</td>\n",
              "    </tr>\n",
              "    <tr>\n",
              "      <th>2</th>\n",
              "      <td>502</td>\n",
              "      <td>5014</td>\n",
              "      <td>0</td>\n",
              "      <td>42</td>\n",
              "      <td>8</td>\n",
              "      <td>159660.80</td>\n",
              "      <td>3</td>\n",
              "      <td>1</td>\n",
              "      <td>0</td>\n",
              "      <td>113931.57</td>\n",
              "      <td>1</td>\n",
              "    </tr>\n",
              "    <tr>\n",
              "      <th>3</th>\n",
              "      <td>699</td>\n",
              "      <td>5014</td>\n",
              "      <td>0</td>\n",
              "      <td>39</td>\n",
              "      <td>1</td>\n",
              "      <td>0.00</td>\n",
              "      <td>2</td>\n",
              "      <td>0</td>\n",
              "      <td>0</td>\n",
              "      <td>93826.63</td>\n",
              "      <td>0</td>\n",
              "    </tr>\n",
              "    <tr>\n",
              "      <th>4</th>\n",
              "      <td>850</td>\n",
              "      <td>2477</td>\n",
              "      <td>0</td>\n",
              "      <td>43</td>\n",
              "      <td>2</td>\n",
              "      <td>125510.82</td>\n",
              "      <td>1</td>\n",
              "      <td>1</td>\n",
              "      <td>1</td>\n",
              "      <td>79084.10</td>\n",
              "      <td>0</td>\n",
              "    </tr>\n",
              "  </tbody>\n",
              "</table>\n",
              "</div>\n",
              "      <button class=\"colab-df-convert\" onclick=\"convertToInteractive('df-ddb2611b-b7a3-4d93-97e7-ddd6270cf462')\"\n",
              "              title=\"Convert this dataframe to an interactive table.\"\n",
              "              style=\"display:none;\">\n",
              "        \n",
              "  <svg xmlns=\"http://www.w3.org/2000/svg\" height=\"24px\"viewBox=\"0 0 24 24\"\n",
              "       width=\"24px\">\n",
              "    <path d=\"M0 0h24v24H0V0z\" fill=\"none\"/>\n",
              "    <path d=\"M18.56 5.44l.94 2.06.94-2.06 2.06-.94-2.06-.94-.94-2.06-.94 2.06-2.06.94zm-11 1L8.5 8.5l.94-2.06 2.06-.94-2.06-.94L8.5 2.5l-.94 2.06-2.06.94zm10 10l.94 2.06.94-2.06 2.06-.94-2.06-.94-.94-2.06-.94 2.06-2.06.94z\"/><path d=\"M17.41 7.96l-1.37-1.37c-.4-.4-.92-.59-1.43-.59-.52 0-1.04.2-1.43.59L10.3 9.45l-7.72 7.72c-.78.78-.78 2.05 0 2.83L4 21.41c.39.39.9.59 1.41.59.51 0 1.02-.2 1.41-.59l7.78-7.78 2.81-2.81c.8-.78.8-2.07 0-2.86zM5.41 20L4 18.59l7.72-7.72 1.47 1.35L5.41 20z\"/>\n",
              "  </svg>\n",
              "      </button>\n",
              "      \n",
              "  <style>\n",
              "    .colab-df-container {\n",
              "      display:flex;\n",
              "      flex-wrap:wrap;\n",
              "      gap: 12px;\n",
              "    }\n",
              "\n",
              "    .colab-df-convert {\n",
              "      background-color: #E8F0FE;\n",
              "      border: none;\n",
              "      border-radius: 50%;\n",
              "      cursor: pointer;\n",
              "      display: none;\n",
              "      fill: #1967D2;\n",
              "      height: 32px;\n",
              "      padding: 0 0 0 0;\n",
              "      width: 32px;\n",
              "    }\n",
              "\n",
              "    .colab-df-convert:hover {\n",
              "      background-color: #E2EBFA;\n",
              "      box-shadow: 0px 1px 2px rgba(60, 64, 67, 0.3), 0px 1px 3px 1px rgba(60, 64, 67, 0.15);\n",
              "      fill: #174EA6;\n",
              "    }\n",
              "\n",
              "    [theme=dark] .colab-df-convert {\n",
              "      background-color: #3B4455;\n",
              "      fill: #D2E3FC;\n",
              "    }\n",
              "\n",
              "    [theme=dark] .colab-df-convert:hover {\n",
              "      background-color: #434B5C;\n",
              "      box-shadow: 0px 1px 3px 1px rgba(0, 0, 0, 0.15);\n",
              "      filter: drop-shadow(0px 1px 2px rgba(0, 0, 0, 0.3));\n",
              "      fill: #FFFFFF;\n",
              "    }\n",
              "  </style>\n",
              "\n",
              "      <script>\n",
              "        const buttonEl =\n",
              "          document.querySelector('#df-ddb2611b-b7a3-4d93-97e7-ddd6270cf462 button.colab-df-convert');\n",
              "        buttonEl.style.display =\n",
              "          google.colab.kernel.accessAllowed ? 'block' : 'none';\n",
              "\n",
              "        async function convertToInteractive(key) {\n",
              "          const element = document.querySelector('#df-ddb2611b-b7a3-4d93-97e7-ddd6270cf462');\n",
              "          const dataTable =\n",
              "            await google.colab.kernel.invokeFunction('convertToInteractive',\n",
              "                                                     [key], {});\n",
              "          if (!dataTable) return;\n",
              "\n",
              "          const docLinkHtml = 'Like what you see? Visit the ' +\n",
              "            '<a target=\"_blank\" href=https://colab.research.google.com/notebooks/data_table.ipynb>data table notebook</a>'\n",
              "            + ' to learn more about interactive tables.';\n",
              "          element.innerHTML = '';\n",
              "          dataTable['output_type'] = 'display_data';\n",
              "          await google.colab.output.renderOutput(dataTable, element);\n",
              "          const docLink = document.createElement('div');\n",
              "          docLink.innerHTML = docLinkHtml;\n",
              "          element.appendChild(docLink);\n",
              "        }\n",
              "      </script>\n",
              "    </div>\n",
              "  </div>\n",
              "  "
            ]
          },
          "metadata": {},
          "execution_count": 115
        }
      ],
      "source": [
        "# Now we have encoded the categorical data \n",
        "\n",
        "dataset.head()"
      ]
    },
    {
      "cell_type": "code",
      "execution_count": 116,
      "metadata": {
        "id": "Mfi_VZqKrMcp"
      },
      "outputs": [],
      "source": [
        "# Splitting the dataset into X and y (featureas and label)\n",
        "\n",
        "X = dataset.drop([\"Exited\"],axis=1)\n",
        "y = dataset[\"Exited\"]"
      ]
    },
    {
      "cell_type": "code",
      "execution_count": 117,
      "metadata": {
        "colab": {
          "base_uri": "https://localhost:8080/",
          "height": 512
        },
        "id": "JQx_kmgMinr2",
        "outputId": "086a2063-583a-4a15-d5fa-a3c80b6f9d4e"
      },
      "outputs": [
        {
          "output_type": "stream",
          "name": "stderr",
          "text": [
            "/usr/local/lib/python3.7/dist-packages/seaborn/_decorators.py:43: FutureWarning: Pass the following variables as keyword args: x, y. From version 0.12, the only valid positional argument will be `data`, and passing other arguments without an explicit keyword will result in an error or misinterpretation.\n",
            "  FutureWarning\n"
          ]
        },
        {
          "output_type": "execute_result",
          "data": {
            "text/plain": [
              "<seaborn.axisgrid.JointGrid at 0x7f6d97c57390>"
            ]
          },
          "metadata": {},
          "execution_count": 117
        },
        {
          "output_type": "display_data",
          "data": {
            "text/plain": [
              "<Figure size 432x432 with 3 Axes>"
            ],
            "image/png": "[encoded data removed]"
          },
          "metadata": {
            "needs_background": "light"
          }
        }
      ],
      "source": [
        "sns.jointplot(dataset[\"Gender\"],dataset[\"CreditScore\"])"
      ]
    },
    {
      "cell_type": "code",
      "execution_count": 118,
      "metadata": {
        "id": "8lmKedTurj0B"
      },
      "outputs": [],
      "source": [
        "from sklearn.preprocessing import StandardScaler\n",
        "\n",
        "scaler = StandardScaler()"
      ]
    },
    {
      "cell_type": "code",
      "execution_count": 119,
      "metadata": {
        "id": "fB_k__r3kers"
      },
      "outputs": [],
      "source": [
        "X = pd.DataFrame(scaler.fit_transform(X), columns=X.columns)"
      ]
    },
    {
      "cell_type": "code",
      "execution_count": 120,
      "metadata": {
        "colab": {
          "base_uri": "https://localhost:8080/",
          "height": 248
        },
        "id": "MyNocRGul-pe",
        "outputId": "7a391c13-5108-46c0-c97c-29ea66e9cdbb"
      },
      "outputs": [
        {
          "output_type": "execute_result",
          "data": {
            "text/plain": [
              "   CreditScore  Geography    Gender       Age    Tenure   Balance  \\\n",
              "0    -0.326221   0.997164 -1.095988  0.293517 -1.041760 -1.225848   \n",
              "1    -0.440036  -1.015539 -1.095988  0.198164 -1.387538  0.117350   \n",
              "2    -1.536794   0.997164 -1.095988  0.293517  1.032908  1.333053   \n",
              "3     0.501521   0.997164 -1.095988  0.007457 -1.387538 -1.225848   \n",
              "4     2.063884  -1.015539 -1.095988  0.388871 -1.041760  0.785728   \n",
              "\n",
              "   NumOfProducts  HasCrCard  IsActiveMember  EstimatedSalary  \n",
              "0      -0.911583   0.646092        0.970243         0.021886  \n",
              "1      -0.911583  -1.547768        0.970243         0.216534  \n",
              "2       2.527057   0.646092       -1.030670         0.240687  \n",
              "3       0.807737  -1.547768       -1.030670        -0.108918  \n",
              "4      -0.911583   0.646092        0.970243        -0.365276  "
            ],
            "text/html": [
              "\n",
              "  <div id=\"df-c6ab5529-1ba0-4671-b083-3c8faf674bdf\">\n",
              "    <div class=\"colab-df-container\">\n",
              "      <div>\n",
              "<style scoped>\n",
              "    .dataframe tbody tr th:only-of-type {\n",
              "        vertical-align: middle;\n",
              "    }\n",
              "\n",
              "    .dataframe tbody tr th {\n",
              "        vertical-align: top;\n",
              "    }\n",
              "\n",
              "    .dataframe thead th {\n",
              "        text-align: right;\n",
              "    }\n",
              "</style>\n",
              "<table border=\"1\" class=\"dataframe\">\n",
              "  <thead>\n",
              "    <tr style=\"text-align: right;\">\n",
              "      <th></th>\n",
              "      <th>CreditScore</th>\n",
              "      <th>Geography</th>\n",
              "      <th>Gender</th>\n",
              "      <th>Age</th>\n",
              "      <th>Tenure</th>\n",
              "      <th>Balance</th>\n",
              "      <th>NumOfProducts</th>\n",
              "      <th>HasCrCard</th>\n",
              "      <th>IsActiveMember</th>\n",
              "      <th>EstimatedSalary</th>\n",
              "    </tr>\n",
              "  </thead>\n",
              "  <tbody>\n",
              "    <tr>\n",
              "      <th>0</th>\n",
              "      <td>-0.326221</td>\n",
              "      <td>0.997164</td>\n",
              "      <td>-1.095988</td>\n",
              "      <td>0.293517</td>\n",
              "      <td>-1.041760</td>\n",
              "      <td>-1.225848</td>\n",
              "      <td>-0.911583</td>\n",
              "      <td>0.646092</td>\n",
              "      <td>0.970243</td>\n",
              "      <td>0.021886</td>\n",
              "    </tr>\n",
              "    <tr>\n",
              "      <th>1</th>\n",
              "      <td>-0.440036</td>\n",
              "      <td>-1.015539</td>\n",
              "      <td>-1.095988</td>\n",
              "      <td>0.198164</td>\n",
              "      <td>-1.387538</td>\n",
              "      <td>0.117350</td>\n",
              "      <td>-0.911583</td>\n",
              "      <td>-1.547768</td>\n",
              "      <td>0.970243</td>\n",
              "      <td>0.216534</td>\n",
              "    </tr>\n",
              "    <tr>\n",
              "      <th>2</th>\n",
              "      <td>-1.536794</td>\n",
              "      <td>0.997164</td>\n",
              "      <td>-1.095988</td>\n",
              "      <td>0.293517</td>\n",
              "      <td>1.032908</td>\n",
              "      <td>1.333053</td>\n",
              "      <td>2.527057</td>\n",
              "      <td>0.646092</td>\n",
              "      <td>-1.030670</td>\n",
              "      <td>0.240687</td>\n",
              "    </tr>\n",
              "    <tr>\n",
              "      <th>3</th>\n",
              "      <td>0.501521</td>\n",
              "      <td>0.997164</td>\n",
              "      <td>-1.095988</td>\n",
              "      <td>0.007457</td>\n",
              "      <td>-1.387538</td>\n",
              "      <td>-1.225848</td>\n",
              "      <td>0.807737</td>\n",
              "      <td>-1.547768</td>\n",
              "      <td>-1.030670</td>\n",
              "      <td>-0.108918</td>\n",
              "    </tr>\n",
              "    <tr>\n",
              "      <th>4</th>\n",
              "      <td>2.063884</td>\n",
              "      <td>-1.015539</td>\n",
              "      <td>-1.095988</td>\n",
              "      <td>0.388871</td>\n",
              "      <td>-1.041760</td>\n",
              "      <td>0.785728</td>\n",
              "      <td>-0.911583</td>\n",
              "      <td>0.646092</td>\n",
              "      <td>0.970243</td>\n",
              "      <td>-0.365276</td>\n",
              "    </tr>\n",
              "  </tbody>\n",
              "</table>\n",
              "</div>\n",
              "      <button class=\"colab-df-convert\" onclick=\"convertToInteractive('df-c6ab5529-1ba0-4671-b083-3c8faf674bdf')\"\n",
              "              title=\"Convert this dataframe to an interactive table.\"\n",
              "              style=\"display:none;\">\n",
              "        \n",
              "  <svg xmlns=\"http://www.w3.org/2000/svg\" height=\"24px\"viewBox=\"0 0 24 24\"\n",
              "       width=\"24px\">\n",
              "    <path d=\"M0 0h24v24H0V0z\" fill=\"none\"/>\n",
              "    <path d=\"M18.56 5.44l.94 2.06.94-2.06 2.06-.94-2.06-.94-.94-2.06-.94 2.06-2.06.94zm-11 1L8.5 8.5l.94-2.06 2.06-.94-2.06-.94L8.5 2.5l-.94 2.06-2.06.94zm10 10l.94 2.06.94-2.06 2.06-.94-2.06-.94-.94-2.06-.94 2.06-2.06.94z\"/><path d=\"M17.41 7.96l-1.37-1.37c-.4-.4-.92-.59-1.43-.59-.52 0-1.04.2-1.43.59L10.3 9.45l-7.72 7.72c-.78.78-.78 2.05 0 2.83L4 21.41c.39.39.9.59 1.41.59.51 0 1.02-.2 1.41-.59l7.78-7.78 2.81-2.81c.8-.78.8-2.07 0-2.86zM5.41 20L4 18.59l7.72-7.72 1.47 1.35L5.41 20z\"/>\n",
              "  </svg>\n",
              "      </button>\n",
              "      \n",
              "  <style>\n",
              "    .colab-df-container {\n",
              "      display:flex;\n",
              "      flex-wrap:wrap;\n",
              "      gap: 12px;\n",
              "    }\n",
              "\n",
              "    .colab-df-convert {\n",
              "      background-color: #E8F0FE;\n",
              "      border: none;\n",
              "      border-radius: 50%;\n",
              "      cursor: pointer;\n",
              "      display: none;\n",
              "      fill: #1967D2;\n",
              "      height: 32px;\n",
              "      padding: 0 0 0 0;\n",
              "      width: 32px;\n",
              "    }\n",
              "\n",
              "    .colab-df-convert:hover {\n",
              "      background-color: #E2EBFA;\n",
              "      box-shadow: 0px 1px 2px rgba(60, 64, 67, 0.3), 0px 1px 3px 1px rgba(60, 64, 67, 0.15);\n",
              "      fill: #174EA6;\n",
              "    }\n",
              "\n",
              "    [theme=dark] .colab-df-convert {\n",
              "      background-color: #3B4455;\n",
              "      fill: #D2E3FC;\n",
              "    }\n",
              "\n",
              "    [theme=dark] .colab-df-convert:hover {\n",
              "      background-color: #434B5C;\n",
              "      box-shadow: 0px 1px 3px 1px rgba(0, 0, 0, 0.15);\n",
              "      filter: drop-shadow(0px 1px 2px rgba(0, 0, 0, 0.3));\n",
              "      fill: #FFFFFF;\n",
              "    }\n",
              "  </style>\n",
              "\n",
              "      <script>\n",
              "        const buttonEl =\n",
              "          document.querySelector('#df-c6ab5529-1ba0-4671-b083-3c8faf674bdf button.colab-df-convert');\n",
              "        buttonEl.style.display =\n",
              "          google.colab.kernel.accessAllowed ? 'block' : 'none';\n",
              "\n",
              "        async function convertToInteractive(key) {\n",
              "          const element = document.querySelector('#df-c6ab5529-1ba0-4671-b083-3c8faf674bdf');\n",
              "          const dataTable =\n",
              "            await google.colab.kernel.invokeFunction('convertToInteractive',\n",
              "                                                     [key], {});\n",
              "          if (!dataTable) return;\n",
              "\n",
              "          const docLinkHtml = 'Like what you see? Visit the ' +\n",
              "            '<a target=\"_blank\" href=https://colab.research.google.com/notebooks/data_table.ipynb>data table notebook</a>'\n",
              "            + ' to learn more about interactive tables.';\n",
              "          element.innerHTML = '';\n",
              "          dataTable['output_type'] = 'display_data';\n",
              "          await google.colab.output.renderOutput(dataTable, element);\n",
              "          const docLink = document.createElement('div');\n",
              "          docLink.innerHTML = docLinkHtml;\n",
              "          element.appendChild(docLink);\n",
              "        }\n",
              "      </script>\n",
              "    </div>\n",
              "  </div>\n",
              "  "
            ]
          },
          "metadata": {},
          "execution_count": 120
        }
      ],
      "source": [
        "X.head()"
      ]
    },
    {
      "cell_type": "code",
      "execution_count": 121,
      "metadata": {
        "colab": {
          "base_uri": "https://localhost:8080/"
        },
        "id": "h9MBmjhZmBdb",
        "outputId": "284effa3-27ee-409a-ab5c-7586fb1121ff"
      },
      "outputs": [
        {
          "output_type": "execute_result",
          "data": {
            "text/plain": [
              "0    1\n",
              "1    0\n",
              "2    1\n",
              "3    0\n",
              "4    0\n",
              "Name: Exited, dtype: int64"
            ]
          },
          "metadata": {},
          "execution_count": 121
        }
      ],
      "source": [
        "y.head()"
      ]
    },
    {
      "cell_type": "code",
      "execution_count": 122,
      "metadata": {
        "id": "4BJ6frfFm39j"
      },
      "outputs": [],
      "source": [
        "# Splitting the data into training data, validation data and testing data\n",
        "\n",
        "from sklearn.model_selection import train_test_split \n",
        "\n",
        "train_X, test_X, train_Y, test_Y = train_test_split(X,y,test_size=0.15)\n",
        "train_X, valid_X, train_Y, valid_Y = train_test_split(train_X,train_Y, test_size = 0.15)"
      ]
    },
    {
      "cell_type": "code",
      "execution_count": 123,
      "metadata": {
        "id": "Btbk5GqFp4p0"
      },
      "outputs": [],
      "source": [
        "# Importing the necessary libraries required for builidng an ANN model \n",
        "\n",
        "import tensorflow as tf\n",
        "\n",
        "from tensorflow import keras \n",
        "\n",
        "from tensorflow.keras.layers import Dense, InputLayer, Dropout\n",
        "from tensorflow.keras.models import Model, Sequential "
      ]
    },
    {
      "cell_type": "code",
      "execution_count": 124,
      "metadata": {
        "id": "Y5QDUnZcqpGp"
      },
      "outputs": [],
      "source": [
        "# Builiding the model \n",
        "\n",
        "def build_model(input_shape_ = X.shape[1:], units = 100, layers = 3, activation_function=\"relu\", lr = 0.01, metrics='accruacy', output_units = 1):\n",
        "\n",
        "  model = keras.models.Sequential()\n",
        "\n",
        "  model.add(Dense(100, activation = activation_function,input_shape = input_shape_))\n",
        "\n",
        "  for num in range(layers):\n",
        "    model.add(Dense(units, activation= activation_function))\n",
        "\n",
        "  model.add(Dense(output_units, activation='sigmoid'))    \n",
        "\n",
        "  optimizer_ = tf.keras.optimizers.Adam(learning_rate = lr)\n",
        "\n",
        "  model.compile(optimizer = optimizer_, loss = \"binary_crossentropy\", metrics = ['accuracy'])\n",
        "\n",
        "  return model\n"
      ]
    },
    {
      "cell_type": "code",
      "execution_count": 125,
      "metadata": {
        "colab": {
          "base_uri": "https://localhost:8080/"
        },
        "id": "sYdmqc3dw7ur",
        "outputId": "a457e920-2f9d-43f2-e6cd-636e666172ea"
      },
      "outputs": [
        {
          "output_type": "stream",
          "name": "stderr",
          "text": [
            "/usr/local/lib/python3.7/dist-packages/ipykernel_launcher.py:1: DeprecationWarning: KerasClassifier is deprecated, use Sci-Keras (https://github.com/adriangb/scikeras) instead. See https://www.adriangb.com/scikeras/stable/migration.html for help migrating.\n",
            "  \"\"\"Entry point for launching an IPython kernel.\n"
          ]
        }
      ],
      "source": [
        "classifier = keras.wrappers.scikit_learn.KerasClassifier(build_model)"
      ]
    },
    {
      "cell_type": "code",
      "execution_count": 126,
      "metadata": {
        "colab": {
          "base_uri": "https://localhost:8080/"
        },
        "id": "75hX9d4Hw7xK",
        "outputId": "81919782-e9fd-4081-806c-dd2c0a01dac8"
      },
      "outputs": [
        {
          "output_type": "stream",
          "name": "stdout",
          "text": [
            "Epoch 1/2\n",
            "226/226 [==============================] - 2s 5ms/step - loss: 0.4031 - accuracy: 0.8360 - val_loss: 0.3847 - val_accuracy: 0.8353\n",
            "Epoch 2/2\n",
            "226/226 [==============================] - 1s 4ms/step - loss: 0.3709 - accuracy: 0.8486 - val_loss: 0.3680 - val_accuracy: 0.8486\n"
          ]
        },
        {
          "output_type": "execute_result",
          "data": {
            "text/plain": [
              "<keras.callbacks.History at 0x7f6d91f127d0>"
            ]
          },
          "metadata": {},
          "execution_count": 126
        }
      ],
      "source": [
        "classifier.fit(train_X, train_Y, epochs = 2, validation_data=([valid_X, valid_Y]))"
      ]
    },
    {
      "cell_type": "code",
      "execution_count": 127,
      "metadata": {
        "id": "-aX9H0Jow7zx"
      },
      "outputs": [],
      "source": [
        "from sklearn.model_selection import RandomizedSearchCV"
      ]
    },
    {
      "cell_type": "code",
      "execution_count": 128,
      "metadata": {
        "id": "1RzYHhciw72I"
      },
      "outputs": [],
      "source": [
        "parameters = {\n",
        "    \"units\" : np.arange(0,500,50),\n",
        "    \"layers\" : np.arange(1 ,7),\n",
        "    \"lr\" : [0.001, 0.01, 0.05, 0.09, 0.1, 0.2, 0.4, 0.5]\n",
        "}"
      ]
    },
    {
      "cell_type": "code",
      "execution_count": 129,
      "metadata": {
        "id": "uHquAaRH8p1A"
      },
      "outputs": [],
      "source": [
        "hyper_parameter_tuning = RandomizedSearchCV(classifier, parameters, n_iter = 8, cv=3)"
      ]
    },
    {
      "cell_type": "code",
      "execution_count": 130,
      "metadata": {
        "colab": {
          "base_uri": "https://localhost:8080/"
        },
        "id": "Gp3hqoi-8px5",
        "outputId": "54ed696d-8671-4157-a922-07d8427df890"
      },
      "outputs": [
        {
          "output_type": "stream",
          "name": "stdout",
          "text": [
            "Epoch 1/5\n",
            "151/151 [==============================] - 3s 10ms/step - loss: 11800.1865 - accuracy: 0.6516 - val_loss: 0.7935 - val_accuracy: 0.7875\n",
            "Epoch 2/5\n",
            "151/151 [==============================] - 1s 7ms/step - loss: 10.9615 - accuracy: 0.7463 - val_loss: 0.5226 - val_accuracy: 0.7882\n",
            "Epoch 3/5\n",
            "151/151 [==============================] - 1s 8ms/step - loss: 0.5154 - accuracy: 0.7969 - val_loss: 0.5215 - val_accuracy: 0.7882\n",
            "Epoch 4/5\n",
            "151/151 [==============================] - 1s 7ms/step - loss: 0.5146 - accuracy: 0.7969 - val_loss: 0.5169 - val_accuracy: 0.7882\n",
            "Epoch 5/5\n",
            "151/151 [==============================] - 1s 8ms/step - loss: 0.5126 - accuracy: 0.7969 - val_loss: 0.5367 - val_accuracy: 0.7882\n",
            "76/76 [==============================] - 1s 3ms/step - loss: 0.5208 - accuracy: 0.8008\n",
            "Epoch 1/5\n",
            "151/151 [==============================] - 3s 11ms/step - loss: 17172.7383 - accuracy: 0.7770 - val_loss: 0.5269 - val_accuracy: 0.7882\n",
            "Epoch 2/5\n",
            "151/151 [==============================] - 1s 6ms/step - loss: 0.5082 - accuracy: 0.7997 - val_loss: 0.5185 - val_accuracy: 0.7882\n",
            "Epoch 3/5\n",
            "151/151 [==============================] - 1s 8ms/step - loss: 0.5061 - accuracy: 0.7997 - val_loss: 0.5211 - val_accuracy: 0.7882\n",
            "Epoch 4/5\n",
            "151/151 [==============================] - 1s 6ms/step - loss: 0.5069 - accuracy: 0.7997 - val_loss: 0.5394 - val_accuracy: 0.7882\n",
            "Epoch 5/5\n",
            "151/151 [==============================] - 1s 7ms/step - loss: 0.5072 - accuracy: 0.7997 - val_loss: 0.5163 - val_accuracy: 0.7882\n",
            "76/76 [==============================] - 2s 4ms/step - loss: 0.5081 - accuracy: 0.7940\n",
            "Epoch 1/5\n",
            "151/151 [==============================] - 3s 10ms/step - loss: 5390.2822 - accuracy: 0.6519 - val_loss: 8.2170 - val_accuracy: 0.7882\n",
            "Epoch 2/5\n",
            "151/151 [==============================] - 1s 7ms/step - loss: 0.6821 - accuracy: 0.7903 - val_loss: 0.5186 - val_accuracy: 0.7882\n",
            "Epoch 3/5\n",
            "151/151 [==============================] - 1s 7ms/step - loss: 0.5073 - accuracy: 0.7974 - val_loss: 0.5192 - val_accuracy: 0.7882\n",
            "Epoch 4/5\n",
            "151/151 [==============================] - 2s 11ms/step - loss: 0.5076 - accuracy: 0.7974 - val_loss: 0.5201 - val_accuracy: 0.7882\n",
            "Epoch 5/5\n",
            "151/151 [==============================] - 2s 11ms/step - loss: 0.5065 - accuracy: 0.7974 - val_loss: 0.5185 - val_accuracy: 0.7882\n",
            "76/76 [==============================] - 1s 3ms/step - loss: 0.5061 - accuracy: 0.8010\n",
            "Epoch 1/5\n",
            "151/151 [==============================] - 5s 28ms/step - loss: 1526861568.0000 - accuracy: 0.7388 - val_loss: 0.5193 - val_accuracy: 0.7882\n",
            "Epoch 2/5\n",
            "151/151 [==============================] - 4s 28ms/step - loss: 0.5106 - accuracy: 0.7967 - val_loss: 0.5238 - val_accuracy: 0.7882\n",
            "Epoch 3/5\n",
            "151/151 [==============================] - 4s 27ms/step - loss: 0.5114 - accuracy: 0.7967 - val_loss: 0.5175 - val_accuracy: 0.7882\n",
            "Epoch 4/5\n",
            "151/151 [==============================] - 4s 27ms/step - loss: 0.5058 - accuracy: 0.7967 - val_loss: 0.5166 - val_accuracy: 0.7882\n",
            "Epoch 5/5\n",
            "151/151 [==============================] - 4s 26ms/step - loss: 0.5116 - accuracy: 0.7967 - val_loss: 0.5189 - val_accuracy: 0.7882\n",
            "76/76 [==============================] - 2s 12ms/step - loss: 0.5008 - accuracy: 0.8012\n",
            "Epoch 1/5\n",
            "151/151 [==============================] - 6s 29ms/step - loss: 711151104.0000 - accuracy: 0.7372 - val_loss: 0.5167 - val_accuracy: 0.7882\n",
            "Epoch 2/5\n",
            "151/151 [==============================] - 4s 26ms/step - loss: 0.5041 - accuracy: 0.7997 - val_loss: 0.5165 - val_accuracy: 0.7882\n",
            "Epoch 3/5\n",
            "151/151 [==============================] - 4s 28ms/step - loss: 0.5029 - accuracy: 0.7997 - val_loss: 0.5177 - val_accuracy: 0.7882\n",
            "Epoch 4/5\n",
            "151/151 [==============================] - 4s 27ms/step - loss: 0.5059 - accuracy: 0.7997 - val_loss: 0.5180 - val_accuracy: 0.7882\n",
            "Epoch 5/5\n",
            "151/151 [==============================] - 5s 31ms/step - loss: 0.5039 - accuracy: 0.7997 - val_loss: 0.5163 - val_accuracy: 0.7882\n",
            "76/76 [==============================] - 2s 13ms/step - loss: 0.5082 - accuracy: 0.7940\n",
            "Epoch 1/5\n",
            "151/151 [==============================] - 6s 28ms/step - loss: 2395540736.0000 - accuracy: 0.7262 - val_loss: 0.5298 - val_accuracy: 0.7882\n",
            "Epoch 2/5\n",
            "151/151 [==============================] - 4s 26ms/step - loss: 0.5078 - accuracy: 0.7974 - val_loss: 0.5217 - val_accuracy: 0.7882\n",
            "Epoch 3/5\n",
            "151/151 [==============================] - 5s 35ms/step - loss: 0.5095 - accuracy: 0.7974 - val_loss: 0.5191 - val_accuracy: 0.7882\n",
            "Epoch 4/5\n",
            "151/151 [==============================] - 5s 32ms/step - loss: 0.5109 - accuracy: 0.7974 - val_loss: 0.5281 - val_accuracy: 0.7882\n",
            "Epoch 5/5\n",
            "151/151 [==============================] - 3s 19ms/step - loss: 0.5109 - accuracy: 0.7974 - val_loss: 0.5262 - val_accuracy: 0.7882\n",
            "76/76 [==============================] - 1s 6ms/step - loss: 0.5082 - accuracy: 0.8010\n",
            "Epoch 1/5\n",
            "151/151 [==============================] - 2s 8ms/step - loss: 0.4339 - accuracy: 0.8146 - val_loss: 0.3950 - val_accuracy: 0.8376\n",
            "Epoch 2/5\n",
            "151/151 [==============================] - 1s 8ms/step - loss: 0.3695 - accuracy: 0.8503 - val_loss: 0.3594 - val_accuracy: 0.8486\n",
            "Epoch 3/5\n",
            "151/151 [==============================] - 2s 10ms/step - loss: 0.3384 - accuracy: 0.8569 - val_loss: 0.3638 - val_accuracy: 0.8463\n",
            "Epoch 4/5\n",
            "151/151 [==============================] - 2s 10ms/step - loss: 0.3330 - accuracy: 0.8594 - val_loss: 0.3646 - val_accuracy: 0.8463\n",
            "Epoch 5/5\n",
            "151/151 [==============================] - 1s 6ms/step - loss: 0.3195 - accuracy: 0.8646 - val_loss: 0.3852 - val_accuracy: 0.8439\n",
            "76/76 [==============================] - 1s 3ms/step - loss: 0.3891 - accuracy: 0.8522\n",
            "Epoch 1/5\n",
            "151/151 [==============================] - 2s 8ms/step - loss: 0.4282 - accuracy: 0.8186 - val_loss: 0.3916 - val_accuracy: 0.8361\n",
            "Epoch 2/5\n",
            "151/151 [==============================] - 1s 6ms/step - loss: 0.3597 - accuracy: 0.8565 - val_loss: 0.3747 - val_accuracy: 0.8384\n",
            "Epoch 3/5\n",
            "151/151 [==============================] - 1s 7ms/step - loss: 0.3395 - accuracy: 0.8619 - val_loss: 0.3888 - val_accuracy: 0.8541\n",
            "Epoch 4/5\n",
            "151/151 [==============================] - 1s 7ms/step - loss: 0.3293 - accuracy: 0.8669 - val_loss: 0.3700 - val_accuracy: 0.8518\n",
            "Epoch 5/5\n",
            "151/151 [==============================] - 1s 6ms/step - loss: 0.3219 - accuracy: 0.8686 - val_loss: 0.3858 - val_accuracy: 0.8416\n",
            "76/76 [==============================] - 1s 2ms/step - loss: 0.3902 - accuracy: 0.8376\n",
            "Epoch 1/5\n",
            "151/151 [==============================] - 2s 7ms/step - loss: 0.4372 - accuracy: 0.8192 - val_loss: 0.3893 - val_accuracy: 0.8353\n",
            "Epoch 2/5\n",
            "151/151 [==============================] - 1s 6ms/step - loss: 0.3738 - accuracy: 0.8445 - val_loss: 0.3635 - val_accuracy: 0.8478\n",
            "Epoch 3/5\n",
            "151/151 [==============================] - 1s 6ms/step - loss: 0.3554 - accuracy: 0.8539 - val_loss: 0.3559 - val_accuracy: 0.8486\n",
            "Epoch 4/5\n",
            "151/151 [==============================] - 1s 6ms/step - loss: 0.3432 - accuracy: 0.8561 - val_loss: 0.3747 - val_accuracy: 0.8431\n",
            "Epoch 5/5\n",
            "151/151 [==============================] - 1s 6ms/step - loss: 0.3302 - accuracy: 0.8630 - val_loss: 0.3730 - val_accuracy: 0.8416\n",
            "76/76 [==============================] - 1s 3ms/step - loss: 0.3539 - accuracy: 0.8499\n",
            "Epoch 1/5\n",
            "151/151 [==============================] - 1s 4ms/step - loss: 0.6931 - accuracy: 0.7967 - val_loss: 0.6931 - val_accuracy: 0.7882\n",
            "Epoch 2/5\n",
            "151/151 [==============================] - 0s 3ms/step - loss: 0.6931 - accuracy: 0.7967 - val_loss: 0.6931 - val_accuracy: 0.7882\n",
            "Epoch 3/5\n",
            "151/151 [==============================] - 0s 3ms/step - loss: 0.6931 - accuracy: 0.7967 - val_loss: 0.6931 - val_accuracy: 0.7882\n",
            "Epoch 4/5\n",
            "151/151 [==============================] - 0s 3ms/step - loss: 0.6931 - accuracy: 0.7967 - val_loss: 0.6931 - val_accuracy: 0.7882\n",
            "Epoch 5/5\n",
            "151/151 [==============================] - 0s 3ms/step - loss: 0.6931 - accuracy: 0.7967 - val_loss: 0.6931 - val_accuracy: 0.7882\n",
            "76/76 [==============================] - 1s 2ms/step - loss: 0.6931 - accuracy: 0.8012\n",
            "Epoch 1/5\n",
            "151/151 [==============================] - 1s 4ms/step - loss: 0.6931 - accuracy: 0.7997 - val_loss: 0.6931 - val_accuracy: 0.7882\n",
            "Epoch 2/5\n",
            "151/151 [==============================] - 0s 3ms/step - loss: 0.6931 - accuracy: 0.7997 - val_loss: 0.6931 - val_accuracy: 0.7882\n",
            "Epoch 3/5\n",
            "151/151 [==============================] - 0s 3ms/step - loss: 0.6931 - accuracy: 0.7997 - val_loss: 0.6931 - val_accuracy: 0.7882\n",
            "Epoch 4/5\n",
            "151/151 [==============================] - 0s 3ms/step - loss: 0.6931 - accuracy: 0.7997 - val_loss: 0.6931 - val_accuracy: 0.7882\n",
            "Epoch 5/5\n",
            "151/151 [==============================] - 0s 3ms/step - loss: 0.6931 - accuracy: 0.7997 - val_loss: 0.6931 - val_accuracy: 0.7882\n",
            "76/76 [==============================] - 1s 2ms/step - loss: 0.6931 - accuracy: 0.7940\n",
            "Epoch 1/5\n",
            "151/151 [==============================] - 1s 4ms/step - loss: 0.6931 - accuracy: 0.7974 - val_loss: 0.6931 - val_accuracy: 0.7882\n",
            "Epoch 2/5\n",
            "151/151 [==============================] - 0s 3ms/step - loss: 0.6931 - accuracy: 0.7974 - val_loss: 0.6931 - val_accuracy: 0.7882\n",
            "Epoch 3/5\n",
            "151/151 [==============================] - 0s 3ms/step - loss: 0.6931 - accuracy: 0.7974 - val_loss: 0.6931 - val_accuracy: 0.7882\n",
            "Epoch 4/5\n",
            "151/151 [==============================] - 0s 3ms/step - loss: 0.6931 - accuracy: 0.7974 - val_loss: 0.6931 - val_accuracy: 0.7882\n",
            "Epoch 5/5\n",
            "151/151 [==============================] - 0s 3ms/step - loss: 0.6931 - accuracy: 0.7974 - val_loss: 0.6931 - val_accuracy: 0.7882\n",
            "76/76 [==============================] - 0s 2ms/step - loss: 0.6931 - accuracy: 0.8010\n",
            "Epoch 1/5\n",
            "151/151 [==============================] - 1s 4ms/step - loss: 0.6931 - accuracy: 0.7967 - val_loss: 0.6931 - val_accuracy: 0.7882\n",
            "Epoch 2/5\n",
            "151/151 [==============================] - 0s 3ms/step - loss: 0.6931 - accuracy: 0.7967 - val_loss: 0.6931 - val_accuracy: 0.7882\n",
            "Epoch 3/5\n",
            "151/151 [==============================] - 0s 3ms/step - loss: 0.6931 - accuracy: 0.7967 - val_loss: 0.6931 - val_accuracy: 0.7882\n",
            "Epoch 4/5\n",
            "151/151 [==============================] - 0s 3ms/step - loss: 0.6931 - accuracy: 0.7967 - val_loss: 0.6931 - val_accuracy: 0.7882\n",
            "Epoch 5/5\n",
            "151/151 [==============================] - 0s 3ms/step - loss: 0.6931 - accuracy: 0.7967 - val_loss: 0.6931 - val_accuracy: 0.7882\n",
            "76/76 [==============================] - 0s 2ms/step - loss: 0.6931 - accuracy: 0.8012\n",
            "Epoch 1/5\n",
            "151/151 [==============================] - 1s 4ms/step - loss: 0.6931 - accuracy: 0.7997 - val_loss: 0.6931 - val_accuracy: 0.7882\n",
            "Epoch 2/5\n",
            "151/151 [==============================] - 0s 3ms/step - loss: 0.6931 - accuracy: 0.7997 - val_loss: 0.6931 - val_accuracy: 0.7882\n",
            "Epoch 3/5\n",
            "151/151 [==============================] - 0s 3ms/step - loss: 0.6931 - accuracy: 0.7997 - val_loss: 0.6931 - val_accuracy: 0.7882\n",
            "Epoch 4/5\n",
            "151/151 [==============================] - 0s 3ms/step - loss: 0.6931 - accuracy: 0.7997 - val_loss: 0.6931 - val_accuracy: 0.7882\n",
            "Epoch 5/5\n",
            "151/151 [==============================] - 0s 3ms/step - loss: 0.6931 - accuracy: 0.7997 - val_loss: 0.6931 - val_accuracy: 0.7882\n",
            "76/76 [==============================] - 0s 2ms/step - loss: 0.6931 - accuracy: 0.7940\n",
            "Epoch 1/5\n",
            "151/151 [==============================] - 1s 4ms/step - loss: 0.6931 - accuracy: 0.7974 - val_loss: 0.6931 - val_accuracy: 0.7882\n",
            "Epoch 2/5\n",
            "151/151 [==============================] - 0s 3ms/step - loss: 0.6931 - accuracy: 0.7974 - val_loss: 0.6931 - val_accuracy: 0.7882\n",
            "Epoch 3/5\n",
            "151/151 [==============================] - 0s 3ms/step - loss: 0.6931 - accuracy: 0.7974 - val_loss: 0.6931 - val_accuracy: 0.7882\n",
            "Epoch 4/5\n",
            "151/151 [==============================] - 0s 3ms/step - loss: 0.6931 - accuracy: 0.7974 - val_loss: 0.6931 - val_accuracy: 0.7882\n",
            "Epoch 5/5\n",
            "151/151 [==============================] - 0s 3ms/step - loss: 0.6931 - accuracy: 0.7974 - val_loss: 0.6931 - val_accuracy: 0.7882\n",
            "76/76 [==============================] - 0s 2ms/step - loss: 0.6931 - accuracy: 0.8010\n",
            "Epoch 1/5\n",
            "151/151 [==============================] - 2s 7ms/step - loss: 0.4348 - accuracy: 0.8100 - val_loss: 0.3852 - val_accuracy: 0.8439\n",
            "Epoch 2/5\n",
            "151/151 [==============================] - 1s 8ms/step - loss: 0.3558 - accuracy: 0.8526 - val_loss: 0.3823 - val_accuracy: 0.8424\n",
            "Epoch 3/5\n",
            "151/151 [==============================] - 1s 9ms/step - loss: 0.3388 - accuracy: 0.8600 - val_loss: 0.3713 - val_accuracy: 0.8494\n",
            "Epoch 4/5\n",
            "151/151 [==============================] - 1s 7ms/step - loss: 0.3262 - accuracy: 0.8623 - val_loss: 0.3741 - val_accuracy: 0.8455\n",
            "Epoch 5/5\n",
            "151/151 [==============================] - 1s 6ms/step - loss: 0.3207 - accuracy: 0.8667 - val_loss: 0.3724 - val_accuracy: 0.8533\n",
            "76/76 [==============================] - 1s 2ms/step - loss: 0.3810 - accuracy: 0.8468\n",
            "Epoch 1/5\n",
            "151/151 [==============================] - 2s 6ms/step - loss: 0.4334 - accuracy: 0.8163 - val_loss: 0.3996 - val_accuracy: 0.8376\n",
            "Epoch 2/5\n",
            "151/151 [==============================] - 1s 5ms/step - loss: 0.3593 - accuracy: 0.8557 - val_loss: 0.3592 - val_accuracy: 0.8565\n",
            "Epoch 3/5\n",
            "151/151 [==============================] - 1s 5ms/step - loss: 0.3389 - accuracy: 0.8653 - val_loss: 0.3617 - val_accuracy: 0.8565\n",
            "Epoch 4/5\n",
            "151/151 [==============================] - 1s 6ms/step - loss: 0.3324 - accuracy: 0.8640 - val_loss: 0.3709 - val_accuracy: 0.8471\n",
            "Epoch 5/5\n",
            "151/151 [==============================] - 1s 5ms/step - loss: 0.3210 - accuracy: 0.8671 - val_loss: 0.3791 - val_accuracy: 0.8502\n",
            "76/76 [==============================] - 1s 2ms/step - loss: 0.3750 - accuracy: 0.8470\n",
            "Epoch 1/5\n",
            "151/151 [==============================] - 2s 6ms/step - loss: 0.4397 - accuracy: 0.8115 - val_loss: 0.3750 - val_accuracy: 0.8455\n",
            "Epoch 2/5\n",
            "151/151 [==============================] - 1s 5ms/step - loss: 0.3710 - accuracy: 0.8466 - val_loss: 0.3623 - val_accuracy: 0.8486\n",
            "Epoch 3/5\n",
            "151/151 [==============================] - 1s 5ms/step - loss: 0.3533 - accuracy: 0.8520 - val_loss: 0.3643 - val_accuracy: 0.8431\n",
            "Epoch 4/5\n",
            "151/151 [==============================] - 1s 5ms/step - loss: 0.3416 - accuracy: 0.8580 - val_loss: 0.3662 - val_accuracy: 0.8486\n",
            "Epoch 5/5\n",
            "151/151 [==============================] - 1s 5ms/step - loss: 0.3346 - accuracy: 0.8572 - val_loss: 0.3621 - val_accuracy: 0.8494\n",
            "76/76 [==============================] - 1s 2ms/step - loss: 0.3394 - accuracy: 0.8606\n",
            "Epoch 1/5\n",
            "151/151 [==============================] - 2s 7ms/step - loss: 69.5596 - accuracy: 0.7564 - val_loss: 0.5096 - val_accuracy: 0.7882\n",
            "Epoch 2/5\n",
            "151/151 [==============================] - 1s 6ms/step - loss: 0.8426 - accuracy: 0.7926 - val_loss: 0.5352 - val_accuracy: 0.7882\n",
            "Epoch 3/5\n",
            "151/151 [==============================] - 1s 6ms/step - loss: 0.5138 - accuracy: 0.7967 - val_loss: 0.5261 - val_accuracy: 0.7882\n",
            "Epoch 4/5\n",
            "151/151 [==============================] - 1s 6ms/step - loss: 0.5105 - accuracy: 0.7967 - val_loss: 0.5176 - val_accuracy: 0.7882\n",
            "Epoch 5/5\n",
            "151/151 [==============================] - 1s 6ms/step - loss: 0.5114 - accuracy: 0.7967 - val_loss: 0.5172 - val_accuracy: 0.7882\n",
            "76/76 [==============================] - 1s 2ms/step - loss: 0.5026 - accuracy: 0.8012\n",
            "Epoch 1/5\n",
            "151/151 [==============================] - 2s 7ms/step - loss: 57.0329 - accuracy: 0.7631 - val_loss: 0.5250 - val_accuracy: 0.7867\n",
            "Epoch 2/5\n",
            "151/151 [==============================] - 1s 6ms/step - loss: 1.5333 - accuracy: 0.7976 - val_loss: 0.5210 - val_accuracy: 0.7882\n",
            "Epoch 3/5\n",
            "151/151 [==============================] - 1s 6ms/step - loss: 0.5312 - accuracy: 0.7947 - val_loss: 4.9665 - val_accuracy: 0.7859\n",
            "Epoch 4/5\n",
            "151/151 [==============================] - 1s 6ms/step - loss: 1.7641 - accuracy: 0.7843 - val_loss: 0.5212 - val_accuracy: 0.7882\n",
            "Epoch 5/5\n",
            "151/151 [==============================] - 1s 7ms/step - loss: 0.5018 - accuracy: 0.7997 - val_loss: 0.5206 - val_accuracy: 0.7882\n",
            "76/76 [==============================] - 1s 2ms/step - loss: 0.5110 - accuracy: 0.7940\n",
            "Epoch 1/5\n",
            "151/151 [==============================] - 2s 7ms/step - loss: 44.9414 - accuracy: 0.7642 - val_loss: 0.5177 - val_accuracy: 0.7882\n",
            "Epoch 2/5\n",
            "151/151 [==============================] - 1s 6ms/step - loss: 0.5054 - accuracy: 0.7974 - val_loss: 0.5193 - val_accuracy: 0.7882\n",
            "Epoch 3/5\n",
            "151/151 [==============================] - 1s 6ms/step - loss: 0.5053 - accuracy: 0.7974 - val_loss: 0.5163 - val_accuracy: 0.7882\n",
            "Epoch 4/5\n",
            "151/151 [==============================] - 1s 6ms/step - loss: 0.5051 - accuracy: 0.7974 - val_loss: 0.5192 - val_accuracy: 0.7882\n",
            "Epoch 5/5\n",
            "151/151 [==============================] - 1s 6ms/step - loss: 0.5060 - accuracy: 0.7974 - val_loss: 0.5178 - val_accuracy: 0.7882\n",
            "76/76 [==============================] - 1s 2ms/step - loss: 0.5022 - accuracy: 0.8010\n",
            "Epoch 1/5\n",
            "151/151 [==============================] - 1s 5ms/step - loss: 0.8368 - accuracy: 0.7805 - val_loss: 0.4719 - val_accuracy: 0.8180\n",
            "Epoch 2/5\n",
            "151/151 [==============================] - 1s 3ms/step - loss: 0.5163 - accuracy: 0.7973 - val_loss: 0.5183 - val_accuracy: 0.7882\n",
            "Epoch 3/5\n",
            "151/151 [==============================] - 1s 3ms/step - loss: 0.5086 - accuracy: 0.7967 - val_loss: 0.5187 - val_accuracy: 0.7882\n",
            "Epoch 4/5\n",
            "151/151 [==============================] - 1s 3ms/step - loss: 0.5070 - accuracy: 0.7967 - val_loss: 0.5172 - val_accuracy: 0.7882\n",
            "Epoch 5/5\n",
            "151/151 [==============================] - 1s 3ms/step - loss: 0.5093 - accuracy: 0.7967 - val_loss: 0.5173 - val_accuracy: 0.7882\n",
            "76/76 [==============================] - 1s 2ms/step - loss: 0.5001 - accuracy: 0.8012\n",
            "Epoch 1/5\n",
            "151/151 [==============================] - 1s 4ms/step - loss: 0.8290 - accuracy: 0.7870 - val_loss: 0.5167 - val_accuracy: 0.7882\n",
            "Epoch 2/5\n",
            "151/151 [==============================] - 1s 4ms/step - loss: 0.5027 - accuracy: 0.7997 - val_loss: 0.5164 - val_accuracy: 0.7882\n",
            "Epoch 3/5\n",
            "151/151 [==============================] - 1s 4ms/step - loss: 0.5035 - accuracy: 0.7997 - val_loss: 0.5165 - val_accuracy: 0.7882\n",
            "Epoch 4/5\n",
            "151/151 [==============================] - 1s 4ms/step - loss: 0.5035 - accuracy: 0.7997 - val_loss: 0.5211 - val_accuracy: 0.7882\n",
            "Epoch 5/5\n",
            "151/151 [==============================] - 1s 6ms/step - loss: 0.5037 - accuracy: 0.7997 - val_loss: 0.5163 - val_accuracy: 0.7882\n",
            "76/76 [==============================] - 1s 3ms/step - loss: 0.5081 - accuracy: 0.7940\n",
            "Epoch 1/5\n",
            "151/151 [==============================] - 2s 5ms/step - loss: 0.7167 - accuracy: 0.7860 - val_loss: 0.5192 - val_accuracy: 0.7882\n",
            "Epoch 2/5\n",
            "151/151 [==============================] - 0s 3ms/step - loss: 0.5060 - accuracy: 0.7974 - val_loss: 0.5163 - val_accuracy: 0.7882\n",
            "Epoch 3/5\n",
            "151/151 [==============================] - 1s 3ms/step - loss: 0.5060 - accuracy: 0.7974 - val_loss: 0.5164 - val_accuracy: 0.7882\n",
            "Epoch 4/5\n",
            "151/151 [==============================] - 0s 3ms/step - loss: 0.5056 - accuracy: 0.7974 - val_loss: 0.5168 - val_accuracy: 0.7882\n",
            "Epoch 5/5\n",
            "151/151 [==============================] - 1s 3ms/step - loss: 0.5066 - accuracy: 0.7974 - val_loss: 0.5289 - val_accuracy: 0.7882\n",
            "76/76 [==============================] - 0s 2ms/step - loss: 0.5190 - accuracy: 0.8010\n",
            "Epoch 1/5\n",
            "226/226 [==============================] - 2s 5ms/step - loss: 0.4156 - accuracy: 0.8269 - val_loss: 0.3756 - val_accuracy: 0.8376\n",
            "Epoch 2/5\n",
            "226/226 [==============================] - 1s 5ms/step - loss: 0.3550 - accuracy: 0.8543 - val_loss: 0.3581 - val_accuracy: 0.8533\n",
            "Epoch 3/5\n",
            "226/226 [==============================] - 1s 5ms/step - loss: 0.3441 - accuracy: 0.8595 - val_loss: 0.3575 - val_accuracy: 0.8502\n",
            "Epoch 4/5\n",
            "226/226 [==============================] - 1s 5ms/step - loss: 0.3353 - accuracy: 0.8620 - val_loss: 0.3627 - val_accuracy: 0.8541\n",
            "Epoch 5/5\n",
            "226/226 [==============================] - 1s 5ms/step - loss: 0.3299 - accuracy: 0.8624 - val_loss: 0.3548 - val_accuracy: 0.8612\n"
          ]
        }
      ],
      "source": [
        "history = hyper_parameter_tuning.fit(train_X, train_Y, epochs = 5, validation_data=(valid_X, valid_Y), callbacks=[keras.callbacks.EarlyStopping(patience=10)])"
      ]
    },
    {
      "cell_type": "code",
      "execution_count": 131,
      "metadata": {
        "colab": {
          "base_uri": "https://localhost:8080/"
        },
        "id": "BhCL3iYD6o2r",
        "outputId": "21e2c201-a855-4dc5-e0c1-81d632e1873e"
      },
      "outputs": [
        {
          "output_type": "execute_result",
          "data": {
            "text/plain": [
              "{'units': 150, 'lr': 0.001, 'layers': 4}"
            ]
          },
          "metadata": {},
          "execution_count": 131
        }
      ],
      "source": [
        "history.best_params_"
      ]
    },
    {
      "cell_type": "code",
      "execution_count": 132,
      "metadata": {
        "colab": {
          "base_uri": "https://localhost:8080/"
        },
        "id": "2OPAYJKI6o5N",
        "outputId": "653720db-ed59-4c71-b909-108a5cdd80f5"
      },
      "outputs": [
        {
          "output_type": "execute_result",
          "data": {
            "text/plain": [
              "0.851486345132192"
            ]
          },
          "metadata": {},
          "execution_count": 132
        }
      ],
      "source": [
        "history.best_score_"
      ]
    },
    {
      "cell_type": "code",
      "execution_count": 133,
      "metadata": {
        "id": "r81iTNOzyZxb"
      },
      "outputs": [],
      "source": [
        "final_model = history.best_estimator_.model"
      ]
    },
    {
      "cell_type": "code",
      "source": [
        "model_history = final_model.fit(train_X, train_Y, validation_data=(test_X, test_Y), epochs=20)"
      ],
      "metadata": {
        "colab": {
          "base_uri": "https://localhost:8080/"
        },
        "id": "xd_DcztVc90G",
        "outputId": "fecfef65-7d5c-44d8-ac97-22d0b1126d02"
      },
      "execution_count": 134,
      "outputs": [
        {
          "output_type": "stream",
          "name": "stdout",
          "text": [
            "Epoch 1/20\n",
            "226/226 [==============================] - 3s 7ms/step - loss: 0.3240 - accuracy: 0.8637 - val_loss: 0.3950 - val_accuracy: 0.8460\n",
            "Epoch 2/20\n",
            "226/226 [==============================] - 2s 8ms/step - loss: 0.3196 - accuracy: 0.8674 - val_loss: 0.3934 - val_accuracy: 0.8453\n",
            "Epoch 3/20\n",
            "226/226 [==============================] - 1s 6ms/step - loss: 0.3185 - accuracy: 0.8653 - val_loss: 0.3819 - val_accuracy: 0.8400\n",
            "Epoch 4/20\n",
            "226/226 [==============================] - 1s 5ms/step - loss: 0.3113 - accuracy: 0.8692 - val_loss: 0.3920 - val_accuracy: 0.8413\n",
            "Epoch 5/20\n",
            "226/226 [==============================] - 1s 6ms/step - loss: 0.3025 - accuracy: 0.8718 - val_loss: 0.4089 - val_accuracy: 0.8360\n",
            "Epoch 6/20\n",
            "226/226 [==============================] - 1s 5ms/step - loss: 0.2975 - accuracy: 0.8721 - val_loss: 0.4006 - val_accuracy: 0.8413\n",
            "Epoch 7/20\n",
            "226/226 [==============================] - 1s 5ms/step - loss: 0.2924 - accuracy: 0.8750 - val_loss: 0.4196 - val_accuracy: 0.8420\n",
            "Epoch 8/20\n",
            "226/226 [==============================] - 1s 5ms/step - loss: 0.2856 - accuracy: 0.8778 - val_loss: 0.4121 - val_accuracy: 0.8400\n",
            "Epoch 9/20\n",
            "226/226 [==============================] - 1s 5ms/step - loss: 0.2760 - accuracy: 0.8826 - val_loss: 0.4423 - val_accuracy: 0.8267\n",
            "Epoch 10/20\n",
            "226/226 [==============================] - 1s 5ms/step - loss: 0.2686 - accuracy: 0.8840 - val_loss: 0.4299 - val_accuracy: 0.8360\n",
            "Epoch 11/20\n",
            "226/226 [==============================] - 1s 5ms/step - loss: 0.2621 - accuracy: 0.8883 - val_loss: 0.4752 - val_accuracy: 0.8393\n",
            "Epoch 12/20\n",
            "226/226 [==============================] - 1s 5ms/step - loss: 0.2549 - accuracy: 0.8878 - val_loss: 0.4647 - val_accuracy: 0.8313\n",
            "Epoch 13/20\n",
            "226/226 [==============================] - 1s 5ms/step - loss: 0.2450 - accuracy: 0.8925 - val_loss: 0.5032 - val_accuracy: 0.8387\n",
            "Epoch 14/20\n",
            "226/226 [==============================] - 1s 5ms/step - loss: 0.2356 - accuracy: 0.8969 - val_loss: 0.5150 - val_accuracy: 0.8313\n",
            "Epoch 15/20\n",
            "226/226 [==============================] - 1s 5ms/step - loss: 0.2280 - accuracy: 0.8995 - val_loss: 0.5194 - val_accuracy: 0.8287\n",
            "Epoch 16/20\n",
            "226/226 [==============================] - 1s 5ms/step - loss: 0.2244 - accuracy: 0.9005 - val_loss: 0.5284 - val_accuracy: 0.8233\n",
            "Epoch 17/20\n",
            "226/226 [==============================] - 1s 5ms/step - loss: 0.2087 - accuracy: 0.9035 - val_loss: 0.5541 - val_accuracy: 0.8140\n",
            "Epoch 18/20\n",
            "226/226 [==============================] - 1s 5ms/step - loss: 0.2090 - accuracy: 0.9064 - val_loss: 0.5398 - val_accuracy: 0.8307\n",
            "Epoch 19/20\n",
            "226/226 [==============================] - 1s 5ms/step - loss: 0.1989 - accuracy: 0.9106 - val_loss: 0.6150 - val_accuracy: 0.8147\n",
            "Epoch 20/20\n",
            "226/226 [==============================] - 1s 5ms/step - loss: 0.1939 - accuracy: 0.9121 - val_loss: 0.6368 - val_accuracy: 0.8173\n"
          ]
        }
      ]
    },
    {
      "cell_type": "code",
      "execution_count": 135,
      "metadata": {
        "colab": {
          "base_uri": "https://localhost:8080/",
          "height": 298
        },
        "id": "s_xORgwRylZt",
        "outputId": "07dc62fe-d4f5-44b4-e091-beca203e8dc1"
      },
      "outputs": [
        {
          "output_type": "execute_result",
          "data": {
            "text/plain": [
              "Text(0.5, 1.0, 'LOSS')"
            ]
          },
          "metadata": {},
          "execution_count": 135
        },
        {
          "output_type": "display_data",
          "data": {
            "text/plain": [
              "<Figure size 432x288 with 1 Axes>"
            ],
            "image/png": "[encoded data removed]"
          },
          "metadata": {
            "needs_background": "light"
          }
        }
      ],
      "source": [
        "# Plotting the accuracies and losses for valdiation and training data\n",
        "\n",
        "plt.plot(model_history.history[\"loss\"])\n",
        "plt.plot(model_history.history[\"val_loss\"])\n",
        "plt.title(\"LOSS\")"
      ]
    },
    {
      "cell_type": "code",
      "execution_count": 136,
      "metadata": {
        "colab": {
          "base_uri": "https://localhost:8080/",
          "height": 298
        },
        "id": "L2A192EczEtH",
        "outputId": "54c1801d-14bd-4e63-db91-636fce73acf5"
      },
      "outputs": [
        {
          "output_type": "execute_result",
          "data": {
            "text/plain": [
              "Text(0.5, 1.0, 'ACCURACY')"
            ]
          },
          "metadata": {},
          "execution_count": 136
        },
        {
          "output_type": "display_data",
          "data": {
            "text/plain": [
              "<Figure size 432x288 with 1 Axes>"
            ],
            "image/png": "[encoded data removed]"
          },
          "metadata": {
            "needs_background": "light"
          }
        }
      ],
      "source": [
        "plt.plot(model_history.history[\"val_accuracy\"])\n",
        "plt.plot(model_history.history[\"accuracy\"])\n",
        "plt.title(\"ACCURACY\")"
      ]
    },
    {
      "cell_type": "code",
      "execution_count": 137,
      "metadata": {
        "id": "tfFZf6dbzPmJ"
      },
      "outputs": [],
      "source": [
        "import pickle "
      ]
    },
    {
      "cell_type": "code",
      "execution_count": 138,
      "metadata": {
        "id": "09va41Aj0uT_"
      },
      "outputs": [],
      "source": [
        "file_ = open(\"model.pkl\",\"wb\")\n",
        "\n",
        "pickle.dump(final_model,file_)"
      ]
    },
    {
      "cell_type": "code",
      "execution_count": 139,
      "metadata": {
        "id": "OWC4ZRMD01TJ"
      },
      "outputs": [],
      "source": [
        "file_.close()"
      ]
    },
    {
      "cell_type": "code",
      "execution_count": null,
      "metadata": {
        "colab": {
          "background_save": true
        },
        "id": "kiDsED5vVBxN"
      },
      "outputs": [],
      "source": [
        "pip freeze > requirements.txt"
      ]
    },
    {
      "cell_type": "code",
      "execution_count": null,
      "metadata": {
        "colab": {
          "background_save": true
        },
        "id": "DYC_amC1OzK8"
      },
      "outputs": [],
      "source": [
        "pip install pipreqs"
      ]
    },
    {
      "cell_type": "code",
      "execution_count": null,
      "metadata": {
        "colab": {
          "background_save": true
        },
        "id": "AoCn3MX2SGwd"
      },
      "outputs": [],
      "source": [
        ""
      ]
    },
    {
      "cell_type": "code",
      "execution_count": null,
      "metadata": {
        "colab": {
          "background_save": true
        },
        "id": "EP1II0gcSGt6"
      },
      "outputs": [],
      "source": [
        ""
      ]
    },
    {
      "cell_type": "code",
      "execution_count": null,
      "metadata": {
        "colab": {
          "background_save": true
        },
        "id": "Q4mWigePQA7B"
      },
      "outputs": [],
      "source": [
        ""
      ]
    },
    {
      "cell_type": "code",
      "execution_count": null,
      "metadata": {
        "colab": {
          "background_save": true
        },
        "id": "uVlw_lPWQA9Y"
      },
      "outputs": [],
      "source": [
        ""
      ]
    }
  ],
  "metadata": {
    "colab": {
      "collapsed_sections": [],
      "name": "Churn Model",
      "provenance": [],
      "authorship_tag": "ABX9TyPEWCFpjjD9NH3plpddLTmq",
      "include_colab_link": true
    },
    "kernelspec": {
      "display_name": "Python 3",
      "name": "python3"
    },
    "language_info": {
      "name": "python"
    }
  },
  "nbformat": 4,
  "nbformat_minor": 0
}