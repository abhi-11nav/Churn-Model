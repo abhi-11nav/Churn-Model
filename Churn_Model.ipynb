{
  "nbformat": 4,
  "nbformat_minor": 0,
  "metadata": {
    "colab": {
      "name": "Churn Model",
      "provenance": [],
      "collapsed_sections": [],
      "authorship_tag": "ABX9TyNf9T7iPmth4q7VBykipRFC",
      "include_colab_link": true
    },
    "kernelspec": {
      "name": "python3",
      "display_name": "Python 3"
    },
    "language_info": {
      "name": "python"
    }
  },
  "cells": [
    {
      "cell_type": "markdown",
      "metadata": {
        "id": "view-in-github",
        "colab_type": "text"
      },
      "source": [
        "<a href=\"https://colab.research.google.com/github/abhi-11nav/Churn-Model/blob/main/Churn_Model.ipynb\" target=\"_parent\"><img src=\"https://colab.research.google.com/assets/colab-badge.svg\" alt=\"Open In Colab\"/></a>"
      ]
    },
    {
      "cell_type": "code",
      "execution_count": 4,
      "metadata": {
        "id": "xLD1SrEb_TYO"
      },
      "outputs": [],
      "source": [
        "# Importing libraries for data visualization and manipulation\n",
        "\n",
        "import pandas as pd\n",
        "import numpy as np "
      ]
    },
    {
      "cell_type": "markdown",
      "source": [
        "#### Source of the data \n",
        "https://www.kaggle.com/datasets/shubh0799/churn-modelling"
      ],
      "metadata": {
        "id": "XxSG-bfyX_Uv"
      }
    },
    {
      "cell_type": "code",
      "source": [
        "# Mentioning the path of the dataset \n",
        "\n",
        "raw_dataset_link = \"https://raw.githubusercontent.com/abhi-11nav/Churn-Model/main/Churn_Modelling.csv.xls\""
      ],
      "metadata": {
        "id": "Csm1MZc1_h0H"
      },
      "execution_count": 5,
      "outputs": []
    },
    {
      "cell_type": "code",
      "source": [
        "# Importing the dataset and assigning it to a variable. \n",
        "\n",
        "dataset = pd.read_csv(raw_dataset_link)"
      ],
      "metadata": {
        "id": "p8rxTBM-UpmG"
      },
      "execution_count": 6,
      "outputs": []
    },
    {
      "cell_type": "code",
      "source": [
        "# printing the head of the dataset \n",
        "\n",
        "dataset.head()"
      ],
      "metadata": {
        "colab": {
          "base_uri": "https://localhost:8080/",
          "height": 268
        },
        "id": "XCfXdVrVUtl7",
        "outputId": "6cc161df-3d90-4245-cc7b-58107d4fdd03"
      },
      "execution_count": 7,
      "outputs": [
        {
          "output_type": "execute_result",
          "data": {
            "text/plain": [
              "   RowNumber  CustomerId   Surname  CreditScore Geography  Gender  Age  \\\n",
              "0          1    15634602  Hargrave          619    France  Female   42   \n",
              "1          2    15647311      Hill          608     Spain  Female   41   \n",
              "2          3    15619304      Onio          502    France  Female   42   \n",
              "3          4    15701354      Boni          699    France  Female   39   \n",
              "4          5    15737888  Mitchell          850     Spain  Female   43   \n",
              "\n",
              "   Tenure    Balance  NumOfProducts  HasCrCard  IsActiveMember  \\\n",
              "0       2       0.00              1          1               1   \n",
              "1       1   83807.86              1          0               1   \n",
              "2       8  159660.80              3          1               0   \n",
              "3       1       0.00              2          0               0   \n",
              "4       2  125510.82              1          1               1   \n",
              "\n",
              "   EstimatedSalary  Exited  \n",
              "0        101348.88       1  \n",
              "1        112542.58       0  \n",
              "2        113931.57       1  \n",
              "3         93826.63       0  \n",
              "4         79084.10       0  "
            ],
            "text/html": [
              "\n",
              "  <div id=\"df-763df495-b8e7-4dca-af37-df5fb64b17f3\">\n",
              "    <div class=\"colab-df-container\">\n",
              "      <div>\n",
              "<style scoped>\n",
              "    .dataframe tbody tr th:only-of-type {\n",
              "        vertical-align: middle;\n",
              "    }\n",
              "\n",
              "    .dataframe tbody tr th {\n",
              "        vertical-align: top;\n",
              "    }\n",
              "\n",
              "    .dataframe thead th {\n",
              "        text-align: right;\n",
              "    }\n",
              "</style>\n",
              "<table border=\"1\" class=\"dataframe\">\n",
              "  <thead>\n",
              "    <tr style=\"text-align: right;\">\n",
              "      <th></th>\n",
              "      <th>RowNumber</th>\n",
              "      <th>CustomerId</th>\n",
              "      <th>Surname</th>\n",
              "      <th>CreditScore</th>\n",
              "      <th>Geography</th>\n",
              "      <th>Gender</th>\n",
              "      <th>Age</th>\n",
              "      <th>Tenure</th>\n",
              "      <th>Balance</th>\n",
              "      <th>NumOfProducts</th>\n",
              "      <th>HasCrCard</th>\n",
              "      <th>IsActiveMember</th>\n",
              "      <th>EstimatedSalary</th>\n",
              "      <th>Exited</th>\n",
              "    </tr>\n",
              "  </thead>\n",
              "  <tbody>\n",
              "    <tr>\n",
              "      <th>0</th>\n",
              "      <td>1</td>\n",
              "      <td>15634602</td>\n",
              "      <td>Hargrave</td>\n",
              "      <td>619</td>\n",
              "      <td>France</td>\n",
              "      <td>Female</td>\n",
              "      <td>42</td>\n",
              "      <td>2</td>\n",
              "      <td>0.00</td>\n",
              "      <td>1</td>\n",
              "      <td>1</td>\n",
              "      <td>1</td>\n",
              "      <td>101348.88</td>\n",
              "      <td>1</td>\n",
              "    </tr>\n",
              "    <tr>\n",
              "      <th>1</th>\n",
              "      <td>2</td>\n",
              "      <td>15647311</td>\n",
              "      <td>Hill</td>\n",
              "      <td>608</td>\n",
              "      <td>Spain</td>\n",
              "      <td>Female</td>\n",
              "      <td>41</td>\n",
              "      <td>1</td>\n",
              "      <td>83807.86</td>\n",
              "      <td>1</td>\n",
              "      <td>0</td>\n",
              "      <td>1</td>\n",
              "      <td>112542.58</td>\n",
              "      <td>0</td>\n",
              "    </tr>\n",
              "    <tr>\n",
              "      <th>2</th>\n",
              "      <td>3</td>\n",
              "      <td>15619304</td>\n",
              "      <td>Onio</td>\n",
              "      <td>502</td>\n",
              "      <td>France</td>\n",
              "      <td>Female</td>\n",
              "      <td>42</td>\n",
              "      <td>8</td>\n",
              "      <td>159660.80</td>\n",
              "      <td>3</td>\n",
              "      <td>1</td>\n",
              "      <td>0</td>\n",
              "      <td>113931.57</td>\n",
              "      <td>1</td>\n",
              "    </tr>\n",
              "    <tr>\n",
              "      <th>3</th>\n",
              "      <td>4</td>\n",
              "      <td>15701354</td>\n",
              "      <td>Boni</td>\n",
              "      <td>699</td>\n",
              "      <td>France</td>\n",
              "      <td>Female</td>\n",
              "      <td>39</td>\n",
              "      <td>1</td>\n",
              "      <td>0.00</td>\n",
              "      <td>2</td>\n",
              "      <td>0</td>\n",
              "      <td>0</td>\n",
              "      <td>93826.63</td>\n",
              "      <td>0</td>\n",
              "    </tr>\n",
              "    <tr>\n",
              "      <th>4</th>\n",
              "      <td>5</td>\n",
              "      <td>15737888</td>\n",
              "      <td>Mitchell</td>\n",
              "      <td>850</td>\n",
              "      <td>Spain</td>\n",
              "      <td>Female</td>\n",
              "      <td>43</td>\n",
              "      <td>2</td>\n",
              "      <td>125510.82</td>\n",
              "      <td>1</td>\n",
              "      <td>1</td>\n",
              "      <td>1</td>\n",
              "      <td>79084.10</td>\n",
              "      <td>0</td>\n",
              "    </tr>\n",
              "  </tbody>\n",
              "</table>\n",
              "</div>\n",
              "      <button class=\"colab-df-convert\" onclick=\"convertToInteractive('df-763df495-b8e7-4dca-af37-df5fb64b17f3')\"\n",
              "              title=\"Convert this dataframe to an interactive table.\"\n",
              "              style=\"display:none;\">\n",
              "        \n",
              "  <svg xmlns=\"http://www.w3.org/2000/svg\" height=\"24px\"viewBox=\"0 0 24 24\"\n",
              "       width=\"24px\">\n",
              "    <path d=\"M0 0h24v24H0V0z\" fill=\"none\"/>\n",
              "    <path d=\"M18.56 5.44l.94 2.06.94-2.06 2.06-.94-2.06-.94-.94-2.06-.94 2.06-2.06.94zm-11 1L8.5 8.5l.94-2.06 2.06-.94-2.06-.94L8.5 2.5l-.94 2.06-2.06.94zm10 10l.94 2.06.94-2.06 2.06-.94-2.06-.94-.94-2.06-.94 2.06-2.06.94z\"/><path d=\"M17.41 7.96l-1.37-1.37c-.4-.4-.92-.59-1.43-.59-.52 0-1.04.2-1.43.59L10.3 9.45l-7.72 7.72c-.78.78-.78 2.05 0 2.83L4 21.41c.39.39.9.59 1.41.59.51 0 1.02-.2 1.41-.59l7.78-7.78 2.81-2.81c.8-.78.8-2.07 0-2.86zM5.41 20L4 18.59l7.72-7.72 1.47 1.35L5.41 20z\"/>\n",
              "  </svg>\n",
              "      </button>\n",
              "      \n",
              "  <style>\n",
              "    .colab-df-container {\n",
              "      display:flex;\n",
              "      flex-wrap:wrap;\n",
              "      gap: 12px;\n",
              "    }\n",
              "\n",
              "    .colab-df-convert {\n",
              "      background-color: #E8F0FE;\n",
              "      border: none;\n",
              "      border-radius: 50%;\n",
              "      cursor: pointer;\n",
              "      display: none;\n",
              "      fill: #1967D2;\n",
              "      height: 32px;\n",
              "      padding: 0 0 0 0;\n",
              "      width: 32px;\n",
              "    }\n",
              "\n",
              "    .colab-df-convert:hover {\n",
              "      background-color: #E2EBFA;\n",
              "      box-shadow: 0px 1px 2px rgba(60, 64, 67, 0.3), 0px 1px 3px 1px rgba(60, 64, 67, 0.15);\n",
              "      fill: #174EA6;\n",
              "    }\n",
              "\n",
              "    [theme=dark] .colab-df-convert {\n",
              "      background-color: #3B4455;\n",
              "      fill: #D2E3FC;\n",
              "    }\n",
              "\n",
              "    [theme=dark] .colab-df-convert:hover {\n",
              "      background-color: #434B5C;\n",
              "      box-shadow: 0px 1px 3px 1px rgba(0, 0, 0, 0.15);\n",
              "      filter: drop-shadow(0px 1px 2px rgba(0, 0, 0, 0.3));\n",
              "      fill: #FFFFFF;\n",
              "    }\n",
              "  </style>\n",
              "\n",
              "      <script>\n",
              "        const buttonEl =\n",
              "          document.querySelector('#df-763df495-b8e7-4dca-af37-df5fb64b17f3 button.colab-df-convert');\n",
              "        buttonEl.style.display =\n",
              "          google.colab.kernel.accessAllowed ? 'block' : 'none';\n",
              "\n",
              "        async function convertToInteractive(key) {\n",
              "          const element = document.querySelector('#df-763df495-b8e7-4dca-af37-df5fb64b17f3');\n",
              "          const dataTable =\n",
              "            await google.colab.kernel.invokeFunction('convertToInteractive',\n",
              "                                                     [key], {});\n",
              "          if (!dataTable) return;\n",
              "\n",
              "          const docLinkHtml = 'Like what you see? Visit the ' +\n",
              "            '<a target=\"_blank\" href=https://colab.research.google.com/notebooks/data_table.ipynb>data table notebook</a>'\n",
              "            + ' to learn more about interactive tables.';\n",
              "          element.innerHTML = '';\n",
              "          dataTable['output_type'] = 'display_data';\n",
              "          await google.colab.output.renderOutput(dataTable, element);\n",
              "          const docLink = document.createElement('div');\n",
              "          docLink.innerHTML = docLinkHtml;\n",
              "          element.appendChild(docLink);\n",
              "        }\n",
              "      </script>\n",
              "    </div>\n",
              "  </div>\n",
              "  "
            ]
          },
          "metadata": {},
          "execution_count": 7
        }
      ]
    },
    {
      "cell_type": "code",
      "source": [
        "# Checking for features in data consisting of all unique values and deleting them \n",
        "\n",
        "\n",
        "col_list = []\n",
        "\n",
        "\n",
        "for cols in dataset.columns:\n",
        "  if len(dataset[cols].unique()) == dataset.shape[0]:\n",
        "    col_list.append(cols)\n",
        "\n",
        "if len(col_list)>0:\n",
        "  print(col_list,\"consists of all unique values. Hence, eliminate them\\n\")\n",
        "  dataset.drop(col_list,axis=1,inplace=True)\n",
        "  print(\"Features with unique values deleted :-)\")"
      ],
      "metadata": {
        "colab": {
          "base_uri": "https://localhost:8080/"
        },
        "id": "u2dxqdFfVHIm",
        "outputId": "0d6f32dd-a086-45e9-f068-6d9e604d68ea"
      },
      "execution_count": 8,
      "outputs": [
        {
          "output_type": "stream",
          "name": "stdout",
          "text": [
            "['RowNumber', 'CustomerId'] consists of all unique values. Hence, eliminate them\n",
            "\n",
            "Features with unique values deleted :-)\n"
          ]
        }
      ]
    },
    {
      "cell_type": "code",
      "source": [
        "# Printing the head of the dataset \n",
        "\n",
        "dataset.head()"
      ],
      "metadata": {
        "colab": {
          "base_uri": "https://localhost:8080/",
          "height": 268
        },
        "id": "B__CUqQ3VTni",
        "outputId": "b54aea39-4dd0-4295-e157-e7f560e23655"
      },
      "execution_count": 9,
      "outputs": [
        {
          "output_type": "execute_result",
          "data": {
            "text/plain": [
              "    Surname  CreditScore Geography  Gender  Age  Tenure    Balance  \\\n",
              "0  Hargrave          619    France  Female   42       2       0.00   \n",
              "1      Hill          608     Spain  Female   41       1   83807.86   \n",
              "2      Onio          502    France  Female   42       8  159660.80   \n",
              "3      Boni          699    France  Female   39       1       0.00   \n",
              "4  Mitchell          850     Spain  Female   43       2  125510.82   \n",
              "\n",
              "   NumOfProducts  HasCrCard  IsActiveMember  EstimatedSalary  Exited  \n",
              "0              1          1               1        101348.88       1  \n",
              "1              1          0               1        112542.58       0  \n",
              "2              3          1               0        113931.57       1  \n",
              "3              2          0               0         93826.63       0  \n",
              "4              1          1               1         79084.10       0  "
            ],
            "text/html": [
              "\n",
              "  <div id=\"df-cbd0bb36-4d73-4642-a7bc-b76c54c16414\">\n",
              "    <div class=\"colab-df-container\">\n",
              "      <div>\n",
              "<style scoped>\n",
              "    .dataframe tbody tr th:only-of-type {\n",
              "        vertical-align: middle;\n",
              "    }\n",
              "\n",
              "    .dataframe tbody tr th {\n",
              "        vertical-align: top;\n",
              "    }\n",
              "\n",
              "    .dataframe thead th {\n",
              "        text-align: right;\n",
              "    }\n",
              "</style>\n",
              "<table border=\"1\" class=\"dataframe\">\n",
              "  <thead>\n",
              "    <tr style=\"text-align: right;\">\n",
              "      <th></th>\n",
              "      <th>Surname</th>\n",
              "      <th>CreditScore</th>\n",
              "      <th>Geography</th>\n",
              "      <th>Gender</th>\n",
              "      <th>Age</th>\n",
              "      <th>Tenure</th>\n",
              "      <th>Balance</th>\n",
              "      <th>NumOfProducts</th>\n",
              "      <th>HasCrCard</th>\n",
              "      <th>IsActiveMember</th>\n",
              "      <th>EstimatedSalary</th>\n",
              "      <th>Exited</th>\n",
              "    </tr>\n",
              "  </thead>\n",
              "  <tbody>\n",
              "    <tr>\n",
              "      <th>0</th>\n",
              "      <td>Hargrave</td>\n",
              "      <td>619</td>\n",
              "      <td>France</td>\n",
              "      <td>Female</td>\n",
              "      <td>42</td>\n",
              "      <td>2</td>\n",
              "      <td>0.00</td>\n",
              "      <td>1</td>\n",
              "      <td>1</td>\n",
              "      <td>1</td>\n",
              "      <td>101348.88</td>\n",
              "      <td>1</td>\n",
              "    </tr>\n",
              "    <tr>\n",
              "      <th>1</th>\n",
              "      <td>Hill</td>\n",
              "      <td>608</td>\n",
              "      <td>Spain</td>\n",
              "      <td>Female</td>\n",
              "      <td>41</td>\n",
              "      <td>1</td>\n",
              "      <td>83807.86</td>\n",
              "      <td>1</td>\n",
              "      <td>0</td>\n",
              "      <td>1</td>\n",
              "      <td>112542.58</td>\n",
              "      <td>0</td>\n",
              "    </tr>\n",
              "    <tr>\n",
              "      <th>2</th>\n",
              "      <td>Onio</td>\n",
              "      <td>502</td>\n",
              "      <td>France</td>\n",
              "      <td>Female</td>\n",
              "      <td>42</td>\n",
              "      <td>8</td>\n",
              "      <td>159660.80</td>\n",
              "      <td>3</td>\n",
              "      <td>1</td>\n",
              "      <td>0</td>\n",
              "      <td>113931.57</td>\n",
              "      <td>1</td>\n",
              "    </tr>\n",
              "    <tr>\n",
              "      <th>3</th>\n",
              "      <td>Boni</td>\n",
              "      <td>699</td>\n",
              "      <td>France</td>\n",
              "      <td>Female</td>\n",
              "      <td>39</td>\n",
              "      <td>1</td>\n",
              "      <td>0.00</td>\n",
              "      <td>2</td>\n",
              "      <td>0</td>\n",
              "      <td>0</td>\n",
              "      <td>93826.63</td>\n",
              "      <td>0</td>\n",
              "    </tr>\n",
              "    <tr>\n",
              "      <th>4</th>\n",
              "      <td>Mitchell</td>\n",
              "      <td>850</td>\n",
              "      <td>Spain</td>\n",
              "      <td>Female</td>\n",
              "      <td>43</td>\n",
              "      <td>2</td>\n",
              "      <td>125510.82</td>\n",
              "      <td>1</td>\n",
              "      <td>1</td>\n",
              "      <td>1</td>\n",
              "      <td>79084.10</td>\n",
              "      <td>0</td>\n",
              "    </tr>\n",
              "  </tbody>\n",
              "</table>\n",
              "</div>\n",
              "      <button class=\"colab-df-convert\" onclick=\"convertToInteractive('df-cbd0bb36-4d73-4642-a7bc-b76c54c16414')\"\n",
              "              title=\"Convert this dataframe to an interactive table.\"\n",
              "              style=\"display:none;\">\n",
              "        \n",
              "  <svg xmlns=\"http://www.w3.org/2000/svg\" height=\"24px\"viewBox=\"0 0 24 24\"\n",
              "       width=\"24px\">\n",
              "    <path d=\"M0 0h24v24H0V0z\" fill=\"none\"/>\n",
              "    <path d=\"M18.56 5.44l.94 2.06.94-2.06 2.06-.94-2.06-.94-.94-2.06-.94 2.06-2.06.94zm-11 1L8.5 8.5l.94-2.06 2.06-.94-2.06-.94L8.5 2.5l-.94 2.06-2.06.94zm10 10l.94 2.06.94-2.06 2.06-.94-2.06-.94-.94-2.06-.94 2.06-2.06.94z\"/><path d=\"M17.41 7.96l-1.37-1.37c-.4-.4-.92-.59-1.43-.59-.52 0-1.04.2-1.43.59L10.3 9.45l-7.72 7.72c-.78.78-.78 2.05 0 2.83L4 21.41c.39.39.9.59 1.41.59.51 0 1.02-.2 1.41-.59l7.78-7.78 2.81-2.81c.8-.78.8-2.07 0-2.86zM5.41 20L4 18.59l7.72-7.72 1.47 1.35L5.41 20z\"/>\n",
              "  </svg>\n",
              "      </button>\n",
              "      \n",
              "  <style>\n",
              "    .colab-df-container {\n",
              "      display:flex;\n",
              "      flex-wrap:wrap;\n",
              "      gap: 12px;\n",
              "    }\n",
              "\n",
              "    .colab-df-convert {\n",
              "      background-color: #E8F0FE;\n",
              "      border: none;\n",
              "      border-radius: 50%;\n",
              "      cursor: pointer;\n",
              "      display: none;\n",
              "      fill: #1967D2;\n",
              "      height: 32px;\n",
              "      padding: 0 0 0 0;\n",
              "      width: 32px;\n",
              "    }\n",
              "\n",
              "    .colab-df-convert:hover {\n",
              "      background-color: #E2EBFA;\n",
              "      box-shadow: 0px 1px 2px rgba(60, 64, 67, 0.3), 0px 1px 3px 1px rgba(60, 64, 67, 0.15);\n",
              "      fill: #174EA6;\n",
              "    }\n",
              "\n",
              "    [theme=dark] .colab-df-convert {\n",
              "      background-color: #3B4455;\n",
              "      fill: #D2E3FC;\n",
              "    }\n",
              "\n",
              "    [theme=dark] .colab-df-convert:hover {\n",
              "      background-color: #434B5C;\n",
              "      box-shadow: 0px 1px 3px 1px rgba(0, 0, 0, 0.15);\n",
              "      filter: drop-shadow(0px 1px 2px rgba(0, 0, 0, 0.3));\n",
              "      fill: #FFFFFF;\n",
              "    }\n",
              "  </style>\n",
              "\n",
              "      <script>\n",
              "        const buttonEl =\n",
              "          document.querySelector('#df-cbd0bb36-4d73-4642-a7bc-b76c54c16414 button.colab-df-convert');\n",
              "        buttonEl.style.display =\n",
              "          google.colab.kernel.accessAllowed ? 'block' : 'none';\n",
              "\n",
              "        async function convertToInteractive(key) {\n",
              "          const element = document.querySelector('#df-cbd0bb36-4d73-4642-a7bc-b76c54c16414');\n",
              "          const dataTable =\n",
              "            await google.colab.kernel.invokeFunction('convertToInteractive',\n",
              "                                                     [key], {});\n",
              "          if (!dataTable) return;\n",
              "\n",
              "          const docLinkHtml = 'Like what you see? Visit the ' +\n",
              "            '<a target=\"_blank\" href=https://colab.research.google.com/notebooks/data_table.ipynb>data table notebook</a>'\n",
              "            + ' to learn more about interactive tables.';\n",
              "          element.innerHTML = '';\n",
              "          dataTable['output_type'] = 'display_data';\n",
              "          await google.colab.output.renderOutput(dataTable, element);\n",
              "          const docLink = document.createElement('div');\n",
              "          docLink.innerHTML = docLinkHtml;\n",
              "          element.appendChild(docLink);\n",
              "        }\n",
              "      </script>\n",
              "    </div>\n",
              "  </div>\n",
              "  "
            ]
          },
          "metadata": {},
          "execution_count": 9
        }
      ]
    },
    {
      "cell_type": "code",
      "source": [
        "# I dont think that the feature \"Surname\" adds any value to the output. So we might as well get rid of that too\n",
        "\n",
        "dataset.drop(\"Surname\",axis=1,inplace=True)"
      ],
      "metadata": {
        "id": "_CcYbM2JW6hI"
      },
      "execution_count": 10,
      "outputs": []
    },
    {
      "cell_type": "code",
      "source": [
        "dataset.head()"
      ],
      "metadata": {
        "colab": {
          "base_uri": "https://localhost:8080/",
          "height": 268
        },
        "id": "hF1S-U7QXA8m",
        "outputId": "a720d5d5-4995-4915-8944-49c86a652c5e"
      },
      "execution_count": 11,
      "outputs": [
        {
          "output_type": "execute_result",
          "data": {
            "text/plain": [
              "   CreditScore Geography  Gender  Age  Tenure    Balance  NumOfProducts  \\\n",
              "0          619    France  Female   42       2       0.00              1   \n",
              "1          608     Spain  Female   41       1   83807.86              1   \n",
              "2          502    France  Female   42       8  159660.80              3   \n",
              "3          699    France  Female   39       1       0.00              2   \n",
              "4          850     Spain  Female   43       2  125510.82              1   \n",
              "\n",
              "   HasCrCard  IsActiveMember  EstimatedSalary  Exited  \n",
              "0          1               1        101348.88       1  \n",
              "1          0               1        112542.58       0  \n",
              "2          1               0        113931.57       1  \n",
              "3          0               0         93826.63       0  \n",
              "4          1               1         79084.10       0  "
            ],
            "text/html": [
              "\n",
              "  <div id=\"df-cf85301b-5ed3-400b-aadc-f62e65231c48\">\n",
              "    <div class=\"colab-df-container\">\n",
              "      <div>\n",
              "<style scoped>\n",
              "    .dataframe tbody tr th:only-of-type {\n",
              "        vertical-align: middle;\n",
              "    }\n",
              "\n",
              "    .dataframe tbody tr th {\n",
              "        vertical-align: top;\n",
              "    }\n",
              "\n",
              "    .dataframe thead th {\n",
              "        text-align: right;\n",
              "    }\n",
              "</style>\n",
              "<table border=\"1\" class=\"dataframe\">\n",
              "  <thead>\n",
              "    <tr style=\"text-align: right;\">\n",
              "      <th></th>\n",
              "      <th>CreditScore</th>\n",
              "      <th>Geography</th>\n",
              "      <th>Gender</th>\n",
              "      <th>Age</th>\n",
              "      <th>Tenure</th>\n",
              "      <th>Balance</th>\n",
              "      <th>NumOfProducts</th>\n",
              "      <th>HasCrCard</th>\n",
              "      <th>IsActiveMember</th>\n",
              "      <th>EstimatedSalary</th>\n",
              "      <th>Exited</th>\n",
              "    </tr>\n",
              "  </thead>\n",
              "  <tbody>\n",
              "    <tr>\n",
              "      <th>0</th>\n",
              "      <td>619</td>\n",
              "      <td>France</td>\n",
              "      <td>Female</td>\n",
              "      <td>42</td>\n",
              "      <td>2</td>\n",
              "      <td>0.00</td>\n",
              "      <td>1</td>\n",
              "      <td>1</td>\n",
              "      <td>1</td>\n",
              "      <td>101348.88</td>\n",
              "      <td>1</td>\n",
              "    </tr>\n",
              "    <tr>\n",
              "      <th>1</th>\n",
              "      <td>608</td>\n",
              "      <td>Spain</td>\n",
              "      <td>Female</td>\n",
              "      <td>41</td>\n",
              "      <td>1</td>\n",
              "      <td>83807.86</td>\n",
              "      <td>1</td>\n",
              "      <td>0</td>\n",
              "      <td>1</td>\n",
              "      <td>112542.58</td>\n",
              "      <td>0</td>\n",
              "    </tr>\n",
              "    <tr>\n",
              "      <th>2</th>\n",
              "      <td>502</td>\n",
              "      <td>France</td>\n",
              "      <td>Female</td>\n",
              "      <td>42</td>\n",
              "      <td>8</td>\n",
              "      <td>159660.80</td>\n",
              "      <td>3</td>\n",
              "      <td>1</td>\n",
              "      <td>0</td>\n",
              "      <td>113931.57</td>\n",
              "      <td>1</td>\n",
              "    </tr>\n",
              "    <tr>\n",
              "      <th>3</th>\n",
              "      <td>699</td>\n",
              "      <td>France</td>\n",
              "      <td>Female</td>\n",
              "      <td>39</td>\n",
              "      <td>1</td>\n",
              "      <td>0.00</td>\n",
              "      <td>2</td>\n",
              "      <td>0</td>\n",
              "      <td>0</td>\n",
              "      <td>93826.63</td>\n",
              "      <td>0</td>\n",
              "    </tr>\n",
              "    <tr>\n",
              "      <th>4</th>\n",
              "      <td>850</td>\n",
              "      <td>Spain</td>\n",
              "      <td>Female</td>\n",
              "      <td>43</td>\n",
              "      <td>2</td>\n",
              "      <td>125510.82</td>\n",
              "      <td>1</td>\n",
              "      <td>1</td>\n",
              "      <td>1</td>\n",
              "      <td>79084.10</td>\n",
              "      <td>0</td>\n",
              "    </tr>\n",
              "  </tbody>\n",
              "</table>\n",
              "</div>\n",
              "      <button class=\"colab-df-convert\" onclick=\"convertToInteractive('df-cf85301b-5ed3-400b-aadc-f62e65231c48')\"\n",
              "              title=\"Convert this dataframe to an interactive table.\"\n",
              "              style=\"display:none;\">\n",
              "        \n",
              "  <svg xmlns=\"http://www.w3.org/2000/svg\" height=\"24px\"viewBox=\"0 0 24 24\"\n",
              "       width=\"24px\">\n",
              "    <path d=\"M0 0h24v24H0V0z\" fill=\"none\"/>\n",
              "    <path d=\"M18.56 5.44l.94 2.06.94-2.06 2.06-.94-2.06-.94-.94-2.06-.94 2.06-2.06.94zm-11 1L8.5 8.5l.94-2.06 2.06-.94-2.06-.94L8.5 2.5l-.94 2.06-2.06.94zm10 10l.94 2.06.94-2.06 2.06-.94-2.06-.94-.94-2.06-.94 2.06-2.06.94z\"/><path d=\"M17.41 7.96l-1.37-1.37c-.4-.4-.92-.59-1.43-.59-.52 0-1.04.2-1.43.59L10.3 9.45l-7.72 7.72c-.78.78-.78 2.05 0 2.83L4 21.41c.39.39.9.59 1.41.59.51 0 1.02-.2 1.41-.59l7.78-7.78 2.81-2.81c.8-.78.8-2.07 0-2.86zM5.41 20L4 18.59l7.72-7.72 1.47 1.35L5.41 20z\"/>\n",
              "  </svg>\n",
              "      </button>\n",
              "      \n",
              "  <style>\n",
              "    .colab-df-container {\n",
              "      display:flex;\n",
              "      flex-wrap:wrap;\n",
              "      gap: 12px;\n",
              "    }\n",
              "\n",
              "    .colab-df-convert {\n",
              "      background-color: #E8F0FE;\n",
              "      border: none;\n",
              "      border-radius: 50%;\n",
              "      cursor: pointer;\n",
              "      display: none;\n",
              "      fill: #1967D2;\n",
              "      height: 32px;\n",
              "      padding: 0 0 0 0;\n",
              "      width: 32px;\n",
              "    }\n",
              "\n",
              "    .colab-df-convert:hover {\n",
              "      background-color: #E2EBFA;\n",
              "      box-shadow: 0px 1px 2px rgba(60, 64, 67, 0.3), 0px 1px 3px 1px rgba(60, 64, 67, 0.15);\n",
              "      fill: #174EA6;\n",
              "    }\n",
              "\n",
              "    [theme=dark] .colab-df-convert {\n",
              "      background-color: #3B4455;\n",
              "      fill: #D2E3FC;\n",
              "    }\n",
              "\n",
              "    [theme=dark] .colab-df-convert:hover {\n",
              "      background-color: #434B5C;\n",
              "      box-shadow: 0px 1px 3px 1px rgba(0, 0, 0, 0.15);\n",
              "      filter: drop-shadow(0px 1px 2px rgba(0, 0, 0, 0.3));\n",
              "      fill: #FFFFFF;\n",
              "    }\n",
              "  </style>\n",
              "\n",
              "      <script>\n",
              "        const buttonEl =\n",
              "          document.querySelector('#df-cf85301b-5ed3-400b-aadc-f62e65231c48 button.colab-df-convert');\n",
              "        buttonEl.style.display =\n",
              "          google.colab.kernel.accessAllowed ? 'block' : 'none';\n",
              "\n",
              "        async function convertToInteractive(key) {\n",
              "          const element = document.querySelector('#df-cf85301b-5ed3-400b-aadc-f62e65231c48');\n",
              "          const dataTable =\n",
              "            await google.colab.kernel.invokeFunction('convertToInteractive',\n",
              "                                                     [key], {});\n",
              "          if (!dataTable) return;\n",
              "\n",
              "          const docLinkHtml = 'Like what you see? Visit the ' +\n",
              "            '<a target=\"_blank\" href=https://colab.research.google.com/notebooks/data_table.ipynb>data table notebook</a>'\n",
              "            + ' to learn more about interactive tables.';\n",
              "          element.innerHTML = '';\n",
              "          dataTable['output_type'] = 'display_data';\n",
              "          await google.colab.output.renderOutput(dataTable, element);\n",
              "          const docLink = document.createElement('div');\n",
              "          docLink.innerHTML = docLinkHtml;\n",
              "          element.appendChild(docLink);\n",
              "        }\n",
              "      </script>\n",
              "    </div>\n",
              "  </div>\n",
              "  "
            ]
          },
          "metadata": {},
          "execution_count": 11
        }
      ]
    },
    {
      "cell_type": "code",
      "source": [
        "# Now let us look at the shape of dataset\n",
        "\n",
        "dataset.shape"
      ],
      "metadata": {
        "colab": {
          "base_uri": "https://localhost:8080/"
        },
        "id": "d2hBCcxYXZxm",
        "outputId": "aae860a6-cd31-4f86-852e-bfb5c94aac55"
      },
      "execution_count": 12,
      "outputs": [
        {
          "output_type": "execute_result",
          "data": {
            "text/plain": [
              "(10000, 11)"
            ]
          },
          "metadata": {},
          "execution_count": 12
        }
      ]
    },
    {
      "cell_type": "markdown",
      "source": [
        "We have got 10000 examples with 11 features to work with and build a model"
      ],
      "metadata": {
        "id": "v90k9jdVXzFW"
      }
    },
    {
      "cell_type": "code",
      "source": [
        "# Differnetiating the categorical and numerical features in the dataset and storing them in a list \n",
        "\n",
        "category_feat = []\n",
        "numerical_feat = []\n",
        "\n",
        "for cols in dataset.columns:\n",
        "  if type(dataset[cols][0]) == str:\n",
        "    category_feat.append(cols)\n",
        "  else:\n",
        "    numerical_feat.append(cols)\n",
        "\n",
        "\n",
        "print(\"There are \",len(category_feat),\" categorical features and \",len(numerical_feat),\" numerical features in the dataset.\")"
      ],
      "metadata": {
        "colab": {
          "base_uri": "https://localhost:8080/"
        },
        "id": "Nk5YzLuIXjrM",
        "outputId": "db39336f-bc22-49c4-9959-04f3c868b5c9"
      },
      "execution_count": 13,
      "outputs": [
        {
          "output_type": "stream",
          "name": "stdout",
          "text": [
            "There are  2  categorical features and  9  numerical features in the dataset.\n"
          ]
        }
      ]
    },
    {
      "cell_type": "code",
      "source": [
        "# Now let us print out some descriptive features about the dataset and also info about the types of data in the dataset\n",
        "\n",
        "dataset.info()"
      ],
      "metadata": {
        "colab": {
          "base_uri": "https://localhost:8080/"
        },
        "id": "Yoj8VPFqZYti",
        "outputId": "7b5d907f-e94b-4226-f7ff-10d1d02a32df"
      },
      "execution_count": 14,
      "outputs": [
        {
          "output_type": "stream",
          "name": "stdout",
          "text": [
            "<class 'pandas.core.frame.DataFrame'>\n",
            "RangeIndex: 10000 entries, 0 to 9999\n",
            "Data columns (total 11 columns):\n",
            " #   Column           Non-Null Count  Dtype  \n",
            "---  ------           --------------  -----  \n",
            " 0   CreditScore      10000 non-null  int64  \n",
            " 1   Geography        10000 non-null  object \n",
            " 2   Gender           10000 non-null  object \n",
            " 3   Age              10000 non-null  int64  \n",
            " 4   Tenure           10000 non-null  int64  \n",
            " 5   Balance          10000 non-null  float64\n",
            " 6   NumOfProducts    10000 non-null  int64  \n",
            " 7   HasCrCard        10000 non-null  int64  \n",
            " 8   IsActiveMember   10000 non-null  int64  \n",
            " 9   EstimatedSalary  10000 non-null  float64\n",
            " 10  Exited           10000 non-null  int64  \n",
            "dtypes: float64(2), int64(7), object(2)\n",
            "memory usage: 859.5+ KB\n"
          ]
        }
      ]
    },
    {
      "cell_type": "markdown",
      "source": [
        "We have 3 float, 6 integer adn 2 string type data"
      ],
      "metadata": {
        "id": "tbg_R4vxaD2a"
      }
    },
    {
      "cell_type": "code",
      "source": [
        "dataset.describe()"
      ],
      "metadata": {
        "colab": {
          "base_uri": "https://localhost:8080/",
          "height": 361
        },
        "id": "bzYS-yacZ-UK",
        "outputId": "8b178df5-ead6-4139-ee2b-0db0be63747d"
      },
      "execution_count": 15,
      "outputs": [
        {
          "output_type": "execute_result",
          "data": {
            "text/plain": [
              "        CreditScore           Age        Tenure        Balance  NumOfProducts  \\\n",
              "count  10000.000000  10000.000000  10000.000000   10000.000000   10000.000000   \n",
              "mean     650.528800     38.921800      5.012800   76485.889288       1.530200   \n",
              "std       96.653299     10.487806      2.892174   62397.405202       0.581654   \n",
              "min      350.000000     18.000000      0.000000       0.000000       1.000000   \n",
              "25%      584.000000     32.000000      3.000000       0.000000       1.000000   \n",
              "50%      652.000000     37.000000      5.000000   97198.540000       1.000000   \n",
              "75%      718.000000     44.000000      7.000000  127644.240000       2.000000   \n",
              "max      850.000000     92.000000     10.000000  250898.090000       4.000000   \n",
              "\n",
              "         HasCrCard  IsActiveMember  EstimatedSalary        Exited  \n",
              "count  10000.00000    10000.000000     10000.000000  10000.000000  \n",
              "mean       0.70550        0.515100    100090.239881      0.203700  \n",
              "std        0.45584        0.499797     57510.492818      0.402769  \n",
              "min        0.00000        0.000000        11.580000      0.000000  \n",
              "25%        0.00000        0.000000     51002.110000      0.000000  \n",
              "50%        1.00000        1.000000    100193.915000      0.000000  \n",
              "75%        1.00000        1.000000    149388.247500      0.000000  \n",
              "max        1.00000        1.000000    199992.480000      1.000000  "
            ],
            "text/html": [
              "\n",
              "  <div id=\"df-3b8b2205-ab0b-45ff-ad9e-ce60992ccddf\">\n",
              "    <div class=\"colab-df-container\">\n",
              "      <div>\n",
              "<style scoped>\n",
              "    .dataframe tbody tr th:only-of-type {\n",
              "        vertical-align: middle;\n",
              "    }\n",
              "\n",
              "    .dataframe tbody tr th {\n",
              "        vertical-align: top;\n",
              "    }\n",
              "\n",
              "    .dataframe thead th {\n",
              "        text-align: right;\n",
              "    }\n",
              "</style>\n",
              "<table border=\"1\" class=\"dataframe\">\n",
              "  <thead>\n",
              "    <tr style=\"text-align: right;\">\n",
              "      <th></th>\n",
              "      <th>CreditScore</th>\n",
              "      <th>Age</th>\n",
              "      <th>Tenure</th>\n",
              "      <th>Balance</th>\n",
              "      <th>NumOfProducts</th>\n",
              "      <th>HasCrCard</th>\n",
              "      <th>IsActiveMember</th>\n",
              "      <th>EstimatedSalary</th>\n",
              "      <th>Exited</th>\n",
              "    </tr>\n",
              "  </thead>\n",
              "  <tbody>\n",
              "    <tr>\n",
              "      <th>count</th>\n",
              "      <td>10000.000000</td>\n",
              "      <td>10000.000000</td>\n",
              "      <td>10000.000000</td>\n",
              "      <td>10000.000000</td>\n",
              "      <td>10000.000000</td>\n",
              "      <td>10000.00000</td>\n",
              "      <td>10000.000000</td>\n",
              "      <td>10000.000000</td>\n",
              "      <td>10000.000000</td>\n",
              "    </tr>\n",
              "    <tr>\n",
              "      <th>mean</th>\n",
              "      <td>650.528800</td>\n",
              "      <td>38.921800</td>\n",
              "      <td>5.012800</td>\n",
              "      <td>76485.889288</td>\n",
              "      <td>1.530200</td>\n",
              "      <td>0.70550</td>\n",
              "      <td>0.515100</td>\n",
              "      <td>100090.239881</td>\n",
              "      <td>0.203700</td>\n",
              "    </tr>\n",
              "    <tr>\n",
              "      <th>std</th>\n",
              "      <td>96.653299</td>\n",
              "      <td>10.487806</td>\n",
              "      <td>2.892174</td>\n",
              "      <td>62397.405202</td>\n",
              "      <td>0.581654</td>\n",
              "      <td>0.45584</td>\n",
              "      <td>0.499797</td>\n",
              "      <td>57510.492818</td>\n",
              "      <td>0.402769</td>\n",
              "    </tr>\n",
              "    <tr>\n",
              "      <th>min</th>\n",
              "      <td>350.000000</td>\n",
              "      <td>18.000000</td>\n",
              "      <td>0.000000</td>\n",
              "      <td>0.000000</td>\n",
              "      <td>1.000000</td>\n",
              "      <td>0.00000</td>\n",
              "      <td>0.000000</td>\n",
              "      <td>11.580000</td>\n",
              "      <td>0.000000</td>\n",
              "    </tr>\n",
              "    <tr>\n",
              "      <th>25%</th>\n",
              "      <td>584.000000</td>\n",
              "      <td>32.000000</td>\n",
              "      <td>3.000000</td>\n",
              "      <td>0.000000</td>\n",
              "      <td>1.000000</td>\n",
              "      <td>0.00000</td>\n",
              "      <td>0.000000</td>\n",
              "      <td>51002.110000</td>\n",
              "      <td>0.000000</td>\n",
              "    </tr>\n",
              "    <tr>\n",
              "      <th>50%</th>\n",
              "      <td>652.000000</td>\n",
              "      <td>37.000000</td>\n",
              "      <td>5.000000</td>\n",
              "      <td>97198.540000</td>\n",
              "      <td>1.000000</td>\n",
              "      <td>1.00000</td>\n",
              "      <td>1.000000</td>\n",
              "      <td>100193.915000</td>\n",
              "      <td>0.000000</td>\n",
              "    </tr>\n",
              "    <tr>\n",
              "      <th>75%</th>\n",
              "      <td>718.000000</td>\n",
              "      <td>44.000000</td>\n",
              "      <td>7.000000</td>\n",
              "      <td>127644.240000</td>\n",
              "      <td>2.000000</td>\n",
              "      <td>1.00000</td>\n",
              "      <td>1.000000</td>\n",
              "      <td>149388.247500</td>\n",
              "      <td>0.000000</td>\n",
              "    </tr>\n",
              "    <tr>\n",
              "      <th>max</th>\n",
              "      <td>850.000000</td>\n",
              "      <td>92.000000</td>\n",
              "      <td>10.000000</td>\n",
              "      <td>250898.090000</td>\n",
              "      <td>4.000000</td>\n",
              "      <td>1.00000</td>\n",
              "      <td>1.000000</td>\n",
              "      <td>199992.480000</td>\n",
              "      <td>1.000000</td>\n",
              "    </tr>\n",
              "  </tbody>\n",
              "</table>\n",
              "</div>\n",
              "      <button class=\"colab-df-convert\" onclick=\"convertToInteractive('df-3b8b2205-ab0b-45ff-ad9e-ce60992ccddf')\"\n",
              "              title=\"Convert this dataframe to an interactive table.\"\n",
              "              style=\"display:none;\">\n",
              "        \n",
              "  <svg xmlns=\"http://www.w3.org/2000/svg\" height=\"24px\"viewBox=\"0 0 24 24\"\n",
              "       width=\"24px\">\n",
              "    <path d=\"M0 0h24v24H0V0z\" fill=\"none\"/>\n",
              "    <path d=\"M18.56 5.44l.94 2.06.94-2.06 2.06-.94-2.06-.94-.94-2.06-.94 2.06-2.06.94zm-11 1L8.5 8.5l.94-2.06 2.06-.94-2.06-.94L8.5 2.5l-.94 2.06-2.06.94zm10 10l.94 2.06.94-2.06 2.06-.94-2.06-.94-.94-2.06-.94 2.06-2.06.94z\"/><path d=\"M17.41 7.96l-1.37-1.37c-.4-.4-.92-.59-1.43-.59-.52 0-1.04.2-1.43.59L10.3 9.45l-7.72 7.72c-.78.78-.78 2.05 0 2.83L4 21.41c.39.39.9.59 1.41.59.51 0 1.02-.2 1.41-.59l7.78-7.78 2.81-2.81c.8-.78.8-2.07 0-2.86zM5.41 20L4 18.59l7.72-7.72 1.47 1.35L5.41 20z\"/>\n",
              "  </svg>\n",
              "      </button>\n",
              "      \n",
              "  <style>\n",
              "    .colab-df-container {\n",
              "      display:flex;\n",
              "      flex-wrap:wrap;\n",
              "      gap: 12px;\n",
              "    }\n",
              "\n",
              "    .colab-df-convert {\n",
              "      background-color: #E8F0FE;\n",
              "      border: none;\n",
              "      border-radius: 50%;\n",
              "      cursor: pointer;\n",
              "      display: none;\n",
              "      fill: #1967D2;\n",
              "      height: 32px;\n",
              "      padding: 0 0 0 0;\n",
              "      width: 32px;\n",
              "    }\n",
              "\n",
              "    .colab-df-convert:hover {\n",
              "      background-color: #E2EBFA;\n",
              "      box-shadow: 0px 1px 2px rgba(60, 64, 67, 0.3), 0px 1px 3px 1px rgba(60, 64, 67, 0.15);\n",
              "      fill: #174EA6;\n",
              "    }\n",
              "\n",
              "    [theme=dark] .colab-df-convert {\n",
              "      background-color: #3B4455;\n",
              "      fill: #D2E3FC;\n",
              "    }\n",
              "\n",
              "    [theme=dark] .colab-df-convert:hover {\n",
              "      background-color: #434B5C;\n",
              "      box-shadow: 0px 1px 3px 1px rgba(0, 0, 0, 0.15);\n",
              "      filter: drop-shadow(0px 1px 2px rgba(0, 0, 0, 0.3));\n",
              "      fill: #FFFFFF;\n",
              "    }\n",
              "  </style>\n",
              "\n",
              "      <script>\n",
              "        const buttonEl =\n",
              "          document.querySelector('#df-3b8b2205-ab0b-45ff-ad9e-ce60992ccddf button.colab-df-convert');\n",
              "        buttonEl.style.display =\n",
              "          google.colab.kernel.accessAllowed ? 'block' : 'none';\n",
              "\n",
              "        async function convertToInteractive(key) {\n",
              "          const element = document.querySelector('#df-3b8b2205-ab0b-45ff-ad9e-ce60992ccddf');\n",
              "          const dataTable =\n",
              "            await google.colab.kernel.invokeFunction('convertToInteractive',\n",
              "                                                     [key], {});\n",
              "          if (!dataTable) return;\n",
              "\n",
              "          const docLinkHtml = 'Like what you see? Visit the ' +\n",
              "            '<a target=\"_blank\" href=https://colab.research.google.com/notebooks/data_table.ipynb>data table notebook</a>'\n",
              "            + ' to learn more about interactive tables.';\n",
              "          element.innerHTML = '';\n",
              "          dataTable['output_type'] = 'display_data';\n",
              "          await google.colab.output.renderOutput(dataTable, element);\n",
              "          const docLink = document.createElement('div');\n",
              "          docLink.innerHTML = docLinkHtml;\n",
              "          element.appendChild(docLink);\n",
              "        }\n",
              "      </script>\n",
              "    </div>\n",
              "  </div>\n",
              "  "
            ]
          },
          "metadata": {},
          "execution_count": 15
        }
      ]
    },
    {
      "cell_type": "code",
      "source": [
        "# Let us check for missing values in the dataset\n",
        "\n",
        "dataset.isna().any()"
      ],
      "metadata": {
        "colab": {
          "base_uri": "https://localhost:8080/"
        },
        "id": "w3rt7egEaLRB",
        "outputId": "92bafa50-5d7c-4998-bdf9-7915724402fc"
      },
      "execution_count": 16,
      "outputs": [
        {
          "output_type": "execute_result",
          "data": {
            "text/plain": [
              "CreditScore        False\n",
              "Geography          False\n",
              "Gender             False\n",
              "Age                False\n",
              "Tenure             False\n",
              "Balance            False\n",
              "NumOfProducts      False\n",
              "HasCrCard          False\n",
              "IsActiveMember     False\n",
              "EstimatedSalary    False\n",
              "Exited             False\n",
              "dtype: bool"
            ]
          },
          "metadata": {},
          "execution_count": 16
        }
      ]
    },
    {
      "cell_type": "markdown",
      "source": [
        "Good News ! There aren't any missing values. "
      ],
      "metadata": {
        "id": "5IhtPjq7awng"
      }
    },
    {
      "cell_type": "code",
      "source": [
        "# Importing visualization Libraries\n",
        "\n",
        "import matplotlib.pyplot as plt\n",
        "%matplotlib inline\n",
        "\n",
        "import seaborn as sns "
      ],
      "metadata": {
        "id": "tKY15xXKavZj"
      },
      "execution_count": 17,
      "outputs": []
    },
    {
      "cell_type": "markdown",
      "source": [
        "We cannot see any linear or obvious relation between these two features "
      ],
      "metadata": {
        "id": "UcXfkHnLcL5s"
      }
    },
    {
      "cell_type": "code",
      "source": [
        "dataset.head()"
      ],
      "metadata": {
        "colab": {
          "base_uri": "https://localhost:8080/",
          "height": 268
        },
        "id": "xJrYnHpib7ra",
        "outputId": "84b12761-7816-40ad-dd66-7d519c249773"
      },
      "execution_count": 18,
      "outputs": [
        {
          "output_type": "execute_result",
          "data": {
            "text/plain": [
              "   CreditScore Geography  Gender  Age  Tenure    Balance  NumOfProducts  \\\n",
              "0          619    France  Female   42       2       0.00              1   \n",
              "1          608     Spain  Female   41       1   83807.86              1   \n",
              "2          502    France  Female   42       8  159660.80              3   \n",
              "3          699    France  Female   39       1       0.00              2   \n",
              "4          850     Spain  Female   43       2  125510.82              1   \n",
              "\n",
              "   HasCrCard  IsActiveMember  EstimatedSalary  Exited  \n",
              "0          1               1        101348.88       1  \n",
              "1          0               1        112542.58       0  \n",
              "2          1               0        113931.57       1  \n",
              "3          0               0         93826.63       0  \n",
              "4          1               1         79084.10       0  "
            ],
            "text/html": [
              "\n",
              "  <div id=\"df-fd47eb84-e8c6-4c71-b7b1-49468eb633b8\">\n",
              "    <div class=\"colab-df-container\">\n",
              "      <div>\n",
              "<style scoped>\n",
              "    .dataframe tbody tr th:only-of-type {\n",
              "        vertical-align: middle;\n",
              "    }\n",
              "\n",
              "    .dataframe tbody tr th {\n",
              "        vertical-align: top;\n",
              "    }\n",
              "\n",
              "    .dataframe thead th {\n",
              "        text-align: right;\n",
              "    }\n",
              "</style>\n",
              "<table border=\"1\" class=\"dataframe\">\n",
              "  <thead>\n",
              "    <tr style=\"text-align: right;\">\n",
              "      <th></th>\n",
              "      <th>CreditScore</th>\n",
              "      <th>Geography</th>\n",
              "      <th>Gender</th>\n",
              "      <th>Age</th>\n",
              "      <th>Tenure</th>\n",
              "      <th>Balance</th>\n",
              "      <th>NumOfProducts</th>\n",
              "      <th>HasCrCard</th>\n",
              "      <th>IsActiveMember</th>\n",
              "      <th>EstimatedSalary</th>\n",
              "      <th>Exited</th>\n",
              "    </tr>\n",
              "  </thead>\n",
              "  <tbody>\n",
              "    <tr>\n",
              "      <th>0</th>\n",
              "      <td>619</td>\n",
              "      <td>France</td>\n",
              "      <td>Female</td>\n",
              "      <td>42</td>\n",
              "      <td>2</td>\n",
              "      <td>0.00</td>\n",
              "      <td>1</td>\n",
              "      <td>1</td>\n",
              "      <td>1</td>\n",
              "      <td>101348.88</td>\n",
              "      <td>1</td>\n",
              "    </tr>\n",
              "    <tr>\n",
              "      <th>1</th>\n",
              "      <td>608</td>\n",
              "      <td>Spain</td>\n",
              "      <td>Female</td>\n",
              "      <td>41</td>\n",
              "      <td>1</td>\n",
              "      <td>83807.86</td>\n",
              "      <td>1</td>\n",
              "      <td>0</td>\n",
              "      <td>1</td>\n",
              "      <td>112542.58</td>\n",
              "      <td>0</td>\n",
              "    </tr>\n",
              "    <tr>\n",
              "      <th>2</th>\n",
              "      <td>502</td>\n",
              "      <td>France</td>\n",
              "      <td>Female</td>\n",
              "      <td>42</td>\n",
              "      <td>8</td>\n",
              "      <td>159660.80</td>\n",
              "      <td>3</td>\n",
              "      <td>1</td>\n",
              "      <td>0</td>\n",
              "      <td>113931.57</td>\n",
              "      <td>1</td>\n",
              "    </tr>\n",
              "    <tr>\n",
              "      <th>3</th>\n",
              "      <td>699</td>\n",
              "      <td>France</td>\n",
              "      <td>Female</td>\n",
              "      <td>39</td>\n",
              "      <td>1</td>\n",
              "      <td>0.00</td>\n",
              "      <td>2</td>\n",
              "      <td>0</td>\n",
              "      <td>0</td>\n",
              "      <td>93826.63</td>\n",
              "      <td>0</td>\n",
              "    </tr>\n",
              "    <tr>\n",
              "      <th>4</th>\n",
              "      <td>850</td>\n",
              "      <td>Spain</td>\n",
              "      <td>Female</td>\n",
              "      <td>43</td>\n",
              "      <td>2</td>\n",
              "      <td>125510.82</td>\n",
              "      <td>1</td>\n",
              "      <td>1</td>\n",
              "      <td>1</td>\n",
              "      <td>79084.10</td>\n",
              "      <td>0</td>\n",
              "    </tr>\n",
              "  </tbody>\n",
              "</table>\n",
              "</div>\n",
              "      <button class=\"colab-df-convert\" onclick=\"convertToInteractive('df-fd47eb84-e8c6-4c71-b7b1-49468eb633b8')\"\n",
              "              title=\"Convert this dataframe to an interactive table.\"\n",
              "              style=\"display:none;\">\n",
              "        \n",
              "  <svg xmlns=\"http://www.w3.org/2000/svg\" height=\"24px\"viewBox=\"0 0 24 24\"\n",
              "       width=\"24px\">\n",
              "    <path d=\"M0 0h24v24H0V0z\" fill=\"none\"/>\n",
              "    <path d=\"M18.56 5.44l.94 2.06.94-2.06 2.06-.94-2.06-.94-.94-2.06-.94 2.06-2.06.94zm-11 1L8.5 8.5l.94-2.06 2.06-.94-2.06-.94L8.5 2.5l-.94 2.06-2.06.94zm10 10l.94 2.06.94-2.06 2.06-.94-2.06-.94-.94-2.06-.94 2.06-2.06.94z\"/><path d=\"M17.41 7.96l-1.37-1.37c-.4-.4-.92-.59-1.43-.59-.52 0-1.04.2-1.43.59L10.3 9.45l-7.72 7.72c-.78.78-.78 2.05 0 2.83L4 21.41c.39.39.9.59 1.41.59.51 0 1.02-.2 1.41-.59l7.78-7.78 2.81-2.81c.8-.78.8-2.07 0-2.86zM5.41 20L4 18.59l7.72-7.72 1.47 1.35L5.41 20z\"/>\n",
              "  </svg>\n",
              "      </button>\n",
              "      \n",
              "  <style>\n",
              "    .colab-df-container {\n",
              "      display:flex;\n",
              "      flex-wrap:wrap;\n",
              "      gap: 12px;\n",
              "    }\n",
              "\n",
              "    .colab-df-convert {\n",
              "      background-color: #E8F0FE;\n",
              "      border: none;\n",
              "      border-radius: 50%;\n",
              "      cursor: pointer;\n",
              "      display: none;\n",
              "      fill: #1967D2;\n",
              "      height: 32px;\n",
              "      padding: 0 0 0 0;\n",
              "      width: 32px;\n",
              "    }\n",
              "\n",
              "    .colab-df-convert:hover {\n",
              "      background-color: #E2EBFA;\n",
              "      box-shadow: 0px 1px 2px rgba(60, 64, 67, 0.3), 0px 1px 3px 1px rgba(60, 64, 67, 0.15);\n",
              "      fill: #174EA6;\n",
              "    }\n",
              "\n",
              "    [theme=dark] .colab-df-convert {\n",
              "      background-color: #3B4455;\n",
              "      fill: #D2E3FC;\n",
              "    }\n",
              "\n",
              "    [theme=dark] .colab-df-convert:hover {\n",
              "      background-color: #434B5C;\n",
              "      box-shadow: 0px 1px 3px 1px rgba(0, 0, 0, 0.15);\n",
              "      filter: drop-shadow(0px 1px 2px rgba(0, 0, 0, 0.3));\n",
              "      fill: #FFFFFF;\n",
              "    }\n",
              "  </style>\n",
              "\n",
              "      <script>\n",
              "        const buttonEl =\n",
              "          document.querySelector('#df-fd47eb84-e8c6-4c71-b7b1-49468eb633b8 button.colab-df-convert');\n",
              "        buttonEl.style.display =\n",
              "          google.colab.kernel.accessAllowed ? 'block' : 'none';\n",
              "\n",
              "        async function convertToInteractive(key) {\n",
              "          const element = document.querySelector('#df-fd47eb84-e8c6-4c71-b7b1-49468eb633b8');\n",
              "          const dataTable =\n",
              "            await google.colab.kernel.invokeFunction('convertToInteractive',\n",
              "                                                     [key], {});\n",
              "          if (!dataTable) return;\n",
              "\n",
              "          const docLinkHtml = 'Like what you see? Visit the ' +\n",
              "            '<a target=\"_blank\" href=https://colab.research.google.com/notebooks/data_table.ipynb>data table notebook</a>'\n",
              "            + ' to learn more about interactive tables.';\n",
              "          element.innerHTML = '';\n",
              "          dataTable['output_type'] = 'display_data';\n",
              "          await google.colab.output.renderOutput(dataTable, element);\n",
              "          const docLink = document.createElement('div');\n",
              "          docLink.innerHTML = docLinkHtml;\n",
              "          element.appendChild(docLink);\n",
              "        }\n",
              "      </script>\n",
              "    </div>\n",
              "  </div>\n",
              "  "
            ]
          },
          "metadata": {},
          "execution_count": 18
        }
      ]
    },
    {
      "cell_type": "code",
      "source": [
        "# Now let us encode the categorical features\n",
        "\n",
        "# Printing out the number of categories \n",
        "for cols in category_feat:\n",
        "  print(dataset[cols].value_counts())"
      ],
      "metadata": {
        "colab": {
          "base_uri": "https://localhost:8080/"
        },
        "id": "0us9libNl9W1",
        "outputId": "7a243c65-b743-42c0-bdc9-dc87437849e7"
      },
      "execution_count": 19,
      "outputs": [
        {
          "output_type": "stream",
          "name": "stdout",
          "text": [
            "France     5014\n",
            "Germany    2509\n",
            "Spain      2477\n",
            "Name: Geography, dtype: int64\n",
            "Male      5457\n",
            "Female    4543\n",
            "Name: Gender, dtype: int64\n"
          ]
        }
      ]
    },
    {
      "cell_type": "markdown",
      "source": [
        "We have two categories in gender and three in geogrpahy. So we will use frequency encoding for the geography feature and 1&0 (binary encoding) for gender value. "
      ],
      "metadata": {
        "id": "J9hF_OGGp2f6"
      }
    },
    {
      "cell_type": "code",
      "source": [
        "# Frequency encoding for Geogrpahy \n",
        "\n",
        "dataset[\"Geography\"] = dataset[\"Geography\"].map(dataset[\"Geography\"].value_counts().to_dict()) \n",
        "\n",
        "gender_mapping = {\"Male\":1,\"Female\":0}\n",
        "dataset[\"Gender\"] = dataset[\"Gender\"].map(gender_mapping)"
      ],
      "metadata": {
        "id": "Dk47jqqjoQHH"
      },
      "execution_count": 20,
      "outputs": []
    },
    {
      "cell_type": "code",
      "source": [
        "# Now we have encoded the categorical data \n",
        "\n",
        "dataset.head()"
      ],
      "metadata": {
        "colab": {
          "base_uri": "https://localhost:8080/",
          "height": 268
        },
        "id": "knct3yuWo_R0",
        "outputId": "85fb1a0f-bba3-49c5-c1d1-c2b467e7bfc8"
      },
      "execution_count": 21,
      "outputs": [
        {
          "output_type": "execute_result",
          "data": {
            "text/plain": [
              "   CreditScore  Geography  Gender  Age  Tenure    Balance  NumOfProducts  \\\n",
              "0          619       5014       0   42       2       0.00              1   \n",
              "1          608       2477       0   41       1   83807.86              1   \n",
              "2          502       5014       0   42       8  159660.80              3   \n",
              "3          699       5014       0   39       1       0.00              2   \n",
              "4          850       2477       0   43       2  125510.82              1   \n",
              "\n",
              "   HasCrCard  IsActiveMember  EstimatedSalary  Exited  \n",
              "0          1               1        101348.88       1  \n",
              "1          0               1        112542.58       0  \n",
              "2          1               0        113931.57       1  \n",
              "3          0               0         93826.63       0  \n",
              "4          1               1         79084.10       0  "
            ],
            "text/html": [
              "\n",
              "  <div id=\"df-cae168e1-94c0-47fa-9178-dbf56f1c3d00\">\n",
              "    <div class=\"colab-df-container\">\n",
              "      <div>\n",
              "<style scoped>\n",
              "    .dataframe tbody tr th:only-of-type {\n",
              "        vertical-align: middle;\n",
              "    }\n",
              "\n",
              "    .dataframe tbody tr th {\n",
              "        vertical-align: top;\n",
              "    }\n",
              "\n",
              "    .dataframe thead th {\n",
              "        text-align: right;\n",
              "    }\n",
              "</style>\n",
              "<table border=\"1\" class=\"dataframe\">\n",
              "  <thead>\n",
              "    <tr style=\"text-align: right;\">\n",
              "      <th></th>\n",
              "      <th>CreditScore</th>\n",
              "      <th>Geography</th>\n",
              "      <th>Gender</th>\n",
              "      <th>Age</th>\n",
              "      <th>Tenure</th>\n",
              "      <th>Balance</th>\n",
              "      <th>NumOfProducts</th>\n",
              "      <th>HasCrCard</th>\n",
              "      <th>IsActiveMember</th>\n",
              "      <th>EstimatedSalary</th>\n",
              "      <th>Exited</th>\n",
              "    </tr>\n",
              "  </thead>\n",
              "  <tbody>\n",
              "    <tr>\n",
              "      <th>0</th>\n",
              "      <td>619</td>\n",
              "      <td>5014</td>\n",
              "      <td>0</td>\n",
              "      <td>42</td>\n",
              "      <td>2</td>\n",
              "      <td>0.00</td>\n",
              "      <td>1</td>\n",
              "      <td>1</td>\n",
              "      <td>1</td>\n",
              "      <td>101348.88</td>\n",
              "      <td>1</td>\n",
              "    </tr>\n",
              "    <tr>\n",
              "      <th>1</th>\n",
              "      <td>608</td>\n",
              "      <td>2477</td>\n",
              "      <td>0</td>\n",
              "      <td>41</td>\n",
              "      <td>1</td>\n",
              "      <td>83807.86</td>\n",
              "      <td>1</td>\n",
              "      <td>0</td>\n",
              "      <td>1</td>\n",
              "      <td>112542.58</td>\n",
              "      <td>0</td>\n",
              "    </tr>\n",
              "    <tr>\n",
              "      <th>2</th>\n",
              "      <td>502</td>\n",
              "      <td>5014</td>\n",
              "      <td>0</td>\n",
              "      <td>42</td>\n",
              "      <td>8</td>\n",
              "      <td>159660.80</td>\n",
              "      <td>3</td>\n",
              "      <td>1</td>\n",
              "      <td>0</td>\n",
              "      <td>113931.57</td>\n",
              "      <td>1</td>\n",
              "    </tr>\n",
              "    <tr>\n",
              "      <th>3</th>\n",
              "      <td>699</td>\n",
              "      <td>5014</td>\n",
              "      <td>0</td>\n",
              "      <td>39</td>\n",
              "      <td>1</td>\n",
              "      <td>0.00</td>\n",
              "      <td>2</td>\n",
              "      <td>0</td>\n",
              "      <td>0</td>\n",
              "      <td>93826.63</td>\n",
              "      <td>0</td>\n",
              "    </tr>\n",
              "    <tr>\n",
              "      <th>4</th>\n",
              "      <td>850</td>\n",
              "      <td>2477</td>\n",
              "      <td>0</td>\n",
              "      <td>43</td>\n",
              "      <td>2</td>\n",
              "      <td>125510.82</td>\n",
              "      <td>1</td>\n",
              "      <td>1</td>\n",
              "      <td>1</td>\n",
              "      <td>79084.10</td>\n",
              "      <td>0</td>\n",
              "    </tr>\n",
              "  </tbody>\n",
              "</table>\n",
              "</div>\n",
              "      <button class=\"colab-df-convert\" onclick=\"convertToInteractive('df-cae168e1-94c0-47fa-9178-dbf56f1c3d00')\"\n",
              "              title=\"Convert this dataframe to an interactive table.\"\n",
              "              style=\"display:none;\">\n",
              "        \n",
              "  <svg xmlns=\"http://www.w3.org/2000/svg\" height=\"24px\"viewBox=\"0 0 24 24\"\n",
              "       width=\"24px\">\n",
              "    <path d=\"M0 0h24v24H0V0z\" fill=\"none\"/>\n",
              "    <path d=\"M18.56 5.44l.94 2.06.94-2.06 2.06-.94-2.06-.94-.94-2.06-.94 2.06-2.06.94zm-11 1L8.5 8.5l.94-2.06 2.06-.94-2.06-.94L8.5 2.5l-.94 2.06-2.06.94zm10 10l.94 2.06.94-2.06 2.06-.94-2.06-.94-.94-2.06-.94 2.06-2.06.94z\"/><path d=\"M17.41 7.96l-1.37-1.37c-.4-.4-.92-.59-1.43-.59-.52 0-1.04.2-1.43.59L10.3 9.45l-7.72 7.72c-.78.78-.78 2.05 0 2.83L4 21.41c.39.39.9.59 1.41.59.51 0 1.02-.2 1.41-.59l7.78-7.78 2.81-2.81c.8-.78.8-2.07 0-2.86zM5.41 20L4 18.59l7.72-7.72 1.47 1.35L5.41 20z\"/>\n",
              "  </svg>\n",
              "      </button>\n",
              "      \n",
              "  <style>\n",
              "    .colab-df-container {\n",
              "      display:flex;\n",
              "      flex-wrap:wrap;\n",
              "      gap: 12px;\n",
              "    }\n",
              "\n",
              "    .colab-df-convert {\n",
              "      background-color: #E8F0FE;\n",
              "      border: none;\n",
              "      border-radius: 50%;\n",
              "      cursor: pointer;\n",
              "      display: none;\n",
              "      fill: #1967D2;\n",
              "      height: 32px;\n",
              "      padding: 0 0 0 0;\n",
              "      width: 32px;\n",
              "    }\n",
              "\n",
              "    .colab-df-convert:hover {\n",
              "      background-color: #E2EBFA;\n",
              "      box-shadow: 0px 1px 2px rgba(60, 64, 67, 0.3), 0px 1px 3px 1px rgba(60, 64, 67, 0.15);\n",
              "      fill: #174EA6;\n",
              "    }\n",
              "\n",
              "    [theme=dark] .colab-df-convert {\n",
              "      background-color: #3B4455;\n",
              "      fill: #D2E3FC;\n",
              "    }\n",
              "\n",
              "    [theme=dark] .colab-df-convert:hover {\n",
              "      background-color: #434B5C;\n",
              "      box-shadow: 0px 1px 3px 1px rgba(0, 0, 0, 0.15);\n",
              "      filter: drop-shadow(0px 1px 2px rgba(0, 0, 0, 0.3));\n",
              "      fill: #FFFFFF;\n",
              "    }\n",
              "  </style>\n",
              "\n",
              "      <script>\n",
              "        const buttonEl =\n",
              "          document.querySelector('#df-cae168e1-94c0-47fa-9178-dbf56f1c3d00 button.colab-df-convert');\n",
              "        buttonEl.style.display =\n",
              "          google.colab.kernel.accessAllowed ? 'block' : 'none';\n",
              "\n",
              "        async function convertToInteractive(key) {\n",
              "          const element = document.querySelector('#df-cae168e1-94c0-47fa-9178-dbf56f1c3d00');\n",
              "          const dataTable =\n",
              "            await google.colab.kernel.invokeFunction('convertToInteractive',\n",
              "                                                     [key], {});\n",
              "          if (!dataTable) return;\n",
              "\n",
              "          const docLinkHtml = 'Like what you see? Visit the ' +\n",
              "            '<a target=\"_blank\" href=https://colab.research.google.com/notebooks/data_table.ipynb>data table notebook</a>'\n",
              "            + ' to learn more about interactive tables.';\n",
              "          element.innerHTML = '';\n",
              "          dataTable['output_type'] = 'display_data';\n",
              "          await google.colab.output.renderOutput(dataTable, element);\n",
              "          const docLink = document.createElement('div');\n",
              "          docLink.innerHTML = docLinkHtml;\n",
              "          element.appendChild(docLink);\n",
              "        }\n",
              "      </script>\n",
              "    </div>\n",
              "  </div>\n",
              "  "
            ]
          },
          "metadata": {},
          "execution_count": 21
        }
      ]
    },
    {
      "cell_type": "code",
      "source": [
        "# Splitting the dataset into X and y (featureas and label)\n",
        "\n",
        "X = dataset.drop([\"Exited\"],axis=1)\n",
        "y = dataset[\"Exited\"]"
      ],
      "metadata": {
        "id": "Mfi_VZqKrMcp"
      },
      "execution_count": 22,
      "outputs": []
    },
    {
      "cell_type": "code",
      "source": [
        "sns.jointplot(dataset[\"Gender\"],dataset[\"CreditScore\"])"
      ],
      "metadata": {
        "colab": {
          "base_uri": "https://localhost:8080/",
          "height": 512
        },
        "id": "JQx_kmgMinr2",
        "outputId": "6d86e71f-16e3-43e2-df73-f57176b3b069"
      },
      "execution_count": 23,
      "outputs": [
        {
          "output_type": "stream",
          "name": "stderr",
          "text": [
            "/usr/local/lib/python3.7/dist-packages/seaborn/_decorators.py:43: FutureWarning: Pass the following variables as keyword args: x, y. From version 0.12, the only valid positional argument will be `data`, and passing other arguments without an explicit keyword will result in an error or misinterpretation.\n",
            "  FutureWarning\n"
          ]
        },
        {
          "output_type": "execute_result",
          "data": {
            "text/plain": [
              "<seaborn.axisgrid.JointGrid at 0x7f6df93e0a10>"
            ]
          },
          "metadata": {},
          "execution_count": 23
        },
        {
          "output_type": "display_data",
          "data": {
            "text/plain": [
              "<Figure size 432x432 with 3 Axes>"
            ],
            "image/png": "[encoded data removed]"
          },
          "metadata": {
            "needs_background": "light"
          }
        }
      ]
    },
    {
      "cell_type": "code",
      "source": [
        "from sklearn.preprocessing import StandardScaler\n",
        "\n",
        "scaler = StandardScaler()"
      ],
      "metadata": {
        "id": "8lmKedTurj0B"
      },
      "execution_count": 24,
      "outputs": []
    },
    {
      "cell_type": "code",
      "source": [
        "X = pd.DataFrame(scaler.fit_transform(X), columns=X.columns)"
      ],
      "metadata": {
        "id": "fB_k__r3kers"
      },
      "execution_count": 25,
      "outputs": []
    },
    {
      "cell_type": "code",
      "source": [
        "X.head()"
      ],
      "metadata": {
        "colab": {
          "base_uri": "https://localhost:8080/",
          "height": 268
        },
        "id": "MyNocRGul-pe",
        "outputId": "36717f8e-d964-4668-e003-917d11ec08c9"
      },
      "execution_count": 26,
      "outputs": [
        {
          "output_type": "execute_result",
          "data": {
            "text/plain": [
              "   CreditScore  Geography    Gender       Age    Tenure   Balance  \\\n",
              "0    -0.326221   0.997164 -1.095988  0.293517 -1.041760 -1.225848   \n",
              "1    -0.440036  -1.015539 -1.095988  0.198164 -1.387538  0.117350   \n",
              "2    -1.536794   0.997164 -1.095988  0.293517  1.032908  1.333053   \n",
              "3     0.501521   0.997164 -1.095988  0.007457 -1.387538 -1.225848   \n",
              "4     2.063884  -1.015539 -1.095988  0.388871 -1.041760  0.785728   \n",
              "\n",
              "   NumOfProducts  HasCrCard  IsActiveMember  EstimatedSalary  \n",
              "0      -0.911583   0.646092        0.970243         0.021886  \n",
              "1      -0.911583  -1.547768        0.970243         0.216534  \n",
              "2       2.527057   0.646092       -1.030670         0.240687  \n",
              "3       0.807737  -1.547768       -1.030670        -0.108918  \n",
              "4      -0.911583   0.646092        0.970243        -0.365276  "
            ],
            "text/html": [
              "\n",
              "  <div id=\"df-e7ceadd7-c68b-4be9-a12b-f27188466642\">\n",
              "    <div class=\"colab-df-container\">\n",
              "      <div>\n",
              "<style scoped>\n",
              "    .dataframe tbody tr th:only-of-type {\n",
              "        vertical-align: middle;\n",
              "    }\n",
              "\n",
              "    .dataframe tbody tr th {\n",
              "        vertical-align: top;\n",
              "    }\n",
              "\n",
              "    .dataframe thead th {\n",
              "        text-align: right;\n",
              "    }\n",
              "</style>\n",
              "<table border=\"1\" class=\"dataframe\">\n",
              "  <thead>\n",
              "    <tr style=\"text-align: right;\">\n",
              "      <th></th>\n",
              "      <th>CreditScore</th>\n",
              "      <th>Geography</th>\n",
              "      <th>Gender</th>\n",
              "      <th>Age</th>\n",
              "      <th>Tenure</th>\n",
              "      <th>Balance</th>\n",
              "      <th>NumOfProducts</th>\n",
              "      <th>HasCrCard</th>\n",
              "      <th>IsActiveMember</th>\n",
              "      <th>EstimatedSalary</th>\n",
              "    </tr>\n",
              "  </thead>\n",
              "  <tbody>\n",
              "    <tr>\n",
              "      <th>0</th>\n",
              "      <td>-0.326221</td>\n",
              "      <td>0.997164</td>\n",
              "      <td>-1.095988</td>\n",
              "      <td>0.293517</td>\n",
              "      <td>-1.041760</td>\n",
              "      <td>-1.225848</td>\n",
              "      <td>-0.911583</td>\n",
              "      <td>0.646092</td>\n",
              "      <td>0.970243</td>\n",
              "      <td>0.021886</td>\n",
              "    </tr>\n",
              "    <tr>\n",
              "      <th>1</th>\n",
              "      <td>-0.440036</td>\n",
              "      <td>-1.015539</td>\n",
              "      <td>-1.095988</td>\n",
              "      <td>0.198164</td>\n",
              "      <td>-1.387538</td>\n",
              "      <td>0.117350</td>\n",
              "      <td>-0.911583</td>\n",
              "      <td>-1.547768</td>\n",
              "      <td>0.970243</td>\n",
              "      <td>0.216534</td>\n",
              "    </tr>\n",
              "    <tr>\n",
              "      <th>2</th>\n",
              "      <td>-1.536794</td>\n",
              "      <td>0.997164</td>\n",
              "      <td>-1.095988</td>\n",
              "      <td>0.293517</td>\n",
              "      <td>1.032908</td>\n",
              "      <td>1.333053</td>\n",
              "      <td>2.527057</td>\n",
              "      <td>0.646092</td>\n",
              "      <td>-1.030670</td>\n",
              "      <td>0.240687</td>\n",
              "    </tr>\n",
              "    <tr>\n",
              "      <th>3</th>\n",
              "      <td>0.501521</td>\n",
              "      <td>0.997164</td>\n",
              "      <td>-1.095988</td>\n",
              "      <td>0.007457</td>\n",
              "      <td>-1.387538</td>\n",
              "      <td>-1.225848</td>\n",
              "      <td>0.807737</td>\n",
              "      <td>-1.547768</td>\n",
              "      <td>-1.030670</td>\n",
              "      <td>-0.108918</td>\n",
              "    </tr>\n",
              "    <tr>\n",
              "      <th>4</th>\n",
              "      <td>2.063884</td>\n",
              "      <td>-1.015539</td>\n",
              "      <td>-1.095988</td>\n",
              "      <td>0.388871</td>\n",
              "      <td>-1.041760</td>\n",
              "      <td>0.785728</td>\n",
              "      <td>-0.911583</td>\n",
              "      <td>0.646092</td>\n",
              "      <td>0.970243</td>\n",
              "      <td>-0.365276</td>\n",
              "    </tr>\n",
              "  </tbody>\n",
              "</table>\n",
              "</div>\n",
              "      <button class=\"colab-df-convert\" onclick=\"convertToInteractive('df-e7ceadd7-c68b-4be9-a12b-f27188466642')\"\n",
              "              title=\"Convert this dataframe to an interactive table.\"\n",
              "              style=\"display:none;\">\n",
              "        \n",
              "  <svg xmlns=\"http://www.w3.org/2000/svg\" height=\"24px\"viewBox=\"0 0 24 24\"\n",
              "       width=\"24px\">\n",
              "    <path d=\"M0 0h24v24H0V0z\" fill=\"none\"/>\n",
              "    <path d=\"M18.56 5.44l.94 2.06.94-2.06 2.06-.94-2.06-.94-.94-2.06-.94 2.06-2.06.94zm-11 1L8.5 8.5l.94-2.06 2.06-.94-2.06-.94L8.5 2.5l-.94 2.06-2.06.94zm10 10l.94 2.06.94-2.06 2.06-.94-2.06-.94-.94-2.06-.94 2.06-2.06.94z\"/><path d=\"M17.41 7.96l-1.37-1.37c-.4-.4-.92-.59-1.43-.59-.52 0-1.04.2-1.43.59L10.3 9.45l-7.72 7.72c-.78.78-.78 2.05 0 2.83L4 21.41c.39.39.9.59 1.41.59.51 0 1.02-.2 1.41-.59l7.78-7.78 2.81-2.81c.8-.78.8-2.07 0-2.86zM5.41 20L4 18.59l7.72-7.72 1.47 1.35L5.41 20z\"/>\n",
              "  </svg>\n",
              "      </button>\n",
              "      \n",
              "  <style>\n",
              "    .colab-df-container {\n",
              "      display:flex;\n",
              "      flex-wrap:wrap;\n",
              "      gap: 12px;\n",
              "    }\n",
              "\n",
              "    .colab-df-convert {\n",
              "      background-color: #E8F0FE;\n",
              "      border: none;\n",
              "      border-radius: 50%;\n",
              "      cursor: pointer;\n",
              "      display: none;\n",
              "      fill: #1967D2;\n",
              "      height: 32px;\n",
              "      padding: 0 0 0 0;\n",
              "      width: 32px;\n",
              "    }\n",
              "\n",
              "    .colab-df-convert:hover {\n",
              "      background-color: #E2EBFA;\n",
              "      box-shadow: 0px 1px 2px rgba(60, 64, 67, 0.3), 0px 1px 3px 1px rgba(60, 64, 67, 0.15);\n",
              "      fill: #174EA6;\n",
              "    }\n",
              "\n",
              "    [theme=dark] .colab-df-convert {\n",
              "      background-color: #3B4455;\n",
              "      fill: #D2E3FC;\n",
              "    }\n",
              "\n",
              "    [theme=dark] .colab-df-convert:hover {\n",
              "      background-color: #434B5C;\n",
              "      box-shadow: 0px 1px 3px 1px rgba(0, 0, 0, 0.15);\n",
              "      filter: drop-shadow(0px 1px 2px rgba(0, 0, 0, 0.3));\n",
              "      fill: #FFFFFF;\n",
              "    }\n",
              "  </style>\n",
              "\n",
              "      <script>\n",
              "        const buttonEl =\n",
              "          document.querySelector('#df-e7ceadd7-c68b-4be9-a12b-f27188466642 button.colab-df-convert');\n",
              "        buttonEl.style.display =\n",
              "          google.colab.kernel.accessAllowed ? 'block' : 'none';\n",
              "\n",
              "        async function convertToInteractive(key) {\n",
              "          const element = document.querySelector('#df-e7ceadd7-c68b-4be9-a12b-f27188466642');\n",
              "          const dataTable =\n",
              "            await google.colab.kernel.invokeFunction('convertToInteractive',\n",
              "                                                     [key], {});\n",
              "          if (!dataTable) return;\n",
              "\n",
              "          const docLinkHtml = 'Like what you see? Visit the ' +\n",
              "            '<a target=\"_blank\" href=https://colab.research.google.com/notebooks/data_table.ipynb>data table notebook</a>'\n",
              "            + ' to learn more about interactive tables.';\n",
              "          element.innerHTML = '';\n",
              "          dataTable['output_type'] = 'display_data';\n",
              "          await google.colab.output.renderOutput(dataTable, element);\n",
              "          const docLink = document.createElement('div');\n",
              "          docLink.innerHTML = docLinkHtml;\n",
              "          element.appendChild(docLink);\n",
              "        }\n",
              "      </script>\n",
              "    </div>\n",
              "  </div>\n",
              "  "
            ]
          },
          "metadata": {},
          "execution_count": 26
        }
      ]
    },
    {
      "cell_type": "code",
      "source": [
        "y.head()"
      ],
      "metadata": {
        "colab": {
          "base_uri": "https://localhost:8080/"
        },
        "id": "h9MBmjhZmBdb",
        "outputId": "80c84cb8-5c87-44d8-bc56-db0c38687dc4"
      },
      "execution_count": 27,
      "outputs": [
        {
          "output_type": "execute_result",
          "data": {
            "text/plain": [
              "0    1\n",
              "1    0\n",
              "2    1\n",
              "3    0\n",
              "4    0\n",
              "Name: Exited, dtype: int64"
            ]
          },
          "metadata": {},
          "execution_count": 27
        }
      ]
    },
    {
      "cell_type": "code",
      "source": [
        "# Splitting the data into training data, validation data and testing data\n",
        "\n",
        "from sklearn.model_selection import train_test_split \n",
        "\n",
        "train_X, test_X, train_Y, test_Y = train_test_split(X,y,test_size=0.15)\n",
        "train_X, valid_X, train_Y, valid_Y = train_test_split(train_X,train_Y, test_size = 0.15)"
      ],
      "metadata": {
        "id": "4BJ6frfFm39j"
      },
      "execution_count": 28,
      "outputs": []
    },
    {
      "cell_type": "code",
      "source": [
        "# Importing the necessary libraries required for builidng an ANN model \n",
        "\n",
        "import tensorflow as tf\n",
        "\n",
        "from tensorflow import keras \n",
        "\n",
        "from tensorflow.keras.layers import Dense, InputLayer, Dropout\n",
        "from tensorflow.keras.models import Model, Sequential "
      ],
      "metadata": {
        "id": "Btbk5GqFp4p0"
      },
      "execution_count": 29,
      "outputs": []
    },
    {
      "cell_type": "code",
      "source": [
        "# Builiding the model \n",
        "\n",
        "def build_model(input_shape_ = X.shape[1:], units = 100, layers = 3, activation_function=\"relu\", lr = 0.01, metrics='accruacy', output_units = 1):\n",
        "\n",
        "  model = keras.models.Sequential()\n",
        "\n",
        "  model.add(Dense(100, activation = activation_function,input_shape = input_shape_))\n",
        "\n",
        "  for num in range(layers):\n",
        "    model.add(Dense(units, activation= activation_function))\n",
        "\n",
        "  model.add(Dense(output_units, activation='sigmoid'))    \n",
        "\n",
        "  optimizer_ = tf.keras.optimizers.Adam(learning_rate = lr)\n",
        "\n",
        "  model.compile(optimizer = optimizer_, loss = \"binary_crossentropy\", metrics = ['accuracy'])\n",
        "\n",
        "  return model\n"
      ],
      "metadata": {
        "id": "Y5QDUnZcqpGp"
      },
      "execution_count": 30,
      "outputs": []
    },
    {
      "cell_type": "code",
      "source": [
        "classifier = keras.wrappers.scikit_learn.KerasClassifier(build_model)"
      ],
      "metadata": {
        "colab": {
          "base_uri": "https://localhost:8080/"
        },
        "id": "sYdmqc3dw7ur",
        "outputId": "2ca46c1e-f99a-484d-e30e-ab48c707a124"
      },
      "execution_count": 31,
      "outputs": [
        {
          "output_type": "stream",
          "name": "stderr",
          "text": [
            "/usr/local/lib/python3.7/dist-packages/ipykernel_launcher.py:1: DeprecationWarning: KerasClassifier is deprecated, use Sci-Keras (https://github.com/adriangb/scikeras) instead. See https://www.adriangb.com/scikeras/stable/migration.html for help migrating.\n",
            "  \"\"\"Entry point for launching an IPython kernel.\n"
          ]
        }
      ]
    },
    {
      "cell_type": "code",
      "source": [
        "classifier.fit(train_X, train_Y, epochs = 2, validation_data=([valid_X, valid_Y]))"
      ],
      "metadata": {
        "colab": {
          "base_uri": "https://localhost:8080/"
        },
        "id": "75hX9d4Hw7xK",
        "outputId": "40faedee-1e65-44be-b321-b399c19a4fe1"
      },
      "execution_count": 32,
      "outputs": [
        {
          "output_type": "stream",
          "name": "stdout",
          "text": [
            "Epoch 1/2\n",
            "226/226 [==============================] - 5s 10ms/step - loss: 0.4084 - accuracy: 0.8291 - val_loss: 0.3568 - val_accuracy: 0.8627\n",
            "Epoch 2/2\n",
            "226/226 [==============================] - 2s 7ms/step - loss: 0.3704 - accuracy: 0.8523 - val_loss: 0.3589 - val_accuracy: 0.8533\n"
          ]
        },
        {
          "output_type": "execute_result",
          "data": {
            "text/plain": [
              "<keras.callbacks.History at 0x7f6d981baf90>"
            ]
          },
          "metadata": {},
          "execution_count": 32
        }
      ]
    },
    {
      "cell_type": "code",
      "source": [
        "from sklearn.model_selection import RandomizedSearchCV"
      ],
      "metadata": {
        "id": "-aX9H0Jow7zx"
      },
      "execution_count": 33,
      "outputs": []
    },
    {
      "cell_type": "code",
      "source": [
        "parameters = {\n",
        "    \"units\" : np.arange(0,500,50),\n",
        "    \"layers\" : np.arange(1 ,7),\n",
        "    \"lr\" : [0.001, 0.01, 0.05, 0.09, 0.1, 0.2, 0.4, 0.5]\n",
        "}"
      ],
      "metadata": {
        "id": "1RzYHhciw72I"
      },
      "execution_count": 34,
      "outputs": []
    },
    {
      "cell_type": "code",
      "source": [
        "hyper_parameter_tuning = RandomizedSearchCV(classifier, parameters, n_iter = 8, cv=3)"
      ],
      "metadata": {
        "id": "uHquAaRH8p1A"
      },
      "execution_count": 35,
      "outputs": []
    },
    {
      "cell_type": "code",
      "source": [
        "history = hyper_parameter_tuning.fit(train_X, train_Y, epochs = 5, validation_data=(valid_X, valid_Y),callbacks = [keras.callbacks.EarlyStopping(patience=10)])"
      ],
      "metadata": {
        "colab": {
          "base_uri": "https://localhost:8080/"
        },
        "id": "Gp3hqoi-8px5",
        "outputId": "bdb41142-938f-4334-bc54-a8734796c392"
      },
      "execution_count": 36,
      "outputs": [
        {
          "output_type": "stream",
          "name": "stdout",
          "text": [
            "Epoch 1/5\n",
            "151/151 [==============================] - 1s 4ms/step - loss: 0.6953 - accuracy: 0.7919 - val_loss: 0.5178 - val_accuracy: 0.7882\n",
            "Epoch 2/5\n",
            "151/151 [==============================] - 0s 3ms/step - loss: 0.5759 - accuracy: 0.7992 - val_loss: 0.5166 - val_accuracy: 0.7882\n",
            "Epoch 3/5\n",
            "151/151 [==============================] - 0s 3ms/step - loss: 0.5041 - accuracy: 0.7986 - val_loss: 0.5174 - val_accuracy: 0.7882\n",
            "Epoch 4/5\n",
            "151/151 [==============================] - 0s 3ms/step - loss: 0.5044 - accuracy: 0.7986 - val_loss: 0.5163 - val_accuracy: 0.7882\n",
            "Epoch 5/5\n",
            "151/151 [==============================] - 0s 3ms/step - loss: 0.5037 - accuracy: 0.7986 - val_loss: 0.5168 - val_accuracy: 0.7882\n",
            "76/76 [==============================] - 1s 2ms/step - loss: 0.5091 - accuracy: 0.7954\n",
            "Epoch 1/5\n",
            "151/151 [==============================] - 1s 4ms/step - loss: 0.5696 - accuracy: 0.7907 - val_loss: 0.4741 - val_accuracy: 0.7961\n",
            "Epoch 2/5\n",
            "151/151 [==============================] - 0s 3ms/step - loss: 0.4729 - accuracy: 0.8036 - val_loss: 0.4509 - val_accuracy: 0.7882\n",
            "Epoch 3/5\n",
            "151/151 [==============================] - 0s 3ms/step - loss: 0.4517 - accuracy: 0.7909 - val_loss: 0.4628 - val_accuracy: 0.7882\n",
            "Epoch 4/5\n",
            "151/151 [==============================] - 0s 3ms/step - loss: 0.4323 - accuracy: 0.7909 - val_loss: 0.4118 - val_accuracy: 0.7882\n",
            "Epoch 5/5\n",
            "151/151 [==============================] - 0s 3ms/step - loss: 0.4369 - accuracy: 0.7916 - val_loss: 0.3971 - val_accuracy: 0.8204\n",
            "76/76 [==============================] - 0s 2ms/step - loss: 0.3982 - accuracy: 0.8285\n",
            "Epoch 1/5\n",
            "151/151 [==============================] - 1s 4ms/step - loss: 0.5656 - accuracy: 0.7966 - val_loss: 0.5131 - val_accuracy: 0.7859\n",
            "Epoch 2/5\n",
            "151/151 [==============================] - 0s 3ms/step - loss: 0.4543 - accuracy: 0.8024 - val_loss: 0.4338 - val_accuracy: 0.7882\n",
            "Epoch 3/5\n",
            "151/151 [==============================] - 0s 3ms/step - loss: 0.4382 - accuracy: 0.8022 - val_loss: 0.4519 - val_accuracy: 0.7882\n",
            "Epoch 4/5\n",
            "151/151 [==============================] - 0s 3ms/step - loss: 0.4271 - accuracy: 0.8022 - val_loss: 0.4331 - val_accuracy: 0.7882\n",
            "Epoch 5/5\n",
            "151/151 [==============================] - 0s 3ms/step - loss: 0.4303 - accuracy: 0.8032 - val_loss: 0.4512 - val_accuracy: 0.8235\n",
            "76/76 [==============================] - 0s 2ms/step - loss: 0.4534 - accuracy: 0.8228\n",
            "Epoch 1/5\n",
            "151/151 [==============================] - 1s 4ms/step - loss: 0.4802 - accuracy: 0.7980 - val_loss: 0.4632 - val_accuracy: 0.7882\n",
            "Epoch 2/5\n",
            "151/151 [==============================] - 0s 3ms/step - loss: 0.4256 - accuracy: 0.8100 - val_loss: 0.4775 - val_accuracy: 0.8267\n",
            "Epoch 3/5\n",
            "151/151 [==============================] - 0s 3ms/step - loss: 0.4028 - accuracy: 0.8439 - val_loss: 0.4312 - val_accuracy: 0.8322\n",
            "Epoch 4/5\n",
            "151/151 [==============================] - 0s 3ms/step - loss: 0.3957 - accuracy: 0.8420 - val_loss: 0.3973 - val_accuracy: 0.8510\n",
            "Epoch 5/5\n",
            "151/151 [==============================] - 0s 3ms/step - loss: 0.3797 - accuracy: 0.8511 - val_loss: 0.3757 - val_accuracy: 0.8541\n",
            "76/76 [==============================] - 1s 2ms/step - loss: 0.3648 - accuracy: 0.8546\n",
            "Epoch 1/5\n",
            "151/151 [==============================] - 1s 4ms/step - loss: 0.4735 - accuracy: 0.7893 - val_loss: 0.4685 - val_accuracy: 0.7937\n",
            "Epoch 2/5\n",
            "151/151 [==============================] - 0s 3ms/step - loss: 0.4333 - accuracy: 0.7899 - val_loss: 0.4231 - val_accuracy: 0.7882\n",
            "Epoch 3/5\n",
            "151/151 [==============================] - 0s 3ms/step - loss: 0.4167 - accuracy: 0.8219 - val_loss: 0.3712 - val_accuracy: 0.8627\n",
            "Epoch 4/5\n",
            "151/151 [==============================] - 0s 3ms/step - loss: 0.4172 - accuracy: 0.8088 - val_loss: 0.4044 - val_accuracy: 0.8141\n",
            "Epoch 5/5\n",
            "151/151 [==============================] - 0s 3ms/step - loss: 0.4884 - accuracy: 0.7866 - val_loss: 0.4949 - val_accuracy: 0.7882\n",
            "76/76 [==============================] - 1s 2ms/step - loss: 0.4532 - accuracy: 0.8104\n",
            "Epoch 1/5\n",
            "151/151 [==============================] - 1s 4ms/step - loss: 0.4954 - accuracy: 0.8022 - val_loss: 0.4654 - val_accuracy: 0.7882\n",
            "Epoch 2/5\n",
            "151/151 [==============================] - 0s 3ms/step - loss: 0.4229 - accuracy: 0.8090 - val_loss: 0.4708 - val_accuracy: 0.7882\n",
            "Epoch 3/5\n",
            "151/151 [==============================] - 0s 3ms/step - loss: 0.4437 - accuracy: 0.8107 - val_loss: 0.5375 - val_accuracy: 0.7302\n",
            "Epoch 4/5\n",
            "151/151 [==============================] - 0s 3ms/step - loss: 0.4968 - accuracy: 0.8013 - val_loss: 0.5343 - val_accuracy: 0.7882\n",
            "Epoch 5/5\n",
            "151/151 [==============================] - 0s 3ms/step - loss: 0.4965 - accuracy: 0.8022 - val_loss: 0.4993 - val_accuracy: 0.7882\n",
            "76/76 [==============================] - 1s 2ms/step - loss: 0.5019 - accuracy: 0.7858\n",
            "Epoch 1/5\n",
            "151/151 [==============================] - 2s 7ms/step - loss: 0.4284 - accuracy: 0.8283 - val_loss: 0.4499 - val_accuracy: 0.8165\n",
            "Epoch 2/5\n",
            "151/151 [==============================] - 1s 6ms/step - loss: 0.3876 - accuracy: 0.8376 - val_loss: 0.3785 - val_accuracy: 0.8463\n",
            "Epoch 3/5\n",
            "151/151 [==============================] - 1s 6ms/step - loss: 0.3805 - accuracy: 0.8455 - val_loss: 0.3590 - val_accuracy: 0.8588\n",
            "Epoch 4/5\n",
            "151/151 [==============================] - 1s 6ms/step - loss: 0.3629 - accuracy: 0.8544 - val_loss: 0.3804 - val_accuracy: 0.8376\n",
            "Epoch 5/5\n",
            "151/151 [==============================] - 1s 6ms/step - loss: 0.3619 - accuracy: 0.8528 - val_loss: 0.3750 - val_accuracy: 0.8510\n",
            "76/76 [==============================] - 1s 2ms/step - loss: 0.3688 - accuracy: 0.8532\n",
            "Epoch 1/5\n",
            "151/151 [==============================] - 2s 7ms/step - loss: 0.4287 - accuracy: 0.8179 - val_loss: 0.4209 - val_accuracy: 0.8525\n",
            "Epoch 2/5\n",
            "151/151 [==============================] - 1s 6ms/step - loss: 0.3854 - accuracy: 0.8439 - val_loss: 0.3616 - val_accuracy: 0.8604\n",
            "Epoch 3/5\n",
            "151/151 [==============================] - 1s 6ms/step - loss: 0.3631 - accuracy: 0.8491 - val_loss: 0.3867 - val_accuracy: 0.8431\n",
            "Epoch 4/5\n",
            "151/151 [==============================] - 1s 6ms/step - loss: 0.3675 - accuracy: 0.8505 - val_loss: 0.3579 - val_accuracy: 0.8510\n",
            "Epoch 5/5\n",
            "151/151 [==============================] - 1s 6ms/step - loss: 0.3561 - accuracy: 0.8507 - val_loss: 0.3512 - val_accuracy: 0.8675\n",
            "76/76 [==============================] - 1s 2ms/step - loss: 0.3572 - accuracy: 0.8499\n",
            "Epoch 1/5\n",
            "151/151 [==============================] - 2s 7ms/step - loss: 0.4267 - accuracy: 0.8281 - val_loss: 0.3900 - val_accuracy: 0.8384\n",
            "Epoch 2/5\n",
            "151/151 [==============================] - 1s 6ms/step - loss: 0.3771 - accuracy: 0.8485 - val_loss: 0.3793 - val_accuracy: 0.8471\n",
            "Epoch 3/5\n",
            "151/151 [==============================] - 1s 6ms/step - loss: 0.3630 - accuracy: 0.8541 - val_loss: 0.3637 - val_accuracy: 0.8549\n",
            "Epoch 4/5\n",
            "151/151 [==============================] - 1s 6ms/step - loss: 0.3602 - accuracy: 0.8526 - val_loss: 0.3587 - val_accuracy: 0.8541\n",
            "Epoch 5/5\n",
            "151/151 [==============================] - 1s 6ms/step - loss: 0.3603 - accuracy: 0.8501 - val_loss: 0.3752 - val_accuracy: 0.8447\n",
            "76/76 [==============================] - 1s 2ms/step - loss: 0.3816 - accuracy: 0.8351\n",
            "Epoch 1/5\n",
            "151/151 [==============================] - 2s 11ms/step - loss: 0.4411 - accuracy: 0.8146 - val_loss: 0.3893 - val_accuracy: 0.8376\n",
            "Epoch 2/5\n",
            "151/151 [==============================] - 2s 10ms/step - loss: 0.3727 - accuracy: 0.8468 - val_loss: 0.3766 - val_accuracy: 0.8447\n",
            "Epoch 3/5\n",
            "151/151 [==============================] - 2s 10ms/step - loss: 0.3574 - accuracy: 0.8538 - val_loss: 0.3636 - val_accuracy: 0.8525\n",
            "Epoch 4/5\n",
            "151/151 [==============================] - 2s 10ms/step - loss: 0.3414 - accuracy: 0.8588 - val_loss: 0.3699 - val_accuracy: 0.8525\n",
            "Epoch 5/5\n",
            "151/151 [==============================] - 2s 10ms/step - loss: 0.3336 - accuracy: 0.8623 - val_loss: 0.3734 - val_accuracy: 0.8494\n",
            "76/76 [==============================] - 1s 4ms/step - loss: 0.3545 - accuracy: 0.8445\n",
            "Epoch 1/5\n",
            "151/151 [==============================] - 2s 12ms/step - loss: 0.4297 - accuracy: 0.8152 - val_loss: 0.3712 - val_accuracy: 0.8549\n",
            "Epoch 2/5\n",
            "151/151 [==============================] - 2s 10ms/step - loss: 0.3630 - accuracy: 0.8464 - val_loss: 0.3613 - val_accuracy: 0.8565\n",
            "Epoch 3/5\n",
            "151/151 [==============================] - 2s 10ms/step - loss: 0.3643 - accuracy: 0.8478 - val_loss: 0.3714 - val_accuracy: 0.8635\n",
            "Epoch 4/5\n",
            "151/151 [==============================] - 2s 10ms/step - loss: 0.3467 - accuracy: 0.8539 - val_loss: 0.3488 - val_accuracy: 0.8627\n",
            "Epoch 5/5\n",
            "151/151 [==============================] - 2s 10ms/step - loss: 0.3333 - accuracy: 0.8570 - val_loss: 0.3647 - val_accuracy: 0.8635\n",
            "76/76 [==============================] - 1s 4ms/step - loss: 0.3713 - accuracy: 0.8520\n",
            "Epoch 1/5\n",
            "151/151 [==============================] - 2s 11ms/step - loss: 0.4271 - accuracy: 0.8181 - val_loss: 0.3825 - val_accuracy: 0.8439\n",
            "Epoch 2/5\n",
            "151/151 [==============================] - 2s 10ms/step - loss: 0.3606 - accuracy: 0.8539 - val_loss: 0.3809 - val_accuracy: 0.8431\n",
            "Epoch 3/5\n",
            "151/151 [==============================] - 2s 11ms/step - loss: 0.3406 - accuracy: 0.8634 - val_loss: 0.3751 - val_accuracy: 0.8502\n",
            "Epoch 4/5\n",
            "151/151 [==============================] - 2s 10ms/step - loss: 0.3283 - accuracy: 0.8649 - val_loss: 0.3666 - val_accuracy: 0.8494\n",
            "Epoch 5/5\n",
            "151/151 [==============================] - 2s 10ms/step - loss: 0.3224 - accuracy: 0.8653 - val_loss: 0.3561 - val_accuracy: 0.8494\n",
            "76/76 [==============================] - 1s 4ms/step - loss: 0.3736 - accuracy: 0.8450\n",
            "Epoch 1/5\n",
            "151/151 [==============================] - 1s 5ms/step - loss: 141.8577 - accuracy: 0.7814 - val_loss: 0.6604 - val_accuracy: 0.7890\n",
            "Epoch 2/5\n",
            "151/151 [==============================] - 1s 3ms/step - loss: 0.5623 - accuracy: 0.7984 - val_loss: 0.6584 - val_accuracy: 0.7875\n",
            "Epoch 3/5\n",
            "151/151 [==============================] - 1s 4ms/step - loss: 0.5116 - accuracy: 0.7988 - val_loss: 0.6583 - val_accuracy: 0.7875\n",
            "Epoch 4/5\n",
            "151/151 [==============================] - 1s 4ms/step - loss: 0.5082 - accuracy: 0.7988 - val_loss: 0.6750 - val_accuracy: 0.7875\n",
            "Epoch 5/5\n",
            "151/151 [==============================] - 1s 4ms/step - loss: 0.5101 - accuracy: 0.7988 - val_loss: 0.6596 - val_accuracy: 0.7875\n",
            "76/76 [==============================] - 1s 2ms/step - loss: 0.5081 - accuracy: 0.7958\n",
            "Epoch 1/5\n",
            "151/151 [==============================] - 2s 9ms/step - loss: 122.8569 - accuracy: 0.7382 - val_loss: 0.5202 - val_accuracy: 0.7867\n",
            "Epoch 2/5\n",
            "151/151 [==============================] - 0s 3ms/step - loss: 0.5276 - accuracy: 0.7907 - val_loss: 0.5204 - val_accuracy: 0.7882\n",
            "Epoch 3/5\n",
            "151/151 [==============================] - 1s 3ms/step - loss: 0.5226 - accuracy: 0.7909 - val_loss: 0.5169 - val_accuracy: 0.7882\n",
            "Epoch 4/5\n",
            "151/151 [==============================] - 1s 4ms/step - loss: 0.5180 - accuracy: 0.7909 - val_loss: 0.5292 - val_accuracy: 0.7882\n",
            "Epoch 5/5\n",
            "151/151 [==============================] - 1s 8ms/step - loss: 0.5219 - accuracy: 0.7909 - val_loss: 0.5168 - val_accuracy: 0.7882\n",
            "76/76 [==============================] - 1s 2ms/step - loss: 0.4898 - accuracy: 0.8104\n",
            "Epoch 1/5\n",
            "151/151 [==============================] - 1s 5ms/step - loss: 83.3294 - accuracy: 0.7799 - val_loss: 0.5196 - val_accuracy: 0.7882\n",
            "Epoch 2/5\n",
            "151/151 [==============================] - 1s 4ms/step - loss: 0.7710 - accuracy: 0.8017 - val_loss: 0.5865 - val_accuracy: 0.7882\n",
            "Epoch 3/5\n",
            "151/151 [==============================] - 1s 3ms/step - loss: 0.5039 - accuracy: 0.8022 - val_loss: 0.5166 - val_accuracy: 0.7882\n",
            "Epoch 4/5\n",
            "151/151 [==============================] - 0s 3ms/step - loss: 0.5051 - accuracy: 0.8022 - val_loss: 0.5209 - val_accuracy: 0.7882\n",
            "Epoch 5/5\n",
            "151/151 [==============================] - 0s 3ms/step - loss: 0.5105 - accuracy: 0.8022 - val_loss: 0.5566 - val_accuracy: 0.7882\n",
            "76/76 [==============================] - 0s 2ms/step - loss: 0.5583 - accuracy: 0.7858\n",
            "Epoch 1/5\n",
            "151/151 [==============================] - 1s 4ms/step - loss: 0.5236 - accuracy: 0.7917 - val_loss: 0.4428 - val_accuracy: 0.7890\n",
            "Epoch 2/5\n",
            "151/151 [==============================] - 1s 3ms/step - loss: 0.4627 - accuracy: 0.7984 - val_loss: 0.4605 - val_accuracy: 0.7882\n",
            "Epoch 3/5\n",
            "151/151 [==============================] - 1s 4ms/step - loss: 0.4620 - accuracy: 0.7984 - val_loss: 0.4730 - val_accuracy: 0.7882\n",
            "Epoch 4/5\n",
            "151/151 [==============================] - 1s 3ms/step - loss: 0.4652 - accuracy: 0.7986 - val_loss: 0.4741 - val_accuracy: 0.7882\n",
            "Epoch 5/5\n",
            "151/151 [==============================] - 1s 4ms/step - loss: 0.4593 - accuracy: 0.7986 - val_loss: 0.4885 - val_accuracy: 0.7882\n",
            "76/76 [==============================] - 1s 2ms/step - loss: 0.4784 - accuracy: 0.7954\n",
            "Epoch 1/5\n",
            "151/151 [==============================] - 1s 4ms/step - loss: 0.4951 - accuracy: 0.7968 - val_loss: 0.4200 - val_accuracy: 0.8157\n",
            "Epoch 2/5\n",
            "151/151 [==============================] - 1s 3ms/step - loss: 0.4390 - accuracy: 0.8084 - val_loss: 0.4353 - val_accuracy: 0.7882\n",
            "Epoch 3/5\n",
            "151/151 [==============================] - 1s 3ms/step - loss: 0.4611 - accuracy: 0.7889 - val_loss: 0.9397 - val_accuracy: 0.7663\n",
            "Epoch 4/5\n",
            "151/151 [==============================] - 1s 3ms/step - loss: 0.4335 - accuracy: 0.8003 - val_loss: 0.4654 - val_accuracy: 0.8431\n",
            "Epoch 5/5\n",
            "151/151 [==============================] - 1s 3ms/step - loss: 0.4177 - accuracy: 0.8022 - val_loss: 0.4011 - val_accuracy: 0.8188\n",
            "76/76 [==============================] - 1s 2ms/step - loss: 0.4158 - accuracy: 0.8043\n",
            "Epoch 1/5\n",
            "151/151 [==============================] - 1s 5ms/step - loss: 0.5239 - accuracy: 0.8065 - val_loss: 0.5089 - val_accuracy: 0.7882\n",
            "Epoch 2/5\n",
            "151/151 [==============================] - 1s 4ms/step - loss: 0.4755 - accuracy: 0.8003 - val_loss: 0.4350 - val_accuracy: 0.7882\n",
            "Epoch 3/5\n",
            "151/151 [==============================] - 1s 3ms/step - loss: 0.4363 - accuracy: 0.8036 - val_loss: 0.4746 - val_accuracy: 0.7882\n",
            "Epoch 4/5\n",
            "151/151 [==============================] - 1s 4ms/step - loss: 0.4361 - accuracy: 0.8003 - val_loss: 0.4692 - val_accuracy: 0.7882\n",
            "Epoch 5/5\n",
            "151/151 [==============================] - 1s 3ms/step - loss: 0.4194 - accuracy: 0.8022 - val_loss: 0.4245 - val_accuracy: 0.7882\n",
            "76/76 [==============================] - 1s 2ms/step - loss: 0.4306 - accuracy: 0.7858\n",
            "Epoch 1/5\n",
            "151/151 [==============================] - 1s 4ms/step - loss: 0.6290 - accuracy: 0.7878 - val_loss: 0.4424 - val_accuracy: 0.8165\n",
            "Epoch 2/5\n",
            "151/151 [==============================] - 0s 3ms/step - loss: 0.4551 - accuracy: 0.8187 - val_loss: 0.4663 - val_accuracy: 0.8251\n",
            "Epoch 3/5\n",
            "151/151 [==============================] - 0s 3ms/step - loss: 0.4504 - accuracy: 0.8258 - val_loss: 0.4361 - val_accuracy: 0.8243\n",
            "Epoch 4/5\n",
            "151/151 [==============================] - 0s 3ms/step - loss: 0.4798 - accuracy: 0.8181 - val_loss: 0.4741 - val_accuracy: 0.8008\n",
            "Epoch 5/5\n",
            "151/151 [==============================] - 0s 3ms/step - loss: 0.4722 - accuracy: 0.8108 - val_loss: 0.5798 - val_accuracy: 0.8165\n",
            "76/76 [==============================] - 1s 2ms/step - loss: 0.5496 - accuracy: 0.8113\n",
            "Epoch 1/5\n",
            "151/151 [==============================] - 1s 4ms/step - loss: 0.6308 - accuracy: 0.7851 - val_loss: 0.4949 - val_accuracy: 0.7882\n",
            "Epoch 2/5\n",
            "151/151 [==============================] - 0s 3ms/step - loss: 0.4646 - accuracy: 0.8030 - val_loss: 0.4895 - val_accuracy: 0.7780\n",
            "Epoch 3/5\n",
            "151/151 [==============================] - 1s 3ms/step - loss: 0.4778 - accuracy: 0.7951 - val_loss: 0.4754 - val_accuracy: 0.7882\n",
            "Epoch 4/5\n",
            "151/151 [==============================] - 0s 3ms/step - loss: 0.4832 - accuracy: 0.7909 - val_loss: 0.4924 - val_accuracy: 0.7882\n",
            "Epoch 5/5\n",
            "151/151 [==============================] - 0s 3ms/step - loss: 0.5060 - accuracy: 0.7876 - val_loss: 0.6337 - val_accuracy: 0.7882\n",
            "76/76 [==============================] - 0s 2ms/step - loss: 0.5070 - accuracy: 0.8104\n",
            "Epoch 1/5\n",
            "151/151 [==============================] - 1s 4ms/step - loss: 0.6175 - accuracy: 0.7980 - val_loss: 0.5445 - val_accuracy: 0.7953\n",
            "Epoch 2/5\n",
            "151/151 [==============================] - 1s 3ms/step - loss: 0.5123 - accuracy: 0.8123 - val_loss: 0.4406 - val_accuracy: 0.8086\n",
            "Epoch 3/5\n",
            "151/151 [==============================] - 0s 3ms/step - loss: 0.4758 - accuracy: 0.8148 - val_loss: 0.5017 - val_accuracy: 0.7969\n",
            "Epoch 4/5\n",
            "151/151 [==============================] - 0s 3ms/step - loss: 0.4860 - accuracy: 0.8073 - val_loss: 0.5203 - val_accuracy: 0.8188\n",
            "Epoch 5/5\n",
            "151/151 [==============================] - 0s 3ms/step - loss: 0.5079 - accuracy: 0.8076 - val_loss: 0.5142 - val_accuracy: 0.7898\n",
            "76/76 [==============================] - 0s 2ms/step - loss: 0.5136 - accuracy: 0.7882\n",
            "Epoch 1/5\n",
            "151/151 [==============================] - 2s 8ms/step - loss: 2.0311 - accuracy: 0.7787 - val_loss: 0.5195 - val_accuracy: 0.7882\n",
            "Epoch 2/5\n",
            "151/151 [==============================] - 1s 4ms/step - loss: 0.5072 - accuracy: 0.7984 - val_loss: 0.5194 - val_accuracy: 0.7882\n",
            "Epoch 3/5\n",
            "151/151 [==============================] - 1s 4ms/step - loss: 0.5036 - accuracy: 0.7986 - val_loss: 0.5181 - val_accuracy: 0.7882\n",
            "Epoch 4/5\n",
            "151/151 [==============================] - 1s 4ms/step - loss: 0.5037 - accuracy: 0.7986 - val_loss: 0.5182 - val_accuracy: 0.7882\n",
            "Epoch 5/5\n",
            "151/151 [==============================] - 1s 4ms/step - loss: 0.5035 - accuracy: 0.7986 - val_loss: 0.5163 - val_accuracy: 0.7882\n",
            "76/76 [==============================] - 1s 2ms/step - loss: 0.5079 - accuracy: 0.7954\n",
            "Epoch 1/5\n",
            "151/151 [==============================] - 1s 5ms/step - loss: 3.8711 - accuracy: 0.7723 - val_loss: 0.5200 - val_accuracy: 0.7875\n",
            "Epoch 2/5\n",
            "151/151 [==============================] - 1s 4ms/step - loss: 0.5141 - accuracy: 0.7907 - val_loss: 0.5187 - val_accuracy: 0.7882\n",
            "Epoch 3/5\n",
            "151/151 [==============================] - 1s 4ms/step - loss: 0.5139 - accuracy: 0.7909 - val_loss: 0.5163 - val_accuracy: 0.7882\n",
            "Epoch 4/5\n",
            "151/151 [==============================] - 1s 4ms/step - loss: 0.5139 - accuracy: 0.7909 - val_loss: 0.5163 - val_accuracy: 0.7882\n",
            "Epoch 5/5\n",
            "151/151 [==============================] - 1s 4ms/step - loss: 0.5138 - accuracy: 0.7909 - val_loss: 0.5177 - val_accuracy: 0.7882\n",
            "76/76 [==============================] - 1s 2ms/step - loss: 0.4865 - accuracy: 0.8104\n",
            "Epoch 1/5\n",
            "151/151 [==============================] - 1s 5ms/step - loss: 4.5653 - accuracy: 0.7847 - val_loss: 0.5210 - val_accuracy: 0.7882\n",
            "Epoch 2/5\n",
            "151/151 [==============================] - 1s 4ms/step - loss: 0.5281 - accuracy: 0.8009 - val_loss: 0.5164 - val_accuracy: 0.7882\n",
            "Epoch 3/5\n",
            "151/151 [==============================] - 1s 5ms/step - loss: 0.5002 - accuracy: 0.8022 - val_loss: 0.5166 - val_accuracy: 0.7882\n",
            "Epoch 4/5\n",
            "151/151 [==============================] - 1s 4ms/step - loss: 0.4981 - accuracy: 0.8022 - val_loss: 0.5164 - val_accuracy: 0.7882\n",
            "Epoch 5/5\n",
            "151/151 [==============================] - 1s 4ms/step - loss: 0.4984 - accuracy: 0.8022 - val_loss: 0.5202 - val_accuracy: 0.7882\n",
            "76/76 [==============================] - 1s 2ms/step - loss: 0.5215 - accuracy: 0.7858\n",
            "Epoch 1/5\n",
            "226/226 [==============================] - 3s 11ms/step - loss: 0.4110 - accuracy: 0.8292 - val_loss: 0.3641 - val_accuracy: 0.8596\n",
            "Epoch 2/5\n",
            "226/226 [==============================] - 2s 10ms/step - loss: 0.3594 - accuracy: 0.8543 - val_loss: 0.3585 - val_accuracy: 0.8549\n",
            "Epoch 3/5\n",
            "226/226 [==============================] - 2s 10ms/step - loss: 0.3438 - accuracy: 0.8580 - val_loss: 0.3627 - val_accuracy: 0.8573\n",
            "Epoch 4/5\n",
            "226/226 [==============================] - 2s 10ms/step - loss: 0.3410 - accuracy: 0.8594 - val_loss: 0.3672 - val_accuracy: 0.8533\n",
            "Epoch 5/5\n",
            "226/226 [==============================] - 2s 10ms/step - loss: 0.3339 - accuracy: 0.8617 - val_loss: 0.3622 - val_accuracy: 0.8573\n"
          ]
        }
      ]
    },
    {
      "cell_type": "code",
      "source": [
        "history.best_params_"
      ],
      "metadata": {
        "colab": {
          "base_uri": "https://localhost:8080/"
        },
        "id": "BhCL3iYD6o2r",
        "outputId": "96b4c850-30c8-4356-de38-cdcce42eaeee"
      },
      "execution_count": 37,
      "outputs": [
        {
          "output_type": "execute_result",
          "data": {
            "text/plain": [
              "{'units': 350, 'lr': 0.001, 'layers': 5}"
            ]
          },
          "metadata": {},
          "execution_count": 37
        }
      ]
    },
    {
      "cell_type": "code",
      "source": [
        "history.best_score_"
      ],
      "metadata": {
        "colab": {
          "base_uri": "https://localhost:8080/"
        },
        "id": "2OPAYJKI6o5N",
        "outputId": "b8ebe557-4da2-4bbe-cd52-59ee350d7e59"
      },
      "execution_count": 39,
      "outputs": [
        {
          "output_type": "execute_result",
          "data": {
            "text/plain": [
              "0.847161332766215"
            ]
          },
          "metadata": {},
          "execution_count": 39
        }
      ]
    },
    {
      "cell_type": "code",
      "source": [
        "final_model = history.best_estimator_"
      ],
      "metadata": {
        "id": "r81iTNOzyZxb"
      },
      "execution_count": 40,
      "outputs": []
    },
    {
      "cell_type": "code",
      "source": [
        "model_history = final_model.fit(train_X, train_Y, epochs = 50, validation_data = (test_X, test_Y))"
      ],
      "metadata": {
        "id": "lB69DTqCH7d-",
        "outputId": "cc9dacaf-17d8-4e0d-ebe7-f6035b67c7ba",
        "colab": {
          "base_uri": "https://localhost:8080/"
        }
      },
      "execution_count": 41,
      "outputs": [
        {
          "output_type": "stream",
          "name": "stdout",
          "text": [
            "Epoch 1/50\n",
            "226/226 [==============================] - 3s 11ms/step - loss: 0.4103 - accuracy: 0.8296 - val_loss: 0.4250 - val_accuracy: 0.8360\n",
            "Epoch 2/50\n",
            "226/226 [==============================] - 2s 10ms/step - loss: 0.3606 - accuracy: 0.8537 - val_loss: 0.3883 - val_accuracy: 0.8313\n",
            "Epoch 3/50\n",
            "226/226 [==============================] - 2s 10ms/step - loss: 0.3464 - accuracy: 0.8573 - val_loss: 0.3776 - val_accuracy: 0.8480\n",
            "Epoch 4/50\n",
            "226/226 [==============================] - 2s 10ms/step - loss: 0.3414 - accuracy: 0.8580 - val_loss: 0.3720 - val_accuracy: 0.8427\n",
            "Epoch 5/50\n",
            "226/226 [==============================] - 2s 10ms/step - loss: 0.3360 - accuracy: 0.8609 - val_loss: 0.3819 - val_accuracy: 0.8513\n",
            "Epoch 6/50\n",
            "226/226 [==============================] - 2s 10ms/step - loss: 0.3304 - accuracy: 0.8588 - val_loss: 0.3801 - val_accuracy: 0.8513\n",
            "Epoch 7/50\n",
            "226/226 [==============================] - 2s 10ms/step - loss: 0.3244 - accuracy: 0.8633 - val_loss: 0.3800 - val_accuracy: 0.8467\n",
            "Epoch 8/50\n",
            "226/226 [==============================] - 2s 10ms/step - loss: 0.3182 - accuracy: 0.8648 - val_loss: 0.3911 - val_accuracy: 0.8427\n",
            "Epoch 9/50\n",
            "226/226 [==============================] - 2s 10ms/step - loss: 0.3145 - accuracy: 0.8641 - val_loss: 0.4016 - val_accuracy: 0.8493\n",
            "Epoch 10/50\n",
            "226/226 [==============================] - 2s 10ms/step - loss: 0.3055 - accuracy: 0.8667 - val_loss: 0.3824 - val_accuracy: 0.8420\n",
            "Epoch 11/50\n",
            "226/226 [==============================] - 2s 10ms/step - loss: 0.3028 - accuracy: 0.8703 - val_loss: 0.3948 - val_accuracy: 0.8393\n",
            "Epoch 12/50\n",
            "226/226 [==============================] - 2s 10ms/step - loss: 0.2959 - accuracy: 0.8734 - val_loss: 0.4006 - val_accuracy: 0.8440\n",
            "Epoch 13/50\n",
            "226/226 [==============================] - 2s 11ms/step - loss: 0.2853 - accuracy: 0.8739 - val_loss: 0.4056 - val_accuracy: 0.8480\n",
            "Epoch 14/50\n",
            "226/226 [==============================] - 2s 10ms/step - loss: 0.2775 - accuracy: 0.8752 - val_loss: 0.4082 - val_accuracy: 0.8467\n",
            "Epoch 15/50\n",
            "226/226 [==============================] - 2s 10ms/step - loss: 0.2730 - accuracy: 0.8761 - val_loss: 0.4512 - val_accuracy: 0.8427\n",
            "Epoch 16/50\n",
            "226/226 [==============================] - 2s 10ms/step - loss: 0.2670 - accuracy: 0.8812 - val_loss: 0.4478 - val_accuracy: 0.8400\n",
            "Epoch 17/50\n",
            "226/226 [==============================] - 2s 10ms/step - loss: 0.2545 - accuracy: 0.8842 - val_loss: 0.4743 - val_accuracy: 0.8480\n",
            "Epoch 18/50\n",
            "226/226 [==============================] - 2s 10ms/step - loss: 0.2446 - accuracy: 0.8872 - val_loss: 0.4822 - val_accuracy: 0.8473\n",
            "Epoch 19/50\n",
            "226/226 [==============================] - 2s 10ms/step - loss: 0.2349 - accuracy: 0.8929 - val_loss: 0.5811 - val_accuracy: 0.8400\n",
            "Epoch 20/50\n",
            "226/226 [==============================] - 2s 10ms/step - loss: 0.2304 - accuracy: 0.8940 - val_loss: 0.5250 - val_accuracy: 0.8327\n",
            "Epoch 21/50\n",
            "226/226 [==============================] - 2s 10ms/step - loss: 0.2234 - accuracy: 0.8992 - val_loss: 0.5689 - val_accuracy: 0.8327\n",
            "Epoch 22/50\n",
            "226/226 [==============================] - 2s 10ms/step - loss: 0.2085 - accuracy: 0.9041 - val_loss: 0.6351 - val_accuracy: 0.8333\n",
            "Epoch 23/50\n",
            "226/226 [==============================] - 2s 10ms/step - loss: 0.2033 - accuracy: 0.9038 - val_loss: 0.6909 - val_accuracy: 0.8193\n",
            "Epoch 24/50\n",
            "226/226 [==============================] - 2s 10ms/step - loss: 0.1963 - accuracy: 0.9088 - val_loss: 0.8564 - val_accuracy: 0.8200\n",
            "Epoch 25/50\n",
            "226/226 [==============================] - 2s 10ms/step - loss: 0.1865 - accuracy: 0.9157 - val_loss: 0.7213 - val_accuracy: 0.8340\n",
            "Epoch 26/50\n",
            "226/226 [==============================] - 2s 10ms/step - loss: 0.1755 - accuracy: 0.9199 - val_loss: 0.8433 - val_accuracy: 0.8027\n",
            "Epoch 27/50\n",
            "226/226 [==============================] - 2s 10ms/step - loss: 0.1686 - accuracy: 0.9228 - val_loss: 0.8284 - val_accuracy: 0.8140\n",
            "Epoch 28/50\n",
            "226/226 [==============================] - 2s 10ms/step - loss: 0.1614 - accuracy: 0.9229 - val_loss: 0.8412 - val_accuracy: 0.8087\n",
            "Epoch 29/50\n",
            "226/226 [==============================] - 2s 10ms/step - loss: 0.1479 - accuracy: 0.9356 - val_loss: 1.0813 - val_accuracy: 0.8127\n",
            "Epoch 30/50\n",
            "226/226 [==============================] - 2s 10ms/step - loss: 0.1467 - accuracy: 0.9369 - val_loss: 0.7447 - val_accuracy: 0.8180\n",
            "Epoch 31/50\n",
            "226/226 [==============================] - 2s 10ms/step - loss: 0.1305 - accuracy: 0.9439 - val_loss: 1.0872 - val_accuracy: 0.8147\n",
            "Epoch 32/50\n",
            "226/226 [==============================] - 2s 10ms/step - loss: 0.1367 - accuracy: 0.9420 - val_loss: 0.9829 - val_accuracy: 0.8047\n",
            "Epoch 33/50\n",
            "226/226 [==============================] - 2s 10ms/step - loss: 0.1335 - accuracy: 0.9442 - val_loss: 1.0131 - val_accuracy: 0.8000\n",
            "Epoch 34/50\n",
            "226/226 [==============================] - 2s 10ms/step - loss: 0.1235 - accuracy: 0.9491 - val_loss: 1.0872 - val_accuracy: 0.8213\n",
            "Epoch 35/50\n",
            "226/226 [==============================] - 2s 10ms/step - loss: 0.1104 - accuracy: 0.9507 - val_loss: 1.1552 - val_accuracy: 0.8113\n",
            "Epoch 36/50\n",
            "226/226 [==============================] - 2s 10ms/step - loss: 0.1002 - accuracy: 0.9579 - val_loss: 1.1423 - val_accuracy: 0.8127\n",
            "Epoch 37/50\n",
            "226/226 [==============================] - 2s 10ms/step - loss: 0.1056 - accuracy: 0.9583 - val_loss: 0.9510 - val_accuracy: 0.8213\n",
            "Epoch 38/50\n",
            "226/226 [==============================] - 2s 11ms/step - loss: 0.0938 - accuracy: 0.9596 - val_loss: 1.2024 - val_accuracy: 0.8147\n",
            "Epoch 39/50\n",
            "226/226 [==============================] - 2s 10ms/step - loss: 0.0911 - accuracy: 0.9647 - val_loss: 1.2931 - val_accuracy: 0.8127\n",
            "Epoch 40/50\n",
            "226/226 [==============================] - 2s 10ms/step - loss: 0.0838 - accuracy: 0.9655 - val_loss: 1.4711 - val_accuracy: 0.8007\n",
            "Epoch 41/50\n",
            "226/226 [==============================] - 2s 10ms/step - loss: 0.0880 - accuracy: 0.9644 - val_loss: 1.1804 - val_accuracy: 0.8033\n",
            "Epoch 42/50\n",
            "226/226 [==============================] - 2s 10ms/step - loss: 0.0880 - accuracy: 0.9662 - val_loss: 1.0699 - val_accuracy: 0.8100\n",
            "Epoch 43/50\n",
            "226/226 [==============================] - 2s 10ms/step - loss: 0.0863 - accuracy: 0.9684 - val_loss: 1.0158 - val_accuracy: 0.8200\n",
            "Epoch 44/50\n",
            "226/226 [==============================] - 2s 10ms/step - loss: 0.0736 - accuracy: 0.9711 - val_loss: 1.2597 - val_accuracy: 0.7993\n",
            "Epoch 45/50\n",
            "226/226 [==============================] - 2s 10ms/step - loss: 0.0688 - accuracy: 0.9727 - val_loss: 1.3399 - val_accuracy: 0.8180\n",
            "Epoch 46/50\n",
            "226/226 [==============================] - 2s 10ms/step - loss: 0.0671 - accuracy: 0.9738 - val_loss: 1.5831 - val_accuracy: 0.8127\n",
            "Epoch 47/50\n",
            "226/226 [==============================] - 2s 10ms/step - loss: 0.0775 - accuracy: 0.9716 - val_loss: 1.0481 - val_accuracy: 0.8040\n",
            "Epoch 48/50\n",
            "226/226 [==============================] - 2s 10ms/step - loss: 0.0656 - accuracy: 0.9758 - val_loss: 1.3045 - val_accuracy: 0.8047\n",
            "Epoch 49/50\n",
            "226/226 [==============================] - 2s 10ms/step - loss: 0.0632 - accuracy: 0.9779 - val_loss: 1.1572 - val_accuracy: 0.8120\n",
            "Epoch 50/50\n",
            "226/226 [==============================] - 2s 10ms/step - loss: 0.0592 - accuracy: 0.9773 - val_loss: 1.3885 - val_accuracy: 0.8087\n"
          ]
        }
      ]
    },
    {
      "cell_type": "code",
      "source": [
        "# Plotting the accuracies and losses for valdiation and training data\n",
        "\n",
        "plt.plot(model_history.history[\"loss\"], color = \"green\")\n",
        "plt.plot(model_history.history[\"val_loss\"])\n",
        "plt.title(\"LOSS\")"
      ],
      "metadata": {
        "colab": {
          "base_uri": "https://localhost:8080/",
          "height": 298
        },
        "id": "s_xORgwRylZt",
        "outputId": "fa80b2ad-be3b-43cb-f967-23331852de34"
      },
      "execution_count": 42,
      "outputs": [
        {
          "output_type": "execute_result",
          "data": {
            "text/plain": [
              "Text(0.5, 1.0, 'LOSS')"
            ]
          },
          "metadata": {},
          "execution_count": 42
        },
        {
          "output_type": "display_data",
          "data": {
            "text/plain": [
              "<Figure size 432x288 with 1 Axes>"
            ],
            "image/png": "[encoded data removed]"
          },
          "metadata": {
            "needs_background": "light"
          }
        }
      ]
    },
    {
      "cell_type": "code",
      "source": [
        "plt.plot(model_history.history[\"val_accuracy\"])\n",
        "plt.plot(model_history.history[\"accuracy\"], color=\"green\")\n",
        "plt.title(\"ACCURACY\")"
      ],
      "metadata": {
        "colab": {
          "base_uri": "https://localhost:8080/",
          "height": 298
        },
        "id": "L2A192EczEtH",
        "outputId": "1d6b1ff3-e8f5-440f-e7c6-482a4e831ba5"
      },
      "execution_count": 43,
      "outputs": [
        {
          "output_type": "execute_result",
          "data": {
            "text/plain": [
              "Text(0.5, 1.0, 'ACCURACY')"
            ]
          },
          "metadata": {},
          "execution_count": 43
        },
        {
          "output_type": "display_data",
          "data": {
            "text/plain": [
              "<Figure size 432x288 with 1 Axes>"
            ],
            "image/png": "[encoded data removed]"
          },
          "metadata": {
            "needs_background": "light"
          }
        }
      ]
    },
    {
      "cell_type": "markdown",
      "source": [
        "Since the accuracy is improving over epoch and we can observe that val_accuracy is not defined"
      ],
      "metadata": {
        "id": "JvNwBPj-Jiww"
      }
    },
    {
      "cell_type": "code",
      "source": [
        "import pickle "
      ],
      "metadata": {
        "id": "tfFZf6dbzPmJ"
      },
      "execution_count": 44,
      "outputs": []
    },
    {
      "cell_type": "code",
      "source": [
        "file_ = open(\"model_.pkl\",\"wb\")\n",
        "\n",
        "pickle.dump(final_model,file_)"
      ],
      "metadata": {
        "id": "09va41Aj0uT_"
      },
      "execution_count": 45,
      "outputs": []
    },
    {
      "cell_type": "code",
      "source": [
        "file_.close()"
      ],
      "metadata": {
        "id": "OWC4ZRMD01TJ"
      },
      "execution_count": 46,
      "outputs": []
    },
    {
      "cell_type": "code",
      "source": [
        "pip freeze > requirements.txt"
      ],
      "metadata": {
        "id": "kiDsED5vVBxN"
      },
      "execution_count": null,
      "outputs": []
    },
    {
      "cell_type": "code",
      "source": [
        ""
      ],
      "metadata": {
        "id": "AoCn3MX2SGwd"
      },
      "execution_count": null,
      "outputs": []
    }
  ]
}